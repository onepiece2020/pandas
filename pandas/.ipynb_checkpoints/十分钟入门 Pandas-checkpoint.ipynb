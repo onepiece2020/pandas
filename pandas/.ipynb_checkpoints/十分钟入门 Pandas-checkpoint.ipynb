{
 "cells": [
  {
   "cell_type": "markdown",
   "metadata": {},
   "source": [
    "# 十分钟入门 Pandas"
   ]
  },
  {
   "cell_type": "code",
   "execution_count": 220,
   "metadata": {},
   "outputs": [],
   "source": [
    "import numpy as np\n",
    "import pandas as pd"
   ]
  },
  {
   "cell_type": "markdown",
   "metadata": {},
   "source": [
    "# 1.生成对象"
   ]
  },
  {
   "cell_type": "code",
   "execution_count": 221,
   "metadata": {},
   "outputs": [
    {
     "data": {
      "text/plain": [
       "0    1.0\n",
       "1    3.0\n",
       "2    5.0\n",
       "3    NaN\n",
       "4    6.0\n",
       "5    8.0\n",
       "dtype: float64"
      ]
     },
     "execution_count": 221,
     "metadata": {},
     "output_type": "execute_result"
    }
   ],
   "source": [
    "#用值列表生成 Series 时，Pandas 默认自动生成整数索引：\n",
    "s=pd.Series([1,3,5,np.nan,6,8])\n",
    "s"
   ]
  },
  {
   "cell_type": "code",
   "execution_count": 222,
   "metadata": {},
   "outputs": [
    {
     "data": {
      "text/plain": [
       "DatetimeIndex(['2019-12-13', '2019-12-14', '2019-12-15', '2019-12-16',\n",
       "               '2019-12-17', '2019-12-18'],\n",
       "              dtype='datetime64[ns]', freq='D')"
      ]
     },
     "execution_count": 222,
     "metadata": {},
     "output_type": "execute_result"
    }
   ],
   "source": [
    "#用含日期时间索引与标签的 NumPy 数组生成 DataFrame:\n",
    "dates=pd.date_range('20191213',periods=6)\n",
    "dates"
   ]
  },
  {
   "cell_type": "code",
   "execution_count": 223,
   "metadata": {},
   "outputs": [
    {
     "data": {
      "text/html": [
       "<div>\n",
       "<style scoped>\n",
       "    .dataframe tbody tr th:only-of-type {\n",
       "        vertical-align: middle;\n",
       "    }\n",
       "\n",
       "    .dataframe tbody tr th {\n",
       "        vertical-align: top;\n",
       "    }\n",
       "\n",
       "    .dataframe thead th {\n",
       "        text-align: right;\n",
       "    }\n",
       "</style>\n",
       "<table border=\"1\" class=\"dataframe\">\n",
       "  <thead>\n",
       "    <tr style=\"text-align: right;\">\n",
       "      <th></th>\n",
       "      <th>A</th>\n",
       "      <th>B</th>\n",
       "      <th>C</th>\n",
       "      <th>D</th>\n",
       "    </tr>\n",
       "  </thead>\n",
       "  <tbody>\n",
       "    <tr>\n",
       "      <th>2019-12-13</th>\n",
       "      <td>-0.585100</td>\n",
       "      <td>1.628556</td>\n",
       "      <td>-1.872226</td>\n",
       "      <td>-1.833033</td>\n",
       "    </tr>\n",
       "    <tr>\n",
       "      <th>2019-12-14</th>\n",
       "      <td>1.064775</td>\n",
       "      <td>0.215565</td>\n",
       "      <td>-1.399917</td>\n",
       "      <td>-1.805209</td>\n",
       "    </tr>\n",
       "    <tr>\n",
       "      <th>2019-12-15</th>\n",
       "      <td>0.478223</td>\n",
       "      <td>0.553351</td>\n",
       "      <td>0.959952</td>\n",
       "      <td>1.895294</td>\n",
       "    </tr>\n",
       "    <tr>\n",
       "      <th>2019-12-16</th>\n",
       "      <td>0.510230</td>\n",
       "      <td>-1.291492</td>\n",
       "      <td>0.369808</td>\n",
       "      <td>-0.006208</td>\n",
       "    </tr>\n",
       "    <tr>\n",
       "      <th>2019-12-17</th>\n",
       "      <td>-0.014780</td>\n",
       "      <td>0.282347</td>\n",
       "      <td>-0.463684</td>\n",
       "      <td>-0.348046</td>\n",
       "    </tr>\n",
       "    <tr>\n",
       "      <th>2019-12-18</th>\n",
       "      <td>-0.758198</td>\n",
       "      <td>-0.203642</td>\n",
       "      <td>-1.253731</td>\n",
       "      <td>0.694161</td>\n",
       "    </tr>\n",
       "  </tbody>\n",
       "</table>\n",
       "</div>"
      ],
      "text/plain": [
       "                   A         B         C         D\n",
       "2019-12-13 -0.585100  1.628556 -1.872226 -1.833033\n",
       "2019-12-14  1.064775  0.215565 -1.399917 -1.805209\n",
       "2019-12-15  0.478223  0.553351  0.959952  1.895294\n",
       "2019-12-16  0.510230 -1.291492  0.369808 -0.006208\n",
       "2019-12-17 -0.014780  0.282347 -0.463684 -0.348046\n",
       "2019-12-18 -0.758198 -0.203642 -1.253731  0.694161"
      ]
     },
     "execution_count": 223,
     "metadata": {},
     "output_type": "execute_result"
    }
   ],
   "source": [
    "df=pd.DataFrame(np.random.randn(6,4),index=dates,columns=list('ABCD'))\n",
    "df"
   ]
  },
  {
   "cell_type": "code",
   "execution_count": 224,
   "metadata": {},
   "outputs": [
    {
     "data": {
      "text/html": [
       "<div>\n",
       "<style scoped>\n",
       "    .dataframe tbody tr th:only-of-type {\n",
       "        vertical-align: middle;\n",
       "    }\n",
       "\n",
       "    .dataframe tbody tr th {\n",
       "        vertical-align: top;\n",
       "    }\n",
       "\n",
       "    .dataframe thead th {\n",
       "        text-align: right;\n",
       "    }\n",
       "</style>\n",
       "<table border=\"1\" class=\"dataframe\">\n",
       "  <thead>\n",
       "    <tr style=\"text-align: right;\">\n",
       "      <th></th>\n",
       "      <th>A</th>\n",
       "      <th>B</th>\n",
       "      <th>C</th>\n",
       "      <th>D</th>\n",
       "      <th>E</th>\n",
       "      <th>F</th>\n",
       "    </tr>\n",
       "  </thead>\n",
       "  <tbody>\n",
       "    <tr>\n",
       "      <th>0</th>\n",
       "      <td>1.0</td>\n",
       "      <td>2019-12-13</td>\n",
       "      <td>1.0</td>\n",
       "      <td>3</td>\n",
       "      <td>test</td>\n",
       "      <td>foo</td>\n",
       "    </tr>\n",
       "    <tr>\n",
       "      <th>1</th>\n",
       "      <td>1.0</td>\n",
       "      <td>2019-12-13</td>\n",
       "      <td>1.0</td>\n",
       "      <td>3</td>\n",
       "      <td>train</td>\n",
       "      <td>foo</td>\n",
       "    </tr>\n",
       "    <tr>\n",
       "      <th>2</th>\n",
       "      <td>1.0</td>\n",
       "      <td>2019-12-13</td>\n",
       "      <td>1.0</td>\n",
       "      <td>3</td>\n",
       "      <td>test</td>\n",
       "      <td>foo</td>\n",
       "    </tr>\n",
       "    <tr>\n",
       "      <th>3</th>\n",
       "      <td>1.0</td>\n",
       "      <td>2019-12-13</td>\n",
       "      <td>1.0</td>\n",
       "      <td>3</td>\n",
       "      <td>train</td>\n",
       "      <td>foo</td>\n",
       "    </tr>\n",
       "  </tbody>\n",
       "</table>\n",
       "</div>"
      ],
      "text/plain": [
       "     A          B    C  D      E    F\n",
       "0  1.0 2019-12-13  1.0  3   test  foo\n",
       "1  1.0 2019-12-13  1.0  3  train  foo\n",
       "2  1.0 2019-12-13  1.0  3   test  foo\n",
       "3  1.0 2019-12-13  1.0  3  train  foo"
      ]
     },
     "execution_count": 224,
     "metadata": {},
     "output_type": "execute_result"
    }
   ],
   "source": [
    "#用 Series 字典对象生成 DataFrame:\n",
    "df2=pd.DataFrame({'A':1.,\n",
    "                  'B':pd.Timestamp('20191213'),\n",
    "                  'C':pd.Series(1,index=list(range(4)),dtype='float32'),\n",
    "                  'D':np.array([3]*4,dtype='int32'),\n",
    "                  'E':pd.Categorical([\"test\",\"train\",\"test\",\"train\"]),\n",
    "                  'F':'foo'})\n",
    "df2"
   ]
  },
  {
   "cell_type": "code",
   "execution_count": 225,
   "metadata": {},
   "outputs": [
    {
     "data": {
      "text/plain": [
       "A           float64\n",
       "B    datetime64[ns]\n",
       "C           float32\n",
       "D             int32\n",
       "E          category\n",
       "F            object\n",
       "dtype: object"
      ]
     },
     "execution_count": 225,
     "metadata": {},
     "output_type": "execute_result"
    }
   ],
   "source": [
    "#DataFrame 的列有不同数据类型\n",
    "df2.dtypes"
   ]
  },
  {
   "cell_type": "markdown",
   "metadata": {},
   "source": [
    "# 2.查看数据"
   ]
  },
  {
   "cell_type": "code",
   "execution_count": 226,
   "metadata": {},
   "outputs": [
    {
     "data": {
      "text/html": [
       "<div>\n",
       "<style scoped>\n",
       "    .dataframe tbody tr th:only-of-type {\n",
       "        vertical-align: middle;\n",
       "    }\n",
       "\n",
       "    .dataframe tbody tr th {\n",
       "        vertical-align: top;\n",
       "    }\n",
       "\n",
       "    .dataframe thead th {\n",
       "        text-align: right;\n",
       "    }\n",
       "</style>\n",
       "<table border=\"1\" class=\"dataframe\">\n",
       "  <thead>\n",
       "    <tr style=\"text-align: right;\">\n",
       "      <th></th>\n",
       "      <th>A</th>\n",
       "      <th>B</th>\n",
       "      <th>C</th>\n",
       "      <th>D</th>\n",
       "    </tr>\n",
       "  </thead>\n",
       "  <tbody>\n",
       "    <tr>\n",
       "      <th>2019-12-13</th>\n",
       "      <td>-0.585100</td>\n",
       "      <td>1.628556</td>\n",
       "      <td>-1.872226</td>\n",
       "      <td>-1.833033</td>\n",
       "    </tr>\n",
       "    <tr>\n",
       "      <th>2019-12-14</th>\n",
       "      <td>1.064775</td>\n",
       "      <td>0.215565</td>\n",
       "      <td>-1.399917</td>\n",
       "      <td>-1.805209</td>\n",
       "    </tr>\n",
       "    <tr>\n",
       "      <th>2019-12-15</th>\n",
       "      <td>0.478223</td>\n",
       "      <td>0.553351</td>\n",
       "      <td>0.959952</td>\n",
       "      <td>1.895294</td>\n",
       "    </tr>\n",
       "    <tr>\n",
       "      <th>2019-12-16</th>\n",
       "      <td>0.510230</td>\n",
       "      <td>-1.291492</td>\n",
       "      <td>0.369808</td>\n",
       "      <td>-0.006208</td>\n",
       "    </tr>\n",
       "    <tr>\n",
       "      <th>2019-12-17</th>\n",
       "      <td>-0.014780</td>\n",
       "      <td>0.282347</td>\n",
       "      <td>-0.463684</td>\n",
       "      <td>-0.348046</td>\n",
       "    </tr>\n",
       "  </tbody>\n",
       "</table>\n",
       "</div>"
      ],
      "text/plain": [
       "                   A         B         C         D\n",
       "2019-12-13 -0.585100  1.628556 -1.872226 -1.833033\n",
       "2019-12-14  1.064775  0.215565 -1.399917 -1.805209\n",
       "2019-12-15  0.478223  0.553351  0.959952  1.895294\n",
       "2019-12-16  0.510230 -1.291492  0.369808 -0.006208\n",
       "2019-12-17 -0.014780  0.282347 -0.463684 -0.348046"
      ]
     },
     "execution_count": 226,
     "metadata": {},
     "output_type": "execute_result"
    }
   ],
   "source": [
    "#查看 DataFrame 头部和尾部数据\n",
    "df.head()"
   ]
  },
  {
   "cell_type": "code",
   "execution_count": 227,
   "metadata": {},
   "outputs": [
    {
     "data": {
      "text/html": [
       "<div>\n",
       "<style scoped>\n",
       "    .dataframe tbody tr th:only-of-type {\n",
       "        vertical-align: middle;\n",
       "    }\n",
       "\n",
       "    .dataframe tbody tr th {\n",
       "        vertical-align: top;\n",
       "    }\n",
       "\n",
       "    .dataframe thead th {\n",
       "        text-align: right;\n",
       "    }\n",
       "</style>\n",
       "<table border=\"1\" class=\"dataframe\">\n",
       "  <thead>\n",
       "    <tr style=\"text-align: right;\">\n",
       "      <th></th>\n",
       "      <th>A</th>\n",
       "      <th>B</th>\n",
       "      <th>C</th>\n",
       "      <th>D</th>\n",
       "    </tr>\n",
       "  </thead>\n",
       "  <tbody>\n",
       "    <tr>\n",
       "      <th>2019-12-14</th>\n",
       "      <td>1.064775</td>\n",
       "      <td>0.215565</td>\n",
       "      <td>-1.399917</td>\n",
       "      <td>-1.805209</td>\n",
       "    </tr>\n",
       "    <tr>\n",
       "      <th>2019-12-15</th>\n",
       "      <td>0.478223</td>\n",
       "      <td>0.553351</td>\n",
       "      <td>0.959952</td>\n",
       "      <td>1.895294</td>\n",
       "    </tr>\n",
       "    <tr>\n",
       "      <th>2019-12-16</th>\n",
       "      <td>0.510230</td>\n",
       "      <td>-1.291492</td>\n",
       "      <td>0.369808</td>\n",
       "      <td>-0.006208</td>\n",
       "    </tr>\n",
       "    <tr>\n",
       "      <th>2019-12-17</th>\n",
       "      <td>-0.014780</td>\n",
       "      <td>0.282347</td>\n",
       "      <td>-0.463684</td>\n",
       "      <td>-0.348046</td>\n",
       "    </tr>\n",
       "    <tr>\n",
       "      <th>2019-12-18</th>\n",
       "      <td>-0.758198</td>\n",
       "      <td>-0.203642</td>\n",
       "      <td>-1.253731</td>\n",
       "      <td>0.694161</td>\n",
       "    </tr>\n",
       "  </tbody>\n",
       "</table>\n",
       "</div>"
      ],
      "text/plain": [
       "                   A         B         C         D\n",
       "2019-12-14  1.064775  0.215565 -1.399917 -1.805209\n",
       "2019-12-15  0.478223  0.553351  0.959952  1.895294\n",
       "2019-12-16  0.510230 -1.291492  0.369808 -0.006208\n",
       "2019-12-17 -0.014780  0.282347 -0.463684 -0.348046\n",
       "2019-12-18 -0.758198 -0.203642 -1.253731  0.694161"
      ]
     },
     "execution_count": 227,
     "metadata": {},
     "output_type": "execute_result"
    }
   ],
   "source": [
    "df.tail()"
   ]
  },
  {
   "cell_type": "code",
   "execution_count": 228,
   "metadata": {},
   "outputs": [
    {
     "data": {
      "text/plain": [
       "DatetimeIndex(['2019-12-13', '2019-12-14', '2019-12-15', '2019-12-16',\n",
       "               '2019-12-17', '2019-12-18'],\n",
       "              dtype='datetime64[ns]', freq='D')"
      ]
     },
     "execution_count": 228,
     "metadata": {},
     "output_type": "execute_result"
    }
   ],
   "source": [
    "#显示索引与列名\n",
    "df.index"
   ]
  },
  {
   "cell_type": "code",
   "execution_count": 229,
   "metadata": {},
   "outputs": [
    {
     "data": {
      "text/plain": [
       "Index(['A', 'B', 'C', 'D'], dtype='object')"
      ]
     },
     "execution_count": 229,
     "metadata": {},
     "output_type": "execute_result"
    }
   ],
   "source": [
    "df.columns"
   ]
  },
  {
   "cell_type": "code",
   "execution_count": 230,
   "metadata": {},
   "outputs": [
    {
     "data": {
      "text/html": [
       "<div>\n",
       "<style scoped>\n",
       "    .dataframe tbody tr th:only-of-type {\n",
       "        vertical-align: middle;\n",
       "    }\n",
       "\n",
       "    .dataframe tbody tr th {\n",
       "        vertical-align: top;\n",
       "    }\n",
       "\n",
       "    .dataframe thead th {\n",
       "        text-align: right;\n",
       "    }\n",
       "</style>\n",
       "<table border=\"1\" class=\"dataframe\">\n",
       "  <thead>\n",
       "    <tr style=\"text-align: right;\">\n",
       "      <th></th>\n",
       "      <th>A</th>\n",
       "      <th>B</th>\n",
       "      <th>C</th>\n",
       "      <th>D</th>\n",
       "    </tr>\n",
       "  </thead>\n",
       "  <tbody>\n",
       "    <tr>\n",
       "      <th>count</th>\n",
       "      <td>6.000000</td>\n",
       "      <td>6.000000</td>\n",
       "      <td>6.000000</td>\n",
       "      <td>6.000000</td>\n",
       "    </tr>\n",
       "    <tr>\n",
       "      <th>mean</th>\n",
       "      <td>0.115858</td>\n",
       "      <td>0.197448</td>\n",
       "      <td>-0.609966</td>\n",
       "      <td>-0.233840</td>\n",
       "    </tr>\n",
       "    <tr>\n",
       "      <th>std</th>\n",
       "      <td>0.701379</td>\n",
       "      <td>0.954996</td>\n",
       "      <td>1.102520</td>\n",
       "      <td>1.448163</td>\n",
       "    </tr>\n",
       "    <tr>\n",
       "      <th>min</th>\n",
       "      <td>-0.758198</td>\n",
       "      <td>-1.291492</td>\n",
       "      <td>-1.872226</td>\n",
       "      <td>-1.833033</td>\n",
       "    </tr>\n",
       "    <tr>\n",
       "      <th>25%</th>\n",
       "      <td>-0.442520</td>\n",
       "      <td>-0.098840</td>\n",
       "      <td>-1.363370</td>\n",
       "      <td>-1.440918</td>\n",
       "    </tr>\n",
       "    <tr>\n",
       "      <th>50%</th>\n",
       "      <td>0.231722</td>\n",
       "      <td>0.248956</td>\n",
       "      <td>-0.858707</td>\n",
       "      <td>-0.177127</td>\n",
       "    </tr>\n",
       "    <tr>\n",
       "      <th>75%</th>\n",
       "      <td>0.502228</td>\n",
       "      <td>0.485600</td>\n",
       "      <td>0.161435</td>\n",
       "      <td>0.519069</td>\n",
       "    </tr>\n",
       "    <tr>\n",
       "      <th>max</th>\n",
       "      <td>1.064775</td>\n",
       "      <td>1.628556</td>\n",
       "      <td>0.959952</td>\n",
       "      <td>1.895294</td>\n",
       "    </tr>\n",
       "  </tbody>\n",
       "</table>\n",
       "</div>"
      ],
      "text/plain": [
       "              A         B         C         D\n",
       "count  6.000000  6.000000  6.000000  6.000000\n",
       "mean   0.115858  0.197448 -0.609966 -0.233840\n",
       "std    0.701379  0.954996  1.102520  1.448163\n",
       "min   -0.758198 -1.291492 -1.872226 -1.833033\n",
       "25%   -0.442520 -0.098840 -1.363370 -1.440918\n",
       "50%    0.231722  0.248956 -0.858707 -0.177127\n",
       "75%    0.502228  0.485600  0.161435  0.519069\n",
       "max    1.064775  1.628556  0.959952  1.895294"
      ]
     },
     "execution_count": 230,
     "metadata": {},
     "output_type": "execute_result"
    }
   ],
   "source": [
    "# describe() 可以快速查看数据的统计摘要\n",
    "df.describe()"
   ]
  },
  {
   "cell_type": "code",
   "execution_count": 231,
   "metadata": {},
   "outputs": [
    {
     "data": {
      "text/html": [
       "<div>\n",
       "<style scoped>\n",
       "    .dataframe tbody tr th:only-of-type {\n",
       "        vertical-align: middle;\n",
       "    }\n",
       "\n",
       "    .dataframe tbody tr th {\n",
       "        vertical-align: top;\n",
       "    }\n",
       "\n",
       "    .dataframe thead th {\n",
       "        text-align: right;\n",
       "    }\n",
       "</style>\n",
       "<table border=\"1\" class=\"dataframe\">\n",
       "  <thead>\n",
       "    <tr style=\"text-align: right;\">\n",
       "      <th></th>\n",
       "      <th>A</th>\n",
       "      <th>C</th>\n",
       "      <th>D</th>\n",
       "    </tr>\n",
       "  </thead>\n",
       "  <tbody>\n",
       "    <tr>\n",
       "      <th>count</th>\n",
       "      <td>4.0</td>\n",
       "      <td>4.0</td>\n",
       "      <td>4.0</td>\n",
       "    </tr>\n",
       "    <tr>\n",
       "      <th>mean</th>\n",
       "      <td>1.0</td>\n",
       "      <td>1.0</td>\n",
       "      <td>3.0</td>\n",
       "    </tr>\n",
       "    <tr>\n",
       "      <th>std</th>\n",
       "      <td>0.0</td>\n",
       "      <td>0.0</td>\n",
       "      <td>0.0</td>\n",
       "    </tr>\n",
       "    <tr>\n",
       "      <th>min</th>\n",
       "      <td>1.0</td>\n",
       "      <td>1.0</td>\n",
       "      <td>3.0</td>\n",
       "    </tr>\n",
       "    <tr>\n",
       "      <th>25%</th>\n",
       "      <td>1.0</td>\n",
       "      <td>1.0</td>\n",
       "      <td>3.0</td>\n",
       "    </tr>\n",
       "    <tr>\n",
       "      <th>50%</th>\n",
       "      <td>1.0</td>\n",
       "      <td>1.0</td>\n",
       "      <td>3.0</td>\n",
       "    </tr>\n",
       "    <tr>\n",
       "      <th>75%</th>\n",
       "      <td>1.0</td>\n",
       "      <td>1.0</td>\n",
       "      <td>3.0</td>\n",
       "    </tr>\n",
       "    <tr>\n",
       "      <th>max</th>\n",
       "      <td>1.0</td>\n",
       "      <td>1.0</td>\n",
       "      <td>3.0</td>\n",
       "    </tr>\n",
       "  </tbody>\n",
       "</table>\n",
       "</div>"
      ],
      "text/plain": [
       "         A    C    D\n",
       "count  4.0  4.0  4.0\n",
       "mean   1.0  1.0  3.0\n",
       "std    0.0  0.0  0.0\n",
       "min    1.0  1.0  3.0\n",
       "25%    1.0  1.0  3.0\n",
       "50%    1.0  1.0  3.0\n",
       "75%    1.0  1.0  3.0\n",
       "max    1.0  1.0  3.0"
      ]
     },
     "execution_count": 231,
     "metadata": {},
     "output_type": "execute_result"
    }
   ],
   "source": [
    "df2.describe()"
   ]
  },
  {
   "cell_type": "code",
   "execution_count": 232,
   "metadata": {},
   "outputs": [
    {
     "data": {
      "text/html": [
       "<div>\n",
       "<style scoped>\n",
       "    .dataframe tbody tr th:only-of-type {\n",
       "        vertical-align: middle;\n",
       "    }\n",
       "\n",
       "    .dataframe tbody tr th {\n",
       "        vertical-align: top;\n",
       "    }\n",
       "\n",
       "    .dataframe thead th {\n",
       "        text-align: right;\n",
       "    }\n",
       "</style>\n",
       "<table border=\"1\" class=\"dataframe\">\n",
       "  <thead>\n",
       "    <tr style=\"text-align: right;\">\n",
       "      <th></th>\n",
       "      <th>2019-12-13 00:00:00</th>\n",
       "      <th>2019-12-14 00:00:00</th>\n",
       "      <th>2019-12-15 00:00:00</th>\n",
       "      <th>2019-12-16 00:00:00</th>\n",
       "      <th>2019-12-17 00:00:00</th>\n",
       "      <th>2019-12-18 00:00:00</th>\n",
       "    </tr>\n",
       "  </thead>\n",
       "  <tbody>\n",
       "    <tr>\n",
       "      <th>A</th>\n",
       "      <td>-0.585100</td>\n",
       "      <td>1.064775</td>\n",
       "      <td>0.478223</td>\n",
       "      <td>0.510230</td>\n",
       "      <td>-0.014780</td>\n",
       "      <td>-0.758198</td>\n",
       "    </tr>\n",
       "    <tr>\n",
       "      <th>B</th>\n",
       "      <td>1.628556</td>\n",
       "      <td>0.215565</td>\n",
       "      <td>0.553351</td>\n",
       "      <td>-1.291492</td>\n",
       "      <td>0.282347</td>\n",
       "      <td>-0.203642</td>\n",
       "    </tr>\n",
       "    <tr>\n",
       "      <th>C</th>\n",
       "      <td>-1.872226</td>\n",
       "      <td>-1.399917</td>\n",
       "      <td>0.959952</td>\n",
       "      <td>0.369808</td>\n",
       "      <td>-0.463684</td>\n",
       "      <td>-1.253731</td>\n",
       "    </tr>\n",
       "    <tr>\n",
       "      <th>D</th>\n",
       "      <td>-1.833033</td>\n",
       "      <td>-1.805209</td>\n",
       "      <td>1.895294</td>\n",
       "      <td>-0.006208</td>\n",
       "      <td>-0.348046</td>\n",
       "      <td>0.694161</td>\n",
       "    </tr>\n",
       "  </tbody>\n",
       "</table>\n",
       "</div>"
      ],
      "text/plain": [
       "   2019-12-13  2019-12-14  2019-12-15  2019-12-16  2019-12-17  2019-12-18\n",
       "A   -0.585100    1.064775    0.478223    0.510230   -0.014780   -0.758198\n",
       "B    1.628556    0.215565    0.553351   -1.291492    0.282347   -0.203642\n",
       "C   -1.872226   -1.399917    0.959952    0.369808   -0.463684   -1.253731\n",
       "D   -1.833033   -1.805209    1.895294   -0.006208   -0.348046    0.694161"
      ]
     },
     "execution_count": 232,
     "metadata": {},
     "output_type": "execute_result"
    }
   ],
   "source": [
    "# 转置数据\n",
    "df.T"
   ]
  },
  {
   "cell_type": "code",
   "execution_count": 233,
   "metadata": {},
   "outputs": [
    {
     "data": {
      "text/html": [
       "<div>\n",
       "<style scoped>\n",
       "    .dataframe tbody tr th:only-of-type {\n",
       "        vertical-align: middle;\n",
       "    }\n",
       "\n",
       "    .dataframe tbody tr th {\n",
       "        vertical-align: top;\n",
       "    }\n",
       "\n",
       "    .dataframe thead th {\n",
       "        text-align: right;\n",
       "    }\n",
       "</style>\n",
       "<table border=\"1\" class=\"dataframe\">\n",
       "  <thead>\n",
       "    <tr style=\"text-align: right;\">\n",
       "      <th></th>\n",
       "      <th>D</th>\n",
       "      <th>C</th>\n",
       "      <th>B</th>\n",
       "      <th>A</th>\n",
       "    </tr>\n",
       "  </thead>\n",
       "  <tbody>\n",
       "    <tr>\n",
       "      <th>2019-12-13</th>\n",
       "      <td>-1.833033</td>\n",
       "      <td>-1.872226</td>\n",
       "      <td>1.628556</td>\n",
       "      <td>-0.585100</td>\n",
       "    </tr>\n",
       "    <tr>\n",
       "      <th>2019-12-14</th>\n",
       "      <td>-1.805209</td>\n",
       "      <td>-1.399917</td>\n",
       "      <td>0.215565</td>\n",
       "      <td>1.064775</td>\n",
       "    </tr>\n",
       "    <tr>\n",
       "      <th>2019-12-15</th>\n",
       "      <td>1.895294</td>\n",
       "      <td>0.959952</td>\n",
       "      <td>0.553351</td>\n",
       "      <td>0.478223</td>\n",
       "    </tr>\n",
       "    <tr>\n",
       "      <th>2019-12-16</th>\n",
       "      <td>-0.006208</td>\n",
       "      <td>0.369808</td>\n",
       "      <td>-1.291492</td>\n",
       "      <td>0.510230</td>\n",
       "    </tr>\n",
       "    <tr>\n",
       "      <th>2019-12-17</th>\n",
       "      <td>-0.348046</td>\n",
       "      <td>-0.463684</td>\n",
       "      <td>0.282347</td>\n",
       "      <td>-0.014780</td>\n",
       "    </tr>\n",
       "    <tr>\n",
       "      <th>2019-12-18</th>\n",
       "      <td>0.694161</td>\n",
       "      <td>-1.253731</td>\n",
       "      <td>-0.203642</td>\n",
       "      <td>-0.758198</td>\n",
       "    </tr>\n",
       "  </tbody>\n",
       "</table>\n",
       "</div>"
      ],
      "text/plain": [
       "                   D         C         B         A\n",
       "2019-12-13 -1.833033 -1.872226  1.628556 -0.585100\n",
       "2019-12-14 -1.805209 -1.399917  0.215565  1.064775\n",
       "2019-12-15  1.895294  0.959952  0.553351  0.478223\n",
       "2019-12-16 -0.006208  0.369808 -1.291492  0.510230\n",
       "2019-12-17 -0.348046 -0.463684  0.282347 -0.014780\n",
       "2019-12-18  0.694161 -1.253731 -0.203642 -0.758198"
      ]
     },
     "execution_count": 233,
     "metadata": {},
     "output_type": "execute_result"
    }
   ],
   "source": [
    "# 按轴排序\n",
    "df.sort_index(axis=1,ascending=False)"
   ]
  },
  {
   "cell_type": "code",
   "execution_count": 234,
   "metadata": {},
   "outputs": [
    {
     "data": {
      "text/html": [
       "<div>\n",
       "<style scoped>\n",
       "    .dataframe tbody tr th:only-of-type {\n",
       "        vertical-align: middle;\n",
       "    }\n",
       "\n",
       "    .dataframe tbody tr th {\n",
       "        vertical-align: top;\n",
       "    }\n",
       "\n",
       "    .dataframe thead th {\n",
       "        text-align: right;\n",
       "    }\n",
       "</style>\n",
       "<table border=\"1\" class=\"dataframe\">\n",
       "  <thead>\n",
       "    <tr style=\"text-align: right;\">\n",
       "      <th></th>\n",
       "      <th>A</th>\n",
       "      <th>B</th>\n",
       "      <th>C</th>\n",
       "      <th>D</th>\n",
       "    </tr>\n",
       "  </thead>\n",
       "  <tbody>\n",
       "    <tr>\n",
       "      <th>2019-12-16</th>\n",
       "      <td>0.510230</td>\n",
       "      <td>-1.291492</td>\n",
       "      <td>0.369808</td>\n",
       "      <td>-0.006208</td>\n",
       "    </tr>\n",
       "    <tr>\n",
       "      <th>2019-12-18</th>\n",
       "      <td>-0.758198</td>\n",
       "      <td>-0.203642</td>\n",
       "      <td>-1.253731</td>\n",
       "      <td>0.694161</td>\n",
       "    </tr>\n",
       "    <tr>\n",
       "      <th>2019-12-14</th>\n",
       "      <td>1.064775</td>\n",
       "      <td>0.215565</td>\n",
       "      <td>-1.399917</td>\n",
       "      <td>-1.805209</td>\n",
       "    </tr>\n",
       "    <tr>\n",
       "      <th>2019-12-17</th>\n",
       "      <td>-0.014780</td>\n",
       "      <td>0.282347</td>\n",
       "      <td>-0.463684</td>\n",
       "      <td>-0.348046</td>\n",
       "    </tr>\n",
       "    <tr>\n",
       "      <th>2019-12-15</th>\n",
       "      <td>0.478223</td>\n",
       "      <td>0.553351</td>\n",
       "      <td>0.959952</td>\n",
       "      <td>1.895294</td>\n",
       "    </tr>\n",
       "    <tr>\n",
       "      <th>2019-12-13</th>\n",
       "      <td>-0.585100</td>\n",
       "      <td>1.628556</td>\n",
       "      <td>-1.872226</td>\n",
       "      <td>-1.833033</td>\n",
       "    </tr>\n",
       "  </tbody>\n",
       "</table>\n",
       "</div>"
      ],
      "text/plain": [
       "                   A         B         C         D\n",
       "2019-12-16  0.510230 -1.291492  0.369808 -0.006208\n",
       "2019-12-18 -0.758198 -0.203642 -1.253731  0.694161\n",
       "2019-12-14  1.064775  0.215565 -1.399917 -1.805209\n",
       "2019-12-17 -0.014780  0.282347 -0.463684 -0.348046\n",
       "2019-12-15  0.478223  0.553351  0.959952  1.895294\n",
       "2019-12-13 -0.585100  1.628556 -1.872226 -1.833033"
      ]
     },
     "execution_count": 234,
     "metadata": {},
     "output_type": "execute_result"
    }
   ],
   "source": [
    "# 按值排序\n",
    "df.sort_values(by='B')"
   ]
  },
  {
   "cell_type": "markdown",
   "metadata": {},
   "source": [
    "# 3.选择"
   ]
  },
  {
   "cell_type": "code",
   "execution_count": 235,
   "metadata": {},
   "outputs": [
    {
     "data": {
      "text/plain": [
       "2019-12-13   -0.585100\n",
       "2019-12-14    1.064775\n",
       "2019-12-15    0.478223\n",
       "2019-12-16    0.510230\n",
       "2019-12-17   -0.014780\n",
       "2019-12-18   -0.758198\n",
       "Freq: D, Name: A, dtype: float64"
      ]
     },
     "execution_count": 235,
     "metadata": {},
     "output_type": "execute_result"
    }
   ],
   "source": [
    "# 获取数据\n",
    "# 选择单列，产生 Series，与 df.A 等效：\n",
    "df['A']"
   ]
  },
  {
   "cell_type": "code",
   "execution_count": 236,
   "metadata": {},
   "outputs": [
    {
     "data": {
      "text/plain": [
       "2019-12-13   -0.585100\n",
       "2019-12-14    1.064775\n",
       "2019-12-15    0.478223\n",
       "2019-12-16    0.510230\n",
       "2019-12-17   -0.014780\n",
       "2019-12-18   -0.758198\n",
       "Freq: D, Name: A, dtype: float64"
      ]
     },
     "execution_count": 236,
     "metadata": {},
     "output_type": "execute_result"
    }
   ],
   "source": [
    "df.A"
   ]
  },
  {
   "cell_type": "code",
   "execution_count": 237,
   "metadata": {},
   "outputs": [
    {
     "data": {
      "text/html": [
       "<div>\n",
       "<style scoped>\n",
       "    .dataframe tbody tr th:only-of-type {\n",
       "        vertical-align: middle;\n",
       "    }\n",
       "\n",
       "    .dataframe tbody tr th {\n",
       "        vertical-align: top;\n",
       "    }\n",
       "\n",
       "    .dataframe thead th {\n",
       "        text-align: right;\n",
       "    }\n",
       "</style>\n",
       "<table border=\"1\" class=\"dataframe\">\n",
       "  <thead>\n",
       "    <tr style=\"text-align: right;\">\n",
       "      <th></th>\n",
       "      <th>A</th>\n",
       "      <th>B</th>\n",
       "      <th>C</th>\n",
       "      <th>D</th>\n",
       "    </tr>\n",
       "  </thead>\n",
       "  <tbody>\n",
       "    <tr>\n",
       "      <th>2019-12-13</th>\n",
       "      <td>-0.585100</td>\n",
       "      <td>1.628556</td>\n",
       "      <td>-1.872226</td>\n",
       "      <td>-1.833033</td>\n",
       "    </tr>\n",
       "    <tr>\n",
       "      <th>2019-12-14</th>\n",
       "      <td>1.064775</td>\n",
       "      <td>0.215565</td>\n",
       "      <td>-1.399917</td>\n",
       "      <td>-1.805209</td>\n",
       "    </tr>\n",
       "    <tr>\n",
       "      <th>2019-12-15</th>\n",
       "      <td>0.478223</td>\n",
       "      <td>0.553351</td>\n",
       "      <td>0.959952</td>\n",
       "      <td>1.895294</td>\n",
       "    </tr>\n",
       "  </tbody>\n",
       "</table>\n",
       "</div>"
      ],
      "text/plain": [
       "                   A         B         C         D\n",
       "2019-12-13 -0.585100  1.628556 -1.872226 -1.833033\n",
       "2019-12-14  1.064775  0.215565 -1.399917 -1.805209\n",
       "2019-12-15  0.478223  0.553351  0.959952  1.895294"
      ]
     },
     "execution_count": 237,
     "metadata": {},
     "output_type": "execute_result"
    }
   ],
   "source": [
    "#用 [ ] 切片行\n",
    "df[0:3]"
   ]
  },
  {
   "cell_type": "code",
   "execution_count": 238,
   "metadata": {
    "scrolled": true
   },
   "outputs": [
    {
     "data": {
      "text/html": [
       "<div>\n",
       "<style scoped>\n",
       "    .dataframe tbody tr th:only-of-type {\n",
       "        vertical-align: middle;\n",
       "    }\n",
       "\n",
       "    .dataframe tbody tr th {\n",
       "        vertical-align: top;\n",
       "    }\n",
       "\n",
       "    .dataframe thead th {\n",
       "        text-align: right;\n",
       "    }\n",
       "</style>\n",
       "<table border=\"1\" class=\"dataframe\">\n",
       "  <thead>\n",
       "    <tr style=\"text-align: right;\">\n",
       "      <th></th>\n",
       "      <th>A</th>\n",
       "      <th>B</th>\n",
       "      <th>C</th>\n",
       "      <th>D</th>\n",
       "    </tr>\n",
       "  </thead>\n",
       "  <tbody>\n",
       "    <tr>\n",
       "      <th>2019-12-16</th>\n",
       "      <td>0.510230</td>\n",
       "      <td>-1.291492</td>\n",
       "      <td>0.369808</td>\n",
       "      <td>-0.006208</td>\n",
       "    </tr>\n",
       "    <tr>\n",
       "      <th>2019-12-17</th>\n",
       "      <td>-0.014780</td>\n",
       "      <td>0.282347</td>\n",
       "      <td>-0.463684</td>\n",
       "      <td>-0.348046</td>\n",
       "    </tr>\n",
       "    <tr>\n",
       "      <th>2019-12-18</th>\n",
       "      <td>-0.758198</td>\n",
       "      <td>-0.203642</td>\n",
       "      <td>-1.253731</td>\n",
       "      <td>0.694161</td>\n",
       "    </tr>\n",
       "  </tbody>\n",
       "</table>\n",
       "</div>"
      ],
      "text/plain": [
       "                   A         B         C         D\n",
       "2019-12-16  0.510230 -1.291492  0.369808 -0.006208\n",
       "2019-12-17 -0.014780  0.282347 -0.463684 -0.348046\n",
       "2019-12-18 -0.758198 -0.203642 -1.253731  0.694161"
      ]
     },
     "execution_count": 238,
     "metadata": {},
     "output_type": "execute_result"
    }
   ],
   "source": [
    "df['2019-12-16':'2019-12-18']"
   ]
  },
  {
   "cell_type": "code",
   "execution_count": 239,
   "metadata": {},
   "outputs": [
    {
     "name": "stdout",
     "output_type": "stream",
     "text": [
      "2019-12-13 00:00:00\n"
     ]
    },
    {
     "data": {
      "text/plain": [
       "A   -0.585100\n",
       "B    1.628556\n",
       "C   -1.872226\n",
       "D   -1.833033\n",
       "Name: 2019-12-13 00:00:00, dtype: float64"
      ]
     },
     "execution_count": 239,
     "metadata": {},
     "output_type": "execute_result"
    }
   ],
   "source": [
    "#按标签选择\n",
    "# 用标签提取一行数据\n",
    "print(dates[0])\n",
    "df.loc[dates[0]]"
   ]
  },
  {
   "cell_type": "code",
   "execution_count": 240,
   "metadata": {},
   "outputs": [
    {
     "data": {
      "text/html": [
       "<div>\n",
       "<style scoped>\n",
       "    .dataframe tbody tr th:only-of-type {\n",
       "        vertical-align: middle;\n",
       "    }\n",
       "\n",
       "    .dataframe tbody tr th {\n",
       "        vertical-align: top;\n",
       "    }\n",
       "\n",
       "    .dataframe thead th {\n",
       "        text-align: right;\n",
       "    }\n",
       "</style>\n",
       "<table border=\"1\" class=\"dataframe\">\n",
       "  <thead>\n",
       "    <tr style=\"text-align: right;\">\n",
       "      <th></th>\n",
       "      <th>A</th>\n",
       "      <th>B</th>\n",
       "    </tr>\n",
       "  </thead>\n",
       "  <tbody>\n",
       "    <tr>\n",
       "      <th>2019-12-13</th>\n",
       "      <td>-0.585100</td>\n",
       "      <td>1.628556</td>\n",
       "    </tr>\n",
       "    <tr>\n",
       "      <th>2019-12-14</th>\n",
       "      <td>1.064775</td>\n",
       "      <td>0.215565</td>\n",
       "    </tr>\n",
       "    <tr>\n",
       "      <th>2019-12-15</th>\n",
       "      <td>0.478223</td>\n",
       "      <td>0.553351</td>\n",
       "    </tr>\n",
       "    <tr>\n",
       "      <th>2019-12-16</th>\n",
       "      <td>0.510230</td>\n",
       "      <td>-1.291492</td>\n",
       "    </tr>\n",
       "    <tr>\n",
       "      <th>2019-12-17</th>\n",
       "      <td>-0.014780</td>\n",
       "      <td>0.282347</td>\n",
       "    </tr>\n",
       "    <tr>\n",
       "      <th>2019-12-18</th>\n",
       "      <td>-0.758198</td>\n",
       "      <td>-0.203642</td>\n",
       "    </tr>\n",
       "  </tbody>\n",
       "</table>\n",
       "</div>"
      ],
      "text/plain": [
       "                   A         B\n",
       "2019-12-13 -0.585100  1.628556\n",
       "2019-12-14  1.064775  0.215565\n",
       "2019-12-15  0.478223  0.553351\n",
       "2019-12-16  0.510230 -1.291492\n",
       "2019-12-17 -0.014780  0.282347\n",
       "2019-12-18 -0.758198 -0.203642"
      ]
     },
     "execution_count": 240,
     "metadata": {},
     "output_type": "execute_result"
    }
   ],
   "source": [
    "# 用标签选择多列数据\n",
    "df.loc[:,['A','B']]"
   ]
  },
  {
   "cell_type": "code",
   "execution_count": 241,
   "metadata": {},
   "outputs": [
    {
     "data": {
      "text/html": [
       "<div>\n",
       "<style scoped>\n",
       "    .dataframe tbody tr th:only-of-type {\n",
       "        vertical-align: middle;\n",
       "    }\n",
       "\n",
       "    .dataframe tbody tr th {\n",
       "        vertical-align: top;\n",
       "    }\n",
       "\n",
       "    .dataframe thead th {\n",
       "        text-align: right;\n",
       "    }\n",
       "</style>\n",
       "<table border=\"1\" class=\"dataframe\">\n",
       "  <thead>\n",
       "    <tr style=\"text-align: right;\">\n",
       "      <th></th>\n",
       "      <th>C</th>\n",
       "      <th>D</th>\n",
       "    </tr>\n",
       "  </thead>\n",
       "  <tbody>\n",
       "    <tr>\n",
       "      <th>2019-12-16</th>\n",
       "      <td>0.369808</td>\n",
       "      <td>-0.006208</td>\n",
       "    </tr>\n",
       "    <tr>\n",
       "      <th>2019-12-17</th>\n",
       "      <td>-0.463684</td>\n",
       "      <td>-0.348046</td>\n",
       "    </tr>\n",
       "    <tr>\n",
       "      <th>2019-12-18</th>\n",
       "      <td>-1.253731</td>\n",
       "      <td>0.694161</td>\n",
       "    </tr>\n",
       "  </tbody>\n",
       "</table>\n",
       "</div>"
      ],
      "text/plain": [
       "                   C         D\n",
       "2019-12-16  0.369808 -0.006208\n",
       "2019-12-17 -0.463684 -0.348046\n",
       "2019-12-18 -1.253731  0.694161"
      ]
     },
     "execution_count": 241,
     "metadata": {},
     "output_type": "execute_result"
    }
   ],
   "source": [
    "# 用标签切片，包含行与列结束点\n",
    "df.loc['2019-12-16':'2019-12-18',['C','D']]"
   ]
  },
  {
   "cell_type": "code",
   "execution_count": 242,
   "metadata": {},
   "outputs": [
    {
     "data": {
      "text/plain": [
       "A   -0.585100\n",
       "B    1.628556\n",
       "Name: 2019-12-13 00:00:00, dtype: float64"
      ]
     },
     "execution_count": 242,
     "metadata": {},
     "output_type": "execute_result"
    }
   ],
   "source": [
    "# 返回对象降维\n",
    "df.loc['2019-12-13',['A','B']]"
   ]
  },
  {
   "cell_type": "code",
   "execution_count": 243,
   "metadata": {},
   "outputs": [
    {
     "name": "stdout",
     "output_type": "stream",
     "text": [
      "2019-12-14 00:00:00\n"
     ]
    },
    {
     "data": {
      "text/plain": [
       "1.0647754111931707"
      ]
     },
     "execution_count": 243,
     "metadata": {},
     "output_type": "execute_result"
    }
   ],
   "source": [
    "# 提取标量值\n",
    "print(dates[1])\n",
    "df.loc[dates[1],'A']"
   ]
  },
  {
   "cell_type": "code",
   "execution_count": 244,
   "metadata": {},
   "outputs": [
    {
     "data": {
      "text/plain": [
       "1.0647754111931707"
      ]
     },
     "execution_count": 244,
     "metadata": {},
     "output_type": "execute_result"
    }
   ],
   "source": [
    "# 快速访问标量，与上述方法等效\n",
    "df.at[dates[1],'A']"
   ]
  },
  {
   "cell_type": "markdown",
   "metadata": {},
   "source": [
    "# 4.按位置选择"
   ]
  },
  {
   "cell_type": "code",
   "execution_count": 245,
   "metadata": {},
   "outputs": [
    {
     "data": {
      "text/plain": [
       "A    0.510230\n",
       "B   -1.291492\n",
       "C    0.369808\n",
       "D   -0.006208\n",
       "Name: 2019-12-16 00:00:00, dtype: float64"
      ]
     },
     "execution_count": 245,
     "metadata": {},
     "output_type": "execute_result"
    }
   ],
   "source": [
    "# 用整数位置选择\n",
    "df.iloc[3]"
   ]
  },
  {
   "cell_type": "code",
   "execution_count": 246,
   "metadata": {},
   "outputs": [
    {
     "data": {
      "text/html": [
       "<div>\n",
       "<style scoped>\n",
       "    .dataframe tbody tr th:only-of-type {\n",
       "        vertical-align: middle;\n",
       "    }\n",
       "\n",
       "    .dataframe tbody tr th {\n",
       "        vertical-align: top;\n",
       "    }\n",
       "\n",
       "    .dataframe thead th {\n",
       "        text-align: right;\n",
       "    }\n",
       "</style>\n",
       "<table border=\"1\" class=\"dataframe\">\n",
       "  <thead>\n",
       "    <tr style=\"text-align: right;\">\n",
       "      <th></th>\n",
       "      <th>A</th>\n",
       "      <th>B</th>\n",
       "    </tr>\n",
       "  </thead>\n",
       "  <tbody>\n",
       "    <tr>\n",
       "      <th>2019-12-13</th>\n",
       "      <td>-0.585100</td>\n",
       "      <td>1.628556</td>\n",
       "    </tr>\n",
       "    <tr>\n",
       "      <th>2019-12-14</th>\n",
       "      <td>1.064775</td>\n",
       "      <td>0.215565</td>\n",
       "    </tr>\n",
       "    <tr>\n",
       "      <th>2019-12-15</th>\n",
       "      <td>0.478223</td>\n",
       "      <td>0.553351</td>\n",
       "    </tr>\n",
       "  </tbody>\n",
       "</table>\n",
       "</div>"
      ],
      "text/plain": [
       "                   A         B\n",
       "2019-12-13 -0.585100  1.628556\n",
       "2019-12-14  1.064775  0.215565\n",
       "2019-12-15  0.478223  0.553351"
      ]
     },
     "execution_count": 246,
     "metadata": {},
     "output_type": "execute_result"
    }
   ],
   "source": [
    "# 类似 NumPy / Python，用整数切片\n",
    "df.iloc[0:3,0:2]"
   ]
  },
  {
   "cell_type": "code",
   "execution_count": 247,
   "metadata": {},
   "outputs": [
    {
     "data": {
      "text/html": [
       "<div>\n",
       "<style scoped>\n",
       "    .dataframe tbody tr th:only-of-type {\n",
       "        vertical-align: middle;\n",
       "    }\n",
       "\n",
       "    .dataframe tbody tr th {\n",
       "        vertical-align: top;\n",
       "    }\n",
       "\n",
       "    .dataframe thead th {\n",
       "        text-align: right;\n",
       "    }\n",
       "</style>\n",
       "<table border=\"1\" class=\"dataframe\">\n",
       "  <thead>\n",
       "    <tr style=\"text-align: right;\">\n",
       "      <th></th>\n",
       "      <th>A</th>\n",
       "      <th>C</th>\n",
       "    </tr>\n",
       "  </thead>\n",
       "  <tbody>\n",
       "    <tr>\n",
       "      <th>2019-12-14</th>\n",
       "      <td>1.064775</td>\n",
       "      <td>-1.399917</td>\n",
       "    </tr>\n",
       "    <tr>\n",
       "      <th>2019-12-15</th>\n",
       "      <td>0.478223</td>\n",
       "      <td>0.959952</td>\n",
       "    </tr>\n",
       "    <tr>\n",
       "      <th>2019-12-17</th>\n",
       "      <td>-0.014780</td>\n",
       "      <td>-0.463684</td>\n",
       "    </tr>\n",
       "  </tbody>\n",
       "</table>\n",
       "</div>"
      ],
      "text/plain": [
       "                   A         C\n",
       "2019-12-14  1.064775 -1.399917\n",
       "2019-12-15  0.478223  0.959952\n",
       "2019-12-17 -0.014780 -0.463684"
      ]
     },
     "execution_count": 247,
     "metadata": {},
     "output_type": "execute_result"
    }
   ],
   "source": [
    "# 类似 NumPy / Python，用整数列表按位置切片\n",
    "df.iloc[[1,2,4],[0,2]]"
   ]
  },
  {
   "cell_type": "code",
   "execution_count": 248,
   "metadata": {},
   "outputs": [
    {
     "data": {
      "text/html": [
       "<div>\n",
       "<style scoped>\n",
       "    .dataframe tbody tr th:only-of-type {\n",
       "        vertical-align: middle;\n",
       "    }\n",
       "\n",
       "    .dataframe tbody tr th {\n",
       "        vertical-align: top;\n",
       "    }\n",
       "\n",
       "    .dataframe thead th {\n",
       "        text-align: right;\n",
       "    }\n",
       "</style>\n",
       "<table border=\"1\" class=\"dataframe\">\n",
       "  <thead>\n",
       "    <tr style=\"text-align: right;\">\n",
       "      <th></th>\n",
       "      <th>A</th>\n",
       "      <th>B</th>\n",
       "      <th>C</th>\n",
       "      <th>D</th>\n",
       "    </tr>\n",
       "  </thead>\n",
       "  <tbody>\n",
       "    <tr>\n",
       "      <th>2019-12-14</th>\n",
       "      <td>1.064775</td>\n",
       "      <td>0.215565</td>\n",
       "      <td>-1.399917</td>\n",
       "      <td>-1.805209</td>\n",
       "    </tr>\n",
       "    <tr>\n",
       "      <th>2019-12-15</th>\n",
       "      <td>0.478223</td>\n",
       "      <td>0.553351</td>\n",
       "      <td>0.959952</td>\n",
       "      <td>1.895294</td>\n",
       "    </tr>\n",
       "  </tbody>\n",
       "</table>\n",
       "</div>"
      ],
      "text/plain": [
       "                   A         B         C         D\n",
       "2019-12-14  1.064775  0.215565 -1.399917 -1.805209\n",
       "2019-12-15  0.478223  0.553351  0.959952  1.895294"
      ]
     },
     "execution_count": 248,
     "metadata": {},
     "output_type": "execute_result"
    }
   ],
   "source": [
    "# 显式整行切片\n",
    "df.iloc[1:3,:]"
   ]
  },
  {
   "cell_type": "code",
   "execution_count": 249,
   "metadata": {},
   "outputs": [
    {
     "data": {
      "text/html": [
       "<div>\n",
       "<style scoped>\n",
       "    .dataframe tbody tr th:only-of-type {\n",
       "        vertical-align: middle;\n",
       "    }\n",
       "\n",
       "    .dataframe tbody tr th {\n",
       "        vertical-align: top;\n",
       "    }\n",
       "\n",
       "    .dataframe thead th {\n",
       "        text-align: right;\n",
       "    }\n",
       "</style>\n",
       "<table border=\"1\" class=\"dataframe\">\n",
       "  <thead>\n",
       "    <tr style=\"text-align: right;\">\n",
       "      <th></th>\n",
       "      <th>A</th>\n",
       "      <th>B</th>\n",
       "      <th>C</th>\n",
       "    </tr>\n",
       "  </thead>\n",
       "  <tbody>\n",
       "    <tr>\n",
       "      <th>2019-12-13</th>\n",
       "      <td>-0.585100</td>\n",
       "      <td>1.628556</td>\n",
       "      <td>-1.872226</td>\n",
       "    </tr>\n",
       "    <tr>\n",
       "      <th>2019-12-14</th>\n",
       "      <td>1.064775</td>\n",
       "      <td>0.215565</td>\n",
       "      <td>-1.399917</td>\n",
       "    </tr>\n",
       "    <tr>\n",
       "      <th>2019-12-15</th>\n",
       "      <td>0.478223</td>\n",
       "      <td>0.553351</td>\n",
       "      <td>0.959952</td>\n",
       "    </tr>\n",
       "    <tr>\n",
       "      <th>2019-12-16</th>\n",
       "      <td>0.510230</td>\n",
       "      <td>-1.291492</td>\n",
       "      <td>0.369808</td>\n",
       "    </tr>\n",
       "    <tr>\n",
       "      <th>2019-12-17</th>\n",
       "      <td>-0.014780</td>\n",
       "      <td>0.282347</td>\n",
       "      <td>-0.463684</td>\n",
       "    </tr>\n",
       "    <tr>\n",
       "      <th>2019-12-18</th>\n",
       "      <td>-0.758198</td>\n",
       "      <td>-0.203642</td>\n",
       "      <td>-1.253731</td>\n",
       "    </tr>\n",
       "  </tbody>\n",
       "</table>\n",
       "</div>"
      ],
      "text/plain": [
       "                   A         B         C\n",
       "2019-12-13 -0.585100  1.628556 -1.872226\n",
       "2019-12-14  1.064775  0.215565 -1.399917\n",
       "2019-12-15  0.478223  0.553351  0.959952\n",
       "2019-12-16  0.510230 -1.291492  0.369808\n",
       "2019-12-17 -0.014780  0.282347 -0.463684\n",
       "2019-12-18 -0.758198 -0.203642 -1.253731"
      ]
     },
     "execution_count": 249,
     "metadata": {},
     "output_type": "execute_result"
    }
   ],
   "source": [
    "# 显式整列切片\n",
    "df.iloc[:,0:3]"
   ]
  },
  {
   "cell_type": "code",
   "execution_count": 250,
   "metadata": {},
   "outputs": [
    {
     "data": {
      "text/plain": [
       "0.21556532528993186"
      ]
     },
     "execution_count": 250,
     "metadata": {},
     "output_type": "execute_result"
    }
   ],
   "source": [
    "# 显式提取值\n",
    "df.iloc[1,1]"
   ]
  },
  {
   "cell_type": "code",
   "execution_count": 251,
   "metadata": {},
   "outputs": [
    {
     "data": {
      "text/plain": [
       "0.21556532528993186"
      ]
     },
     "execution_count": 251,
     "metadata": {},
     "output_type": "execute_result"
    }
   ],
   "source": [
    "# 快速访问标量，与上述方法等效\n",
    "df.iat[1,1]"
   ]
  },
  {
   "cell_type": "markdown",
   "metadata": {},
   "source": [
    "# 5.布尔索引"
   ]
  },
  {
   "cell_type": "code",
   "execution_count": 252,
   "metadata": {},
   "outputs": [
    {
     "data": {
      "text/html": [
       "<div>\n",
       "<style scoped>\n",
       "    .dataframe tbody tr th:only-of-type {\n",
       "        vertical-align: middle;\n",
       "    }\n",
       "\n",
       "    .dataframe tbody tr th {\n",
       "        vertical-align: top;\n",
       "    }\n",
       "\n",
       "    .dataframe thead th {\n",
       "        text-align: right;\n",
       "    }\n",
       "</style>\n",
       "<table border=\"1\" class=\"dataframe\">\n",
       "  <thead>\n",
       "    <tr style=\"text-align: right;\">\n",
       "      <th></th>\n",
       "      <th>A</th>\n",
       "      <th>B</th>\n",
       "      <th>C</th>\n",
       "      <th>D</th>\n",
       "    </tr>\n",
       "  </thead>\n",
       "  <tbody>\n",
       "    <tr>\n",
       "      <th>2019-12-14</th>\n",
       "      <td>1.064775</td>\n",
       "      <td>0.215565</td>\n",
       "      <td>-1.399917</td>\n",
       "      <td>-1.805209</td>\n",
       "    </tr>\n",
       "    <tr>\n",
       "      <th>2019-12-15</th>\n",
       "      <td>0.478223</td>\n",
       "      <td>0.553351</td>\n",
       "      <td>0.959952</td>\n",
       "      <td>1.895294</td>\n",
       "    </tr>\n",
       "    <tr>\n",
       "      <th>2019-12-16</th>\n",
       "      <td>0.510230</td>\n",
       "      <td>-1.291492</td>\n",
       "      <td>0.369808</td>\n",
       "      <td>-0.006208</td>\n",
       "    </tr>\n",
       "  </tbody>\n",
       "</table>\n",
       "</div>"
      ],
      "text/plain": [
       "                   A         B         C         D\n",
       "2019-12-14  1.064775  0.215565 -1.399917 -1.805209\n",
       "2019-12-15  0.478223  0.553351  0.959952  1.895294\n",
       "2019-12-16  0.510230 -1.291492  0.369808 -0.006208"
      ]
     },
     "execution_count": 252,
     "metadata": {},
     "output_type": "execute_result"
    }
   ],
   "source": [
    "# 用单列的值选择数据\n",
    "df[df.A>0]"
   ]
  },
  {
   "cell_type": "code",
   "execution_count": 253,
   "metadata": {},
   "outputs": [
    {
     "data": {
      "text/html": [
       "<div>\n",
       "<style scoped>\n",
       "    .dataframe tbody tr th:only-of-type {\n",
       "        vertical-align: middle;\n",
       "    }\n",
       "\n",
       "    .dataframe tbody tr th {\n",
       "        vertical-align: top;\n",
       "    }\n",
       "\n",
       "    .dataframe thead th {\n",
       "        text-align: right;\n",
       "    }\n",
       "</style>\n",
       "<table border=\"1\" class=\"dataframe\">\n",
       "  <thead>\n",
       "    <tr style=\"text-align: right;\">\n",
       "      <th></th>\n",
       "      <th>A</th>\n",
       "      <th>B</th>\n",
       "      <th>C</th>\n",
       "      <th>D</th>\n",
       "    </tr>\n",
       "  </thead>\n",
       "  <tbody>\n",
       "    <tr>\n",
       "      <th>2019-12-13</th>\n",
       "      <td>NaN</td>\n",
       "      <td>1.628556</td>\n",
       "      <td>NaN</td>\n",
       "      <td>NaN</td>\n",
       "    </tr>\n",
       "    <tr>\n",
       "      <th>2019-12-14</th>\n",
       "      <td>1.064775</td>\n",
       "      <td>0.215565</td>\n",
       "      <td>NaN</td>\n",
       "      <td>NaN</td>\n",
       "    </tr>\n",
       "    <tr>\n",
       "      <th>2019-12-15</th>\n",
       "      <td>0.478223</td>\n",
       "      <td>0.553351</td>\n",
       "      <td>0.959952</td>\n",
       "      <td>1.895294</td>\n",
       "    </tr>\n",
       "    <tr>\n",
       "      <th>2019-12-16</th>\n",
       "      <td>0.510230</td>\n",
       "      <td>NaN</td>\n",
       "      <td>0.369808</td>\n",
       "      <td>NaN</td>\n",
       "    </tr>\n",
       "    <tr>\n",
       "      <th>2019-12-17</th>\n",
       "      <td>NaN</td>\n",
       "      <td>0.282347</td>\n",
       "      <td>NaN</td>\n",
       "      <td>NaN</td>\n",
       "    </tr>\n",
       "    <tr>\n",
       "      <th>2019-12-18</th>\n",
       "      <td>NaN</td>\n",
       "      <td>NaN</td>\n",
       "      <td>NaN</td>\n",
       "      <td>0.694161</td>\n",
       "    </tr>\n",
       "  </tbody>\n",
       "</table>\n",
       "</div>"
      ],
      "text/plain": [
       "                   A         B         C         D\n",
       "2019-12-13       NaN  1.628556       NaN       NaN\n",
       "2019-12-14  1.064775  0.215565       NaN       NaN\n",
       "2019-12-15  0.478223  0.553351  0.959952  1.895294\n",
       "2019-12-16  0.510230       NaN  0.369808       NaN\n",
       "2019-12-17       NaN  0.282347       NaN       NaN\n",
       "2019-12-18       NaN       NaN       NaN  0.694161"
      ]
     },
     "execution_count": 253,
     "metadata": {},
     "output_type": "execute_result"
    }
   ],
   "source": [
    "# 选择 DataFrame 里满足条件的值\n",
    "df[df>0]"
   ]
  },
  {
   "cell_type": "code",
   "execution_count": 254,
   "metadata": {},
   "outputs": [],
   "source": [
    "# 用 isin() 筛选\n",
    "df3=df.copy()\n",
    "df3['E']=['one','one','two','three','four','three']"
   ]
  },
  {
   "cell_type": "code",
   "execution_count": 255,
   "metadata": {},
   "outputs": [
    {
     "data": {
      "text/html": [
       "<div>\n",
       "<style scoped>\n",
       "    .dataframe tbody tr th:only-of-type {\n",
       "        vertical-align: middle;\n",
       "    }\n",
       "\n",
       "    .dataframe tbody tr th {\n",
       "        vertical-align: top;\n",
       "    }\n",
       "\n",
       "    .dataframe thead th {\n",
       "        text-align: right;\n",
       "    }\n",
       "</style>\n",
       "<table border=\"1\" class=\"dataframe\">\n",
       "  <thead>\n",
       "    <tr style=\"text-align: right;\">\n",
       "      <th></th>\n",
       "      <th>A</th>\n",
       "      <th>B</th>\n",
       "      <th>C</th>\n",
       "      <th>D</th>\n",
       "      <th>E</th>\n",
       "    </tr>\n",
       "  </thead>\n",
       "  <tbody>\n",
       "    <tr>\n",
       "      <th>2019-12-13</th>\n",
       "      <td>-0.585100</td>\n",
       "      <td>1.628556</td>\n",
       "      <td>-1.872226</td>\n",
       "      <td>-1.833033</td>\n",
       "      <td>one</td>\n",
       "    </tr>\n",
       "    <tr>\n",
       "      <th>2019-12-14</th>\n",
       "      <td>1.064775</td>\n",
       "      <td>0.215565</td>\n",
       "      <td>-1.399917</td>\n",
       "      <td>-1.805209</td>\n",
       "      <td>one</td>\n",
       "    </tr>\n",
       "    <tr>\n",
       "      <th>2019-12-15</th>\n",
       "      <td>0.478223</td>\n",
       "      <td>0.553351</td>\n",
       "      <td>0.959952</td>\n",
       "      <td>1.895294</td>\n",
       "      <td>two</td>\n",
       "    </tr>\n",
       "    <tr>\n",
       "      <th>2019-12-16</th>\n",
       "      <td>0.510230</td>\n",
       "      <td>-1.291492</td>\n",
       "      <td>0.369808</td>\n",
       "      <td>-0.006208</td>\n",
       "      <td>three</td>\n",
       "    </tr>\n",
       "    <tr>\n",
       "      <th>2019-12-17</th>\n",
       "      <td>-0.014780</td>\n",
       "      <td>0.282347</td>\n",
       "      <td>-0.463684</td>\n",
       "      <td>-0.348046</td>\n",
       "      <td>four</td>\n",
       "    </tr>\n",
       "    <tr>\n",
       "      <th>2019-12-18</th>\n",
       "      <td>-0.758198</td>\n",
       "      <td>-0.203642</td>\n",
       "      <td>-1.253731</td>\n",
       "      <td>0.694161</td>\n",
       "      <td>three</td>\n",
       "    </tr>\n",
       "  </tbody>\n",
       "</table>\n",
       "</div>"
      ],
      "text/plain": [
       "                   A         B         C         D      E\n",
       "2019-12-13 -0.585100  1.628556 -1.872226 -1.833033    one\n",
       "2019-12-14  1.064775  0.215565 -1.399917 -1.805209    one\n",
       "2019-12-15  0.478223  0.553351  0.959952  1.895294    two\n",
       "2019-12-16  0.510230 -1.291492  0.369808 -0.006208  three\n",
       "2019-12-17 -0.014780  0.282347 -0.463684 -0.348046   four\n",
       "2019-12-18 -0.758198 -0.203642 -1.253731  0.694161  three"
      ]
     },
     "execution_count": 255,
     "metadata": {},
     "output_type": "execute_result"
    }
   ],
   "source": [
    "df3"
   ]
  },
  {
   "cell_type": "code",
   "execution_count": 256,
   "metadata": {},
   "outputs": [
    {
     "data": {
      "text/html": [
       "<div>\n",
       "<style scoped>\n",
       "    .dataframe tbody tr th:only-of-type {\n",
       "        vertical-align: middle;\n",
       "    }\n",
       "\n",
       "    .dataframe tbody tr th {\n",
       "        vertical-align: top;\n",
       "    }\n",
       "\n",
       "    .dataframe thead th {\n",
       "        text-align: right;\n",
       "    }\n",
       "</style>\n",
       "<table border=\"1\" class=\"dataframe\">\n",
       "  <thead>\n",
       "    <tr style=\"text-align: right;\">\n",
       "      <th></th>\n",
       "      <th>A</th>\n",
       "      <th>B</th>\n",
       "      <th>C</th>\n",
       "      <th>D</th>\n",
       "      <th>E</th>\n",
       "    </tr>\n",
       "  </thead>\n",
       "  <tbody>\n",
       "    <tr>\n",
       "      <th>2019-12-15</th>\n",
       "      <td>0.478223</td>\n",
       "      <td>0.553351</td>\n",
       "      <td>0.959952</td>\n",
       "      <td>1.895294</td>\n",
       "      <td>two</td>\n",
       "    </tr>\n",
       "    <tr>\n",
       "      <th>2019-12-17</th>\n",
       "      <td>-0.014780</td>\n",
       "      <td>0.282347</td>\n",
       "      <td>-0.463684</td>\n",
       "      <td>-0.348046</td>\n",
       "      <td>four</td>\n",
       "    </tr>\n",
       "  </tbody>\n",
       "</table>\n",
       "</div>"
      ],
      "text/plain": [
       "                   A         B         C         D     E\n",
       "2019-12-15  0.478223  0.553351  0.959952  1.895294   two\n",
       "2019-12-17 -0.014780  0.282347 -0.463684 -0.348046  four"
      ]
     },
     "execution_count": 256,
     "metadata": {},
     "output_type": "execute_result"
    }
   ],
   "source": [
    "df3[df3.E.isin(['two','four'])]"
   ]
  },
  {
   "cell_type": "markdown",
   "metadata": {},
   "source": [
    "# 6.赋值"
   ]
  },
  {
   "cell_type": "code",
   "execution_count": 257,
   "metadata": {},
   "outputs": [
    {
     "data": {
      "text/plain": [
       "2019-12-13    1\n",
       "2019-12-14    2\n",
       "2019-12-15    3\n",
       "2019-12-16    4\n",
       "2019-12-17    5\n",
       "2019-12-18    6\n",
       "Freq: D, dtype: int64"
      ]
     },
     "execution_count": 257,
     "metadata": {},
     "output_type": "execute_result"
    }
   ],
   "source": [
    "# 用索引自动对齐新增列的数据\n",
    "s1=pd.Series([1,2,3,4,5,6],index=pd.date_range('20191213',periods=6))\n",
    "s1"
   ]
  },
  {
   "cell_type": "code",
   "execution_count": 258,
   "metadata": {},
   "outputs": [],
   "source": [
    "df['F']=s1"
   ]
  },
  {
   "cell_type": "code",
   "execution_count": 259,
   "metadata": {},
   "outputs": [
    {
     "name": "stdout",
     "output_type": "stream",
     "text": [
      "                   A         B         C         D  F\n",
      "2019-12-13 -0.585100  1.628556 -1.872226 -1.833033  1\n",
      "2019-12-14  1.064775  0.215565 -1.399917 -1.805209  2\n",
      "2019-12-15  0.478223  0.553351  0.959952  1.895294  3\n",
      "2019-12-16  0.510230 -1.291492  0.369808 -0.006208  4\n",
      "2019-12-17 -0.014780  0.282347 -0.463684 -0.348046  5\n",
      "2019-12-18 -0.758198 -0.203642 -1.253731  0.694161  6\n"
     ]
    }
   ],
   "source": [
    "print(df)"
   ]
  },
  {
   "cell_type": "code",
   "execution_count": 260,
   "metadata": {},
   "outputs": [
    {
     "name": "stdout",
     "output_type": "stream",
     "text": [
      "1.6285564535007468\n",
      "0.0\n"
     ]
    }
   ],
   "source": [
    "# 按标签赋值\n",
    "print(df.iat[0,1])\n",
    "df.iat[0,1]=0\n",
    "print(df.iat[0,1])"
   ]
  },
  {
   "cell_type": "code",
   "execution_count": 261,
   "metadata": {},
   "outputs": [
    {
     "name": "stdout",
     "output_type": "stream",
     "text": [
      "0.0\n",
      "1.0\n"
     ]
    }
   ],
   "source": [
    "# 按位置赋值\n",
    "print(df.iat[0,1])\n",
    "df.iat[0,1]=1\n",
    "print(df.iat[0,1])"
   ]
  },
  {
   "cell_type": "code",
   "execution_count": 262,
   "metadata": {},
   "outputs": [
    {
     "name": "stdout",
     "output_type": "stream",
     "text": [
      "2019-12-13   -1.833033\n",
      "2019-12-14   -1.805209\n",
      "2019-12-15    1.895294\n",
      "2019-12-16   -0.006208\n",
      "2019-12-17   -0.348046\n",
      "2019-12-18    0.694161\n",
      "Freq: D, Name: D, dtype: float64\n",
      "2019-12-13    5\n",
      "2019-12-14    5\n",
      "2019-12-15    5\n",
      "2019-12-16    5\n",
      "2019-12-17    5\n",
      "2019-12-18    5\n",
      "Freq: D, Name: D, dtype: int32\n"
     ]
    }
   ],
   "source": [
    "# 按 NumPy 数组赋值\n",
    "print(df.loc[:,'D'])\n",
    "df.loc[:,'D']=np.array([5]*len(df))\n",
    "print(df.loc[:,'D'])"
   ]
  },
  {
   "cell_type": "markdown",
   "metadata": {},
   "source": [
    "# 7.缺失值"
   ]
  },
  {
   "cell_type": "code",
   "execution_count": 263,
   "metadata": {},
   "outputs": [
    {
     "name": "stdout",
     "output_type": "stream",
     "text": [
      "DatetimeIndex(['2019-12-13', '2019-12-14', '2019-12-15', '2019-12-16'], dtype='datetime64[ns]', freq='D')\n",
      "['A', 'B', 'C', 'D', 'F']\n"
     ]
    },
    {
     "data": {
      "text/html": [
       "<div>\n",
       "<style scoped>\n",
       "    .dataframe tbody tr th:only-of-type {\n",
       "        vertical-align: middle;\n",
       "    }\n",
       "\n",
       "    .dataframe tbody tr th {\n",
       "        vertical-align: top;\n",
       "    }\n",
       "\n",
       "    .dataframe thead th {\n",
       "        text-align: right;\n",
       "    }\n",
       "</style>\n",
       "<table border=\"1\" class=\"dataframe\">\n",
       "  <thead>\n",
       "    <tr style=\"text-align: right;\">\n",
       "      <th></th>\n",
       "      <th>A</th>\n",
       "      <th>B</th>\n",
       "      <th>C</th>\n",
       "      <th>D</th>\n",
       "      <th>F</th>\n",
       "      <th>E</th>\n",
       "    </tr>\n",
       "  </thead>\n",
       "  <tbody>\n",
       "    <tr>\n",
       "      <th>2019-12-13</th>\n",
       "      <td>-0.585100</td>\n",
       "      <td>1.000000</td>\n",
       "      <td>-1.872226</td>\n",
       "      <td>5</td>\n",
       "      <td>1</td>\n",
       "      <td>NaN</td>\n",
       "    </tr>\n",
       "    <tr>\n",
       "      <th>2019-12-14</th>\n",
       "      <td>1.064775</td>\n",
       "      <td>0.215565</td>\n",
       "      <td>-1.399917</td>\n",
       "      <td>5</td>\n",
       "      <td>2</td>\n",
       "      <td>NaN</td>\n",
       "    </tr>\n",
       "    <tr>\n",
       "      <th>2019-12-15</th>\n",
       "      <td>0.478223</td>\n",
       "      <td>0.553351</td>\n",
       "      <td>0.959952</td>\n",
       "      <td>5</td>\n",
       "      <td>3</td>\n",
       "      <td>NaN</td>\n",
       "    </tr>\n",
       "    <tr>\n",
       "      <th>2019-12-16</th>\n",
       "      <td>0.510230</td>\n",
       "      <td>-1.291492</td>\n",
       "      <td>0.369808</td>\n",
       "      <td>5</td>\n",
       "      <td>4</td>\n",
       "      <td>NaN</td>\n",
       "    </tr>\n",
       "  </tbody>\n",
       "</table>\n",
       "</div>"
      ],
      "text/plain": [
       "                   A         B         C  D  F   E\n",
       "2019-12-13 -0.585100  1.000000 -1.872226  5  1 NaN\n",
       "2019-12-14  1.064775  0.215565 -1.399917  5  2 NaN\n",
       "2019-12-15  0.478223  0.553351  0.959952  5  3 NaN\n",
       "2019-12-16  0.510230 -1.291492  0.369808  5  4 NaN"
      ]
     },
     "execution_count": 263,
     "metadata": {},
     "output_type": "execute_result"
    }
   ],
   "source": [
    "# Pandas 主要用 np.nan 表示缺失数据。 计算时，默认不包含空值。\n",
    "# 重建索引（reindex）可以更改、添加、删除指定轴的索引，并返回数据副本，即不更改原数据。\n",
    "print(dates[0:4])\n",
    "print(list(df.columns))\n",
    "df1 = df.reindex(index=dates[0:4], columns=list(df.columns) + ['E'])\n",
    "df1"
   ]
  },
  {
   "cell_type": "code",
   "execution_count": 264,
   "metadata": {},
   "outputs": [
    {
     "data": {
      "text/html": [
       "<div>\n",
       "<style scoped>\n",
       "    .dataframe tbody tr th:only-of-type {\n",
       "        vertical-align: middle;\n",
       "    }\n",
       "\n",
       "    .dataframe tbody tr th {\n",
       "        vertical-align: top;\n",
       "    }\n",
       "\n",
       "    .dataframe thead th {\n",
       "        text-align: right;\n",
       "    }\n",
       "</style>\n",
       "<table border=\"1\" class=\"dataframe\">\n",
       "  <thead>\n",
       "    <tr style=\"text-align: right;\">\n",
       "      <th></th>\n",
       "      <th>A</th>\n",
       "      <th>B</th>\n",
       "      <th>C</th>\n",
       "      <th>D</th>\n",
       "      <th>F</th>\n",
       "      <th>E</th>\n",
       "    </tr>\n",
       "  </thead>\n",
       "  <tbody>\n",
       "  </tbody>\n",
       "</table>\n",
       "</div>"
      ],
      "text/plain": [
       "Empty DataFrame\n",
       "Columns: [A, B, C, D, F, E]\n",
       "Index: []"
      ]
     },
     "execution_count": 264,
     "metadata": {},
     "output_type": "execute_result"
    }
   ],
   "source": [
    "# 删除所有含缺失值的行\n",
    "df1.dropna(how='any')"
   ]
  },
  {
   "cell_type": "code",
   "execution_count": 265,
   "metadata": {},
   "outputs": [
    {
     "data": {
      "text/html": [
       "<div>\n",
       "<style scoped>\n",
       "    .dataframe tbody tr th:only-of-type {\n",
       "        vertical-align: middle;\n",
       "    }\n",
       "\n",
       "    .dataframe tbody tr th {\n",
       "        vertical-align: top;\n",
       "    }\n",
       "\n",
       "    .dataframe thead th {\n",
       "        text-align: right;\n",
       "    }\n",
       "</style>\n",
       "<table border=\"1\" class=\"dataframe\">\n",
       "  <thead>\n",
       "    <tr style=\"text-align: right;\">\n",
       "      <th></th>\n",
       "      <th>A</th>\n",
       "      <th>B</th>\n",
       "      <th>C</th>\n",
       "      <th>D</th>\n",
       "      <th>F</th>\n",
       "      <th>E</th>\n",
       "    </tr>\n",
       "  </thead>\n",
       "  <tbody>\n",
       "    <tr>\n",
       "      <th>2019-12-13</th>\n",
       "      <td>-0.585100</td>\n",
       "      <td>1.000000</td>\n",
       "      <td>-1.872226</td>\n",
       "      <td>5</td>\n",
       "      <td>1</td>\n",
       "      <td>5.0</td>\n",
       "    </tr>\n",
       "    <tr>\n",
       "      <th>2019-12-14</th>\n",
       "      <td>1.064775</td>\n",
       "      <td>0.215565</td>\n",
       "      <td>-1.399917</td>\n",
       "      <td>5</td>\n",
       "      <td>2</td>\n",
       "      <td>5.0</td>\n",
       "    </tr>\n",
       "    <tr>\n",
       "      <th>2019-12-15</th>\n",
       "      <td>0.478223</td>\n",
       "      <td>0.553351</td>\n",
       "      <td>0.959952</td>\n",
       "      <td>5</td>\n",
       "      <td>3</td>\n",
       "      <td>5.0</td>\n",
       "    </tr>\n",
       "    <tr>\n",
       "      <th>2019-12-16</th>\n",
       "      <td>0.510230</td>\n",
       "      <td>-1.291492</td>\n",
       "      <td>0.369808</td>\n",
       "      <td>5</td>\n",
       "      <td>4</td>\n",
       "      <td>5.0</td>\n",
       "    </tr>\n",
       "  </tbody>\n",
       "</table>\n",
       "</div>"
      ],
      "text/plain": [
       "                   A         B         C  D  F    E\n",
       "2019-12-13 -0.585100  1.000000 -1.872226  5  1  5.0\n",
       "2019-12-14  1.064775  0.215565 -1.399917  5  2  5.0\n",
       "2019-12-15  0.478223  0.553351  0.959952  5  3  5.0\n",
       "2019-12-16  0.510230 -1.291492  0.369808  5  4  5.0"
      ]
     },
     "execution_count": 265,
     "metadata": {},
     "output_type": "execute_result"
    }
   ],
   "source": [
    "# 填充缺失值\n",
    "df1.fillna(value=5)"
   ]
  },
  {
   "cell_type": "code",
   "execution_count": 266,
   "metadata": {},
   "outputs": [
    {
     "data": {
      "text/html": [
       "<div>\n",
       "<style scoped>\n",
       "    .dataframe tbody tr th:only-of-type {\n",
       "        vertical-align: middle;\n",
       "    }\n",
       "\n",
       "    .dataframe tbody tr th {\n",
       "        vertical-align: top;\n",
       "    }\n",
       "\n",
       "    .dataframe thead th {\n",
       "        text-align: right;\n",
       "    }\n",
       "</style>\n",
       "<table border=\"1\" class=\"dataframe\">\n",
       "  <thead>\n",
       "    <tr style=\"text-align: right;\">\n",
       "      <th></th>\n",
       "      <th>A</th>\n",
       "      <th>B</th>\n",
       "      <th>C</th>\n",
       "      <th>D</th>\n",
       "      <th>F</th>\n",
       "      <th>E</th>\n",
       "    </tr>\n",
       "  </thead>\n",
       "  <tbody>\n",
       "    <tr>\n",
       "      <th>2019-12-13</th>\n",
       "      <td>False</td>\n",
       "      <td>False</td>\n",
       "      <td>False</td>\n",
       "      <td>False</td>\n",
       "      <td>False</td>\n",
       "      <td>True</td>\n",
       "    </tr>\n",
       "    <tr>\n",
       "      <th>2019-12-14</th>\n",
       "      <td>False</td>\n",
       "      <td>False</td>\n",
       "      <td>False</td>\n",
       "      <td>False</td>\n",
       "      <td>False</td>\n",
       "      <td>True</td>\n",
       "    </tr>\n",
       "    <tr>\n",
       "      <th>2019-12-15</th>\n",
       "      <td>False</td>\n",
       "      <td>False</td>\n",
       "      <td>False</td>\n",
       "      <td>False</td>\n",
       "      <td>False</td>\n",
       "      <td>True</td>\n",
       "    </tr>\n",
       "    <tr>\n",
       "      <th>2019-12-16</th>\n",
       "      <td>False</td>\n",
       "      <td>False</td>\n",
       "      <td>False</td>\n",
       "      <td>False</td>\n",
       "      <td>False</td>\n",
       "      <td>True</td>\n",
       "    </tr>\n",
       "  </tbody>\n",
       "</table>\n",
       "</div>"
      ],
      "text/plain": [
       "                A      B      C      D      F     E\n",
       "2019-12-13  False  False  False  False  False  True\n",
       "2019-12-14  False  False  False  False  False  True\n",
       "2019-12-15  False  False  False  False  False  True\n",
       "2019-12-16  False  False  False  False  False  True"
      ]
     },
     "execution_count": 266,
     "metadata": {},
     "output_type": "execute_result"
    }
   ],
   "source": [
    "# 提取 nan 值的布尔掩码\n",
    "pd.isna(df1)"
   ]
  },
  {
   "cell_type": "markdown",
   "metadata": {},
   "source": [
    "# 8.运算"
   ]
  },
  {
   "cell_type": "code",
   "execution_count": 267,
   "metadata": {},
   "outputs": [
    {
     "data": {
      "text/plain": [
       "A    0.115858\n",
       "B    0.092688\n",
       "C   -0.609966\n",
       "D    5.000000\n",
       "F    3.500000\n",
       "dtype: float64"
      ]
     },
     "execution_count": 267,
     "metadata": {},
     "output_type": "execute_result"
    }
   ],
   "source": [
    "# 统计。一般情况下，运算时排除缺失值。\n",
    "# 描述性统计\n",
    "df.mean()"
   ]
  },
  {
   "cell_type": "code",
   "execution_count": 268,
   "metadata": {},
   "outputs": [
    {
     "data": {
      "text/plain": [
       "2019-12-13    0.908535\n",
       "2019-12-14    1.376085\n",
       "2019-12-15    1.998305\n",
       "2019-12-16    1.717709\n",
       "2019-12-17    1.960777\n",
       "2019-12-18    1.756886\n",
       "Freq: D, dtype: float64"
      ]
     },
     "execution_count": 268,
     "metadata": {},
     "output_type": "execute_result"
    }
   ],
   "source": [
    "# 在另一个轴(即，行)上执行同样的操作\n",
    "df.mean(1)"
   ]
  },
  {
   "cell_type": "code",
   "execution_count": 269,
   "metadata": {},
   "outputs": [
    {
     "data": {
      "text/plain": [
       "2019-12-13    NaN\n",
       "2019-12-14    NaN\n",
       "2019-12-15    1.0\n",
       "2019-12-16    3.0\n",
       "2019-12-17    5.0\n",
       "2019-12-18    NaN\n",
       "Freq: D, dtype: float64"
      ]
     },
     "execution_count": 269,
     "metadata": {},
     "output_type": "execute_result"
    }
   ],
   "source": [
    "# 不同维度对象运算时，要先对齐。 此外，Pandas 自动沿指定维度广播。\n",
    "s = pd.Series([1, 3, 5, np.nan, 6, 8], index=dates).shift(2)\n",
    "s"
   ]
  },
  {
   "cell_type": "code",
   "execution_count": 270,
   "metadata": {},
   "outputs": [
    {
     "data": {
      "text/html": [
       "<div>\n",
       "<style scoped>\n",
       "    .dataframe tbody tr th:only-of-type {\n",
       "        vertical-align: middle;\n",
       "    }\n",
       "\n",
       "    .dataframe tbody tr th {\n",
       "        vertical-align: top;\n",
       "    }\n",
       "\n",
       "    .dataframe thead th {\n",
       "        text-align: right;\n",
       "    }\n",
       "</style>\n",
       "<table border=\"1\" class=\"dataframe\">\n",
       "  <thead>\n",
       "    <tr style=\"text-align: right;\">\n",
       "      <th></th>\n",
       "      <th>A</th>\n",
       "      <th>B</th>\n",
       "      <th>C</th>\n",
       "      <th>D</th>\n",
       "      <th>F</th>\n",
       "    </tr>\n",
       "  </thead>\n",
       "  <tbody>\n",
       "    <tr>\n",
       "      <th>2019-12-13</th>\n",
       "      <td>-0.585100</td>\n",
       "      <td>1.000000</td>\n",
       "      <td>-1.872226</td>\n",
       "      <td>5</td>\n",
       "      <td>1</td>\n",
       "    </tr>\n",
       "    <tr>\n",
       "      <th>2019-12-14</th>\n",
       "      <td>1.064775</td>\n",
       "      <td>0.215565</td>\n",
       "      <td>-1.399917</td>\n",
       "      <td>5</td>\n",
       "      <td>2</td>\n",
       "    </tr>\n",
       "    <tr>\n",
       "      <th>2019-12-15</th>\n",
       "      <td>0.478223</td>\n",
       "      <td>0.553351</td>\n",
       "      <td>0.959952</td>\n",
       "      <td>5</td>\n",
       "      <td>3</td>\n",
       "    </tr>\n",
       "    <tr>\n",
       "      <th>2019-12-16</th>\n",
       "      <td>0.510230</td>\n",
       "      <td>-1.291492</td>\n",
       "      <td>0.369808</td>\n",
       "      <td>5</td>\n",
       "      <td>4</td>\n",
       "    </tr>\n",
       "    <tr>\n",
       "      <th>2019-12-17</th>\n",
       "      <td>-0.014780</td>\n",
       "      <td>0.282347</td>\n",
       "      <td>-0.463684</td>\n",
       "      <td>5</td>\n",
       "      <td>5</td>\n",
       "    </tr>\n",
       "    <tr>\n",
       "      <th>2019-12-18</th>\n",
       "      <td>-0.758198</td>\n",
       "      <td>-0.203642</td>\n",
       "      <td>-1.253731</td>\n",
       "      <td>5</td>\n",
       "      <td>6</td>\n",
       "    </tr>\n",
       "  </tbody>\n",
       "</table>\n",
       "</div>"
      ],
      "text/plain": [
       "                   A         B         C  D  F\n",
       "2019-12-13 -0.585100  1.000000 -1.872226  5  1\n",
       "2019-12-14  1.064775  0.215565 -1.399917  5  2\n",
       "2019-12-15  0.478223  0.553351  0.959952  5  3\n",
       "2019-12-16  0.510230 -1.291492  0.369808  5  4\n",
       "2019-12-17 -0.014780  0.282347 -0.463684  5  5\n",
       "2019-12-18 -0.758198 -0.203642 -1.253731  5  6"
      ]
     },
     "execution_count": 270,
     "metadata": {},
     "output_type": "execute_result"
    }
   ],
   "source": [
    "df"
   ]
  },
  {
   "cell_type": "code",
   "execution_count": 271,
   "metadata": {},
   "outputs": [
    {
     "data": {
      "text/html": [
       "<div>\n",
       "<style scoped>\n",
       "    .dataframe tbody tr th:only-of-type {\n",
       "        vertical-align: middle;\n",
       "    }\n",
       "\n",
       "    .dataframe tbody tr th {\n",
       "        vertical-align: top;\n",
       "    }\n",
       "\n",
       "    .dataframe thead th {\n",
       "        text-align: right;\n",
       "    }\n",
       "</style>\n",
       "<table border=\"1\" class=\"dataframe\">\n",
       "  <thead>\n",
       "    <tr style=\"text-align: right;\">\n",
       "      <th></th>\n",
       "      <th>A</th>\n",
       "      <th>B</th>\n",
       "      <th>C</th>\n",
       "      <th>D</th>\n",
       "      <th>F</th>\n",
       "    </tr>\n",
       "  </thead>\n",
       "  <tbody>\n",
       "    <tr>\n",
       "      <th>2019-12-13</th>\n",
       "      <td>NaN</td>\n",
       "      <td>NaN</td>\n",
       "      <td>NaN</td>\n",
       "      <td>NaN</td>\n",
       "      <td>NaN</td>\n",
       "    </tr>\n",
       "    <tr>\n",
       "      <th>2019-12-14</th>\n",
       "      <td>NaN</td>\n",
       "      <td>NaN</td>\n",
       "      <td>NaN</td>\n",
       "      <td>NaN</td>\n",
       "      <td>NaN</td>\n",
       "    </tr>\n",
       "    <tr>\n",
       "      <th>2019-12-15</th>\n",
       "      <td>-0.521777</td>\n",
       "      <td>-0.446649</td>\n",
       "      <td>-0.040048</td>\n",
       "      <td>4.0</td>\n",
       "      <td>2.0</td>\n",
       "    </tr>\n",
       "    <tr>\n",
       "      <th>2019-12-16</th>\n",
       "      <td>-2.489770</td>\n",
       "      <td>-4.291492</td>\n",
       "      <td>-2.630192</td>\n",
       "      <td>2.0</td>\n",
       "      <td>1.0</td>\n",
       "    </tr>\n",
       "    <tr>\n",
       "      <th>2019-12-17</th>\n",
       "      <td>-5.014780</td>\n",
       "      <td>-4.717653</td>\n",
       "      <td>-5.463684</td>\n",
       "      <td>0.0</td>\n",
       "      <td>0.0</td>\n",
       "    </tr>\n",
       "    <tr>\n",
       "      <th>2019-12-18</th>\n",
       "      <td>NaN</td>\n",
       "      <td>NaN</td>\n",
       "      <td>NaN</td>\n",
       "      <td>NaN</td>\n",
       "      <td>NaN</td>\n",
       "    </tr>\n",
       "  </tbody>\n",
       "</table>\n",
       "</div>"
      ],
      "text/plain": [
       "                   A         B         C    D    F\n",
       "2019-12-13       NaN       NaN       NaN  NaN  NaN\n",
       "2019-12-14       NaN       NaN       NaN  NaN  NaN\n",
       "2019-12-15 -0.521777 -0.446649 -0.040048  4.0  2.0\n",
       "2019-12-16 -2.489770 -4.291492 -2.630192  2.0  1.0\n",
       "2019-12-17 -5.014780 -4.717653 -5.463684  0.0  0.0\n",
       "2019-12-18       NaN       NaN       NaN  NaN  NaN"
      ]
     },
     "execution_count": 271,
     "metadata": {},
     "output_type": "execute_result"
    }
   ],
   "source": [
    "df.sub(s, axis='index')"
   ]
  },
  {
   "cell_type": "markdown",
   "metadata": {},
   "source": [
    "# 9.Apply 函数"
   ]
  },
  {
   "cell_type": "code",
   "execution_count": 272,
   "metadata": {},
   "outputs": [
    {
     "data": {
      "text/html": [
       "<div>\n",
       "<style scoped>\n",
       "    .dataframe tbody tr th:only-of-type {\n",
       "        vertical-align: middle;\n",
       "    }\n",
       "\n",
       "    .dataframe tbody tr th {\n",
       "        vertical-align: top;\n",
       "    }\n",
       "\n",
       "    .dataframe thead th {\n",
       "        text-align: right;\n",
       "    }\n",
       "</style>\n",
       "<table border=\"1\" class=\"dataframe\">\n",
       "  <thead>\n",
       "    <tr style=\"text-align: right;\">\n",
       "      <th></th>\n",
       "      <th>A</th>\n",
       "      <th>B</th>\n",
       "      <th>C</th>\n",
       "      <th>D</th>\n",
       "      <th>F</th>\n",
       "    </tr>\n",
       "  </thead>\n",
       "  <tbody>\n",
       "    <tr>\n",
       "      <th>2019-12-13</th>\n",
       "      <td>-0.585100</td>\n",
       "      <td>1.000000</td>\n",
       "      <td>-1.872226</td>\n",
       "      <td>5</td>\n",
       "      <td>1</td>\n",
       "    </tr>\n",
       "    <tr>\n",
       "      <th>2019-12-14</th>\n",
       "      <td>0.479676</td>\n",
       "      <td>1.215565</td>\n",
       "      <td>-3.272143</td>\n",
       "      <td>10</td>\n",
       "      <td>3</td>\n",
       "    </tr>\n",
       "    <tr>\n",
       "      <th>2019-12-15</th>\n",
       "      <td>0.957899</td>\n",
       "      <td>1.768917</td>\n",
       "      <td>-2.312191</td>\n",
       "      <td>15</td>\n",
       "      <td>6</td>\n",
       "    </tr>\n",
       "    <tr>\n",
       "      <th>2019-12-16</th>\n",
       "      <td>1.468128</td>\n",
       "      <td>0.477424</td>\n",
       "      <td>-1.942383</td>\n",
       "      <td>20</td>\n",
       "      <td>10</td>\n",
       "    </tr>\n",
       "    <tr>\n",
       "      <th>2019-12-17</th>\n",
       "      <td>1.453349</td>\n",
       "      <td>0.759771</td>\n",
       "      <td>-2.406067</td>\n",
       "      <td>25</td>\n",
       "      <td>15</td>\n",
       "    </tr>\n",
       "    <tr>\n",
       "      <th>2019-12-18</th>\n",
       "      <td>0.695151</td>\n",
       "      <td>0.556129</td>\n",
       "      <td>-3.659798</td>\n",
       "      <td>30</td>\n",
       "      <td>21</td>\n",
       "    </tr>\n",
       "  </tbody>\n",
       "</table>\n",
       "</div>"
      ],
      "text/plain": [
       "                   A         B         C   D   F\n",
       "2019-12-13 -0.585100  1.000000 -1.872226   5   1\n",
       "2019-12-14  0.479676  1.215565 -3.272143  10   3\n",
       "2019-12-15  0.957899  1.768917 -2.312191  15   6\n",
       "2019-12-16  1.468128  0.477424 -1.942383  20  10\n",
       "2019-12-17  1.453349  0.759771 -2.406067  25  15\n",
       "2019-12-18  0.695151  0.556129 -3.659798  30  21"
      ]
     },
     "execution_count": 272,
     "metadata": {},
     "output_type": "execute_result"
    }
   ],
   "source": [
    "df.apply(np.cumsum)"
   ]
  },
  {
   "cell_type": "code",
   "execution_count": 273,
   "metadata": {},
   "outputs": [
    {
     "data": {
      "text/plain": [
       "A    1.822973\n",
       "B    2.291492\n",
       "C    2.832178\n",
       "D    0.000000\n",
       "F    5.000000\n",
       "dtype: float64"
      ]
     },
     "execution_count": 273,
     "metadata": {},
     "output_type": "execute_result"
    }
   ],
   "source": [
    "df.apply(lambda x: x.max() - x.min())"
   ]
  },
  {
   "cell_type": "code",
   "execution_count": 274,
   "metadata": {},
   "outputs": [
    {
     "data": {
      "text/plain": [
       "0    6\n",
       "1    3\n",
       "2    5\n",
       "3    1\n",
       "4    0\n",
       "5    4\n",
       "6    1\n",
       "7    1\n",
       "8    6\n",
       "9    0\n",
       "dtype: int32"
      ]
     },
     "execution_count": 274,
     "metadata": {},
     "output_type": "execute_result"
    }
   ],
   "source": [
    "#计数\n",
    "s = pd.Series(np.random.randint(0, 7, size=10))\n",
    "s"
   ]
  },
  {
   "cell_type": "code",
   "execution_count": 275,
   "metadata": {},
   "outputs": [
    {
     "data": {
      "text/plain": [
       "1    3\n",
       "6    2\n",
       "0    2\n",
       "5    1\n",
       "4    1\n",
       "3    1\n",
       "dtype: int64"
      ]
     },
     "execution_count": 275,
     "metadata": {},
     "output_type": "execute_result"
    }
   ],
   "source": [
    "s.value_counts()"
   ]
  },
  {
   "cell_type": "markdown",
   "metadata": {},
   "source": [
    "# 10.字符串方法"
   ]
  },
  {
   "cell_type": "code",
   "execution_count": 276,
   "metadata": {},
   "outputs": [
    {
     "data": {
      "text/plain": [
       "0       A\n",
       "1       B\n",
       "2       C\n",
       "3    Aaba\n",
       "4    Baca\n",
       "5     NaN\n",
       "6    CABA\n",
       "7     dog\n",
       "8     cat\n",
       "dtype: object"
      ]
     },
     "execution_count": 276,
     "metadata": {},
     "output_type": "execute_result"
    }
   ],
   "source": [
    "# Series 的 str 属性包含一组字符串处理功能\n",
    "s = pd.Series(['A', 'B', 'C', 'Aaba', 'Baca', np.nan, 'CABA', 'dog', 'cat'])\n",
    "s"
   ]
  },
  {
   "cell_type": "code",
   "execution_count": 277,
   "metadata": {},
   "outputs": [
    {
     "data": {
      "text/plain": [
       "0       a\n",
       "1       b\n",
       "2       c\n",
       "3    aaba\n",
       "4    baca\n",
       "5     NaN\n",
       "6    caba\n",
       "7     dog\n",
       "8     cat\n",
       "dtype: object"
      ]
     },
     "execution_count": 277,
     "metadata": {},
     "output_type": "execute_result"
    }
   ],
   "source": [
    "s.str.lower()"
   ]
  },
  {
   "cell_type": "markdown",
   "metadata": {},
   "source": [
    "# 11.合并（Merge）"
   ]
  },
  {
   "cell_type": "code",
   "execution_count": 278,
   "metadata": {},
   "outputs": [
    {
     "data": {
      "text/html": [
       "<div>\n",
       "<style scoped>\n",
       "    .dataframe tbody tr th:only-of-type {\n",
       "        vertical-align: middle;\n",
       "    }\n",
       "\n",
       "    .dataframe tbody tr th {\n",
       "        vertical-align: top;\n",
       "    }\n",
       "\n",
       "    .dataframe thead th {\n",
       "        text-align: right;\n",
       "    }\n",
       "</style>\n",
       "<table border=\"1\" class=\"dataframe\">\n",
       "  <thead>\n",
       "    <tr style=\"text-align: right;\">\n",
       "      <th></th>\n",
       "      <th>0</th>\n",
       "      <th>1</th>\n",
       "      <th>2</th>\n",
       "      <th>3</th>\n",
       "    </tr>\n",
       "  </thead>\n",
       "  <tbody>\n",
       "    <tr>\n",
       "      <th>0</th>\n",
       "      <td>-0.342130</td>\n",
       "      <td>-0.578454</td>\n",
       "      <td>1.113348</td>\n",
       "      <td>-0.741204</td>\n",
       "    </tr>\n",
       "    <tr>\n",
       "      <th>1</th>\n",
       "      <td>-2.330152</td>\n",
       "      <td>1.107729</td>\n",
       "      <td>-1.668652</td>\n",
       "      <td>-0.365722</td>\n",
       "    </tr>\n",
       "    <tr>\n",
       "      <th>2</th>\n",
       "      <td>-1.118525</td>\n",
       "      <td>-0.323577</td>\n",
       "      <td>-0.285885</td>\n",
       "      <td>0.204709</td>\n",
       "    </tr>\n",
       "    <tr>\n",
       "      <th>3</th>\n",
       "      <td>-0.504020</td>\n",
       "      <td>0.945556</td>\n",
       "      <td>-1.732705</td>\n",
       "      <td>-1.789994</td>\n",
       "    </tr>\n",
       "    <tr>\n",
       "      <th>4</th>\n",
       "      <td>-0.424434</td>\n",
       "      <td>1.141305</td>\n",
       "      <td>-0.832164</td>\n",
       "      <td>0.477412</td>\n",
       "    </tr>\n",
       "    <tr>\n",
       "      <th>5</th>\n",
       "      <td>-0.127263</td>\n",
       "      <td>0.590601</td>\n",
       "      <td>1.660035</td>\n",
       "      <td>-0.038803</td>\n",
       "    </tr>\n",
       "    <tr>\n",
       "      <th>6</th>\n",
       "      <td>2.826469</td>\n",
       "      <td>1.415183</td>\n",
       "      <td>1.455740</td>\n",
       "      <td>1.432125</td>\n",
       "    </tr>\n",
       "    <tr>\n",
       "      <th>7</th>\n",
       "      <td>-1.967651</td>\n",
       "      <td>0.362964</td>\n",
       "      <td>0.497108</td>\n",
       "      <td>-0.933790</td>\n",
       "    </tr>\n",
       "    <tr>\n",
       "      <th>8</th>\n",
       "      <td>-0.677070</td>\n",
       "      <td>-1.277821</td>\n",
       "      <td>-0.671529</td>\n",
       "      <td>-0.003231</td>\n",
       "    </tr>\n",
       "    <tr>\n",
       "      <th>9</th>\n",
       "      <td>-1.518890</td>\n",
       "      <td>-1.157850</td>\n",
       "      <td>1.079663</td>\n",
       "      <td>0.291353</td>\n",
       "    </tr>\n",
       "  </tbody>\n",
       "</table>\n",
       "</div>"
      ],
      "text/plain": [
       "          0         1         2         3\n",
       "0 -0.342130 -0.578454  1.113348 -0.741204\n",
       "1 -2.330152  1.107729 -1.668652 -0.365722\n",
       "2 -1.118525 -0.323577 -0.285885  0.204709\n",
       "3 -0.504020  0.945556 -1.732705 -1.789994\n",
       "4 -0.424434  1.141305 -0.832164  0.477412\n",
       "5 -0.127263  0.590601  1.660035 -0.038803\n",
       "6  2.826469  1.415183  1.455740  1.432125\n",
       "7 -1.967651  0.362964  0.497108 -0.933790\n",
       "8 -0.677070 -1.277821 -0.671529 -0.003231\n",
       "9 -1.518890 -1.157850  1.079663  0.291353"
      ]
     },
     "execution_count": 278,
     "metadata": {},
     "output_type": "execute_result"
    }
   ],
   "source": [
    "# 结合（Concat）\n",
    "# Pandas 提供了多种将 Series、DataFrame 对象组合在一起的功能，用索引与关联代数功能的多种设置逻辑可执行连接（join）与合并（merge）操作。\n",
    "# concat() 用于连接 Pandas 对象：\n",
    "df = pd.DataFrame(np.random.randn(10, 4))\n",
    "df"
   ]
  },
  {
   "cell_type": "code",
   "execution_count": 279,
   "metadata": {},
   "outputs": [
    {
     "data": {
      "text/plain": [
       "[          0         1         2         3\n",
       " 0 -0.342130 -0.578454  1.113348 -0.741204\n",
       " 1 -2.330152  1.107729 -1.668652 -0.365722\n",
       " 2 -1.118525 -0.323577 -0.285885  0.204709,\n",
       "           0         1         2         3\n",
       " 3 -0.504020  0.945556 -1.732705 -1.789994\n",
       " 4 -0.424434  1.141305 -0.832164  0.477412\n",
       " 5 -0.127263  0.590601  1.660035 -0.038803\n",
       " 6  2.826469  1.415183  1.455740  1.432125,\n",
       "           0         1         2         3\n",
       " 7 -1.967651  0.362964  0.497108 -0.933790\n",
       " 8 -0.677070 -1.277821 -0.671529 -0.003231\n",
       " 9 -1.518890 -1.157850  1.079663  0.291353]"
      ]
     },
     "execution_count": 279,
     "metadata": {},
     "output_type": "execute_result"
    }
   ],
   "source": [
    "pieces = [df[:3], df[3:7], df[7:]]\n",
    "pieces"
   ]
  },
  {
   "cell_type": "code",
   "execution_count": 280,
   "metadata": {},
   "outputs": [
    {
     "data": {
      "text/html": [
       "<div>\n",
       "<style scoped>\n",
       "    .dataframe tbody tr th:only-of-type {\n",
       "        vertical-align: middle;\n",
       "    }\n",
       "\n",
       "    .dataframe tbody tr th {\n",
       "        vertical-align: top;\n",
       "    }\n",
       "\n",
       "    .dataframe thead th {\n",
       "        text-align: right;\n",
       "    }\n",
       "</style>\n",
       "<table border=\"1\" class=\"dataframe\">\n",
       "  <thead>\n",
       "    <tr style=\"text-align: right;\">\n",
       "      <th></th>\n",
       "      <th>0</th>\n",
       "      <th>1</th>\n",
       "      <th>2</th>\n",
       "      <th>3</th>\n",
       "    </tr>\n",
       "  </thead>\n",
       "  <tbody>\n",
       "    <tr>\n",
       "      <th>0</th>\n",
       "      <td>-0.342130</td>\n",
       "      <td>-0.578454</td>\n",
       "      <td>1.113348</td>\n",
       "      <td>-0.741204</td>\n",
       "    </tr>\n",
       "    <tr>\n",
       "      <th>1</th>\n",
       "      <td>-2.330152</td>\n",
       "      <td>1.107729</td>\n",
       "      <td>-1.668652</td>\n",
       "      <td>-0.365722</td>\n",
       "    </tr>\n",
       "    <tr>\n",
       "      <th>2</th>\n",
       "      <td>-1.118525</td>\n",
       "      <td>-0.323577</td>\n",
       "      <td>-0.285885</td>\n",
       "      <td>0.204709</td>\n",
       "    </tr>\n",
       "    <tr>\n",
       "      <th>3</th>\n",
       "      <td>-0.504020</td>\n",
       "      <td>0.945556</td>\n",
       "      <td>-1.732705</td>\n",
       "      <td>-1.789994</td>\n",
       "    </tr>\n",
       "    <tr>\n",
       "      <th>4</th>\n",
       "      <td>-0.424434</td>\n",
       "      <td>1.141305</td>\n",
       "      <td>-0.832164</td>\n",
       "      <td>0.477412</td>\n",
       "    </tr>\n",
       "    <tr>\n",
       "      <th>5</th>\n",
       "      <td>-0.127263</td>\n",
       "      <td>0.590601</td>\n",
       "      <td>1.660035</td>\n",
       "      <td>-0.038803</td>\n",
       "    </tr>\n",
       "    <tr>\n",
       "      <th>6</th>\n",
       "      <td>2.826469</td>\n",
       "      <td>1.415183</td>\n",
       "      <td>1.455740</td>\n",
       "      <td>1.432125</td>\n",
       "    </tr>\n",
       "    <tr>\n",
       "      <th>7</th>\n",
       "      <td>-1.967651</td>\n",
       "      <td>0.362964</td>\n",
       "      <td>0.497108</td>\n",
       "      <td>-0.933790</td>\n",
       "    </tr>\n",
       "    <tr>\n",
       "      <th>8</th>\n",
       "      <td>-0.677070</td>\n",
       "      <td>-1.277821</td>\n",
       "      <td>-0.671529</td>\n",
       "      <td>-0.003231</td>\n",
       "    </tr>\n",
       "    <tr>\n",
       "      <th>9</th>\n",
       "      <td>-1.518890</td>\n",
       "      <td>-1.157850</td>\n",
       "      <td>1.079663</td>\n",
       "      <td>0.291353</td>\n",
       "    </tr>\n",
       "  </tbody>\n",
       "</table>\n",
       "</div>"
      ],
      "text/plain": [
       "          0         1         2         3\n",
       "0 -0.342130 -0.578454  1.113348 -0.741204\n",
       "1 -2.330152  1.107729 -1.668652 -0.365722\n",
       "2 -1.118525 -0.323577 -0.285885  0.204709\n",
       "3 -0.504020  0.945556 -1.732705 -1.789994\n",
       "4 -0.424434  1.141305 -0.832164  0.477412\n",
       "5 -0.127263  0.590601  1.660035 -0.038803\n",
       "6  2.826469  1.415183  1.455740  1.432125\n",
       "7 -1.967651  0.362964  0.497108 -0.933790\n",
       "8 -0.677070 -1.277821 -0.671529 -0.003231\n",
       "9 -1.518890 -1.157850  1.079663  0.291353"
      ]
     },
     "execution_count": 280,
     "metadata": {},
     "output_type": "execute_result"
    }
   ],
   "source": [
    "pd.concat(pieces)"
   ]
  },
  {
   "cell_type": "code",
   "execution_count": 281,
   "metadata": {},
   "outputs": [
    {
     "name": "stdout",
     "output_type": "stream",
     "text": [
      "   key  lval\n",
      "0  foo     1\n",
      "1  foo     2\n",
      "   key  rval\n",
      "0  foo     4\n",
      "1  foo     5\n"
     ]
    }
   ],
   "source": [
    "# 连接（join） SQL 风格的合并\n",
    "left = pd.DataFrame({'key': ['foo', 'foo'], 'lval': [1, 2]})\n",
    "right = pd.DataFrame({'key': ['foo', 'foo'], 'rval': [4, 5]})\n",
    "print(left)\n",
    "print(right)"
   ]
  },
  {
   "cell_type": "code",
   "execution_count": 282,
   "metadata": {},
   "outputs": [
    {
     "data": {
      "text/html": [
       "<div>\n",
       "<style scoped>\n",
       "    .dataframe tbody tr th:only-of-type {\n",
       "        vertical-align: middle;\n",
       "    }\n",
       "\n",
       "    .dataframe tbody tr th {\n",
       "        vertical-align: top;\n",
       "    }\n",
       "\n",
       "    .dataframe thead th {\n",
       "        text-align: right;\n",
       "    }\n",
       "</style>\n",
       "<table border=\"1\" class=\"dataframe\">\n",
       "  <thead>\n",
       "    <tr style=\"text-align: right;\">\n",
       "      <th></th>\n",
       "      <th>key</th>\n",
       "      <th>lval</th>\n",
       "      <th>rval</th>\n",
       "    </tr>\n",
       "  </thead>\n",
       "  <tbody>\n",
       "    <tr>\n",
       "      <th>0</th>\n",
       "      <td>foo</td>\n",
       "      <td>1</td>\n",
       "      <td>4</td>\n",
       "    </tr>\n",
       "    <tr>\n",
       "      <th>1</th>\n",
       "      <td>foo</td>\n",
       "      <td>1</td>\n",
       "      <td>5</td>\n",
       "    </tr>\n",
       "    <tr>\n",
       "      <th>2</th>\n",
       "      <td>foo</td>\n",
       "      <td>2</td>\n",
       "      <td>4</td>\n",
       "    </tr>\n",
       "    <tr>\n",
       "      <th>3</th>\n",
       "      <td>foo</td>\n",
       "      <td>2</td>\n",
       "      <td>5</td>\n",
       "    </tr>\n",
       "  </tbody>\n",
       "</table>\n",
       "</div>"
      ],
      "text/plain": [
       "   key  lval  rval\n",
       "0  foo     1     4\n",
       "1  foo     1     5\n",
       "2  foo     2     4\n",
       "3  foo     2     5"
      ]
     },
     "execution_count": 282,
     "metadata": {},
     "output_type": "execute_result"
    }
   ],
   "source": [
    "pd.merge(left, right, on='key')"
   ]
  },
  {
   "cell_type": "code",
   "execution_count": 283,
   "metadata": {},
   "outputs": [
    {
     "name": "stdout",
     "output_type": "stream",
     "text": [
      "   key  lval\n",
      "0  foo     1\n",
      "1  bar     2\n",
      "   key  rval\n",
      "0  foo     4\n",
      "1  bar     5\n"
     ]
    }
   ],
   "source": [
    "left = pd.DataFrame({'key': ['foo', 'bar'], 'lval': [1, 2]})\n",
    "right = pd.DataFrame({'key': ['foo', 'bar'], 'rval': [4, 5]})\n",
    "print(left)\n",
    "print(right)"
   ]
  },
  {
   "cell_type": "code",
   "execution_count": 284,
   "metadata": {},
   "outputs": [
    {
     "data": {
      "text/html": [
       "<div>\n",
       "<style scoped>\n",
       "    .dataframe tbody tr th:only-of-type {\n",
       "        vertical-align: middle;\n",
       "    }\n",
       "\n",
       "    .dataframe tbody tr th {\n",
       "        vertical-align: top;\n",
       "    }\n",
       "\n",
       "    .dataframe thead th {\n",
       "        text-align: right;\n",
       "    }\n",
       "</style>\n",
       "<table border=\"1\" class=\"dataframe\">\n",
       "  <thead>\n",
       "    <tr style=\"text-align: right;\">\n",
       "      <th></th>\n",
       "      <th>key</th>\n",
       "      <th>lval</th>\n",
       "      <th>rval</th>\n",
       "    </tr>\n",
       "  </thead>\n",
       "  <tbody>\n",
       "    <tr>\n",
       "      <th>0</th>\n",
       "      <td>foo</td>\n",
       "      <td>1</td>\n",
       "      <td>4</td>\n",
       "    </tr>\n",
       "    <tr>\n",
       "      <th>1</th>\n",
       "      <td>bar</td>\n",
       "      <td>2</td>\n",
       "      <td>5</td>\n",
       "    </tr>\n",
       "  </tbody>\n",
       "</table>\n",
       "</div>"
      ],
      "text/plain": [
       "   key  lval  rval\n",
       "0  foo     1     4\n",
       "1  bar     2     5"
      ]
     },
     "execution_count": 284,
     "metadata": {},
     "output_type": "execute_result"
    }
   ],
   "source": [
    "pd.merge(left, right, on='key')"
   ]
  },
  {
   "cell_type": "code",
   "execution_count": 285,
   "metadata": {},
   "outputs": [
    {
     "data": {
      "text/html": [
       "<div>\n",
       "<style scoped>\n",
       "    .dataframe tbody tr th:only-of-type {\n",
       "        vertical-align: middle;\n",
       "    }\n",
       "\n",
       "    .dataframe tbody tr th {\n",
       "        vertical-align: top;\n",
       "    }\n",
       "\n",
       "    .dataframe thead th {\n",
       "        text-align: right;\n",
       "    }\n",
       "</style>\n",
       "<table border=\"1\" class=\"dataframe\">\n",
       "  <thead>\n",
       "    <tr style=\"text-align: right;\">\n",
       "      <th></th>\n",
       "      <th>A</th>\n",
       "      <th>B</th>\n",
       "      <th>C</th>\n",
       "      <th>D</th>\n",
       "    </tr>\n",
       "  </thead>\n",
       "  <tbody>\n",
       "    <tr>\n",
       "      <th>0</th>\n",
       "      <td>1.301363</td>\n",
       "      <td>1.151776</td>\n",
       "      <td>-0.073864</td>\n",
       "      <td>0.146257</td>\n",
       "    </tr>\n",
       "    <tr>\n",
       "      <th>1</th>\n",
       "      <td>-0.516075</td>\n",
       "      <td>0.510741</td>\n",
       "      <td>2.455267</td>\n",
       "      <td>2.632239</td>\n",
       "    </tr>\n",
       "    <tr>\n",
       "      <th>2</th>\n",
       "      <td>0.358296</td>\n",
       "      <td>-1.305662</td>\n",
       "      <td>-1.237816</td>\n",
       "      <td>1.706588</td>\n",
       "    </tr>\n",
       "    <tr>\n",
       "      <th>3</th>\n",
       "      <td>-0.601053</td>\n",
       "      <td>-1.211784</td>\n",
       "      <td>-1.045565</td>\n",
       "      <td>-0.773029</td>\n",
       "    </tr>\n",
       "    <tr>\n",
       "      <th>4</th>\n",
       "      <td>-0.832007</td>\n",
       "      <td>1.095632</td>\n",
       "      <td>-0.444478</td>\n",
       "      <td>0.395549</td>\n",
       "    </tr>\n",
       "    <tr>\n",
       "      <th>5</th>\n",
       "      <td>0.321344</td>\n",
       "      <td>-0.977545</td>\n",
       "      <td>-0.151597</td>\n",
       "      <td>-1.389360</td>\n",
       "    </tr>\n",
       "    <tr>\n",
       "      <th>6</th>\n",
       "      <td>-0.764598</td>\n",
       "      <td>-0.422113</td>\n",
       "      <td>0.525310</td>\n",
       "      <td>-0.411793</td>\n",
       "    </tr>\n",
       "    <tr>\n",
       "      <th>7</th>\n",
       "      <td>-1.023068</td>\n",
       "      <td>-0.278715</td>\n",
       "      <td>-1.321391</td>\n",
       "      <td>1.652577</td>\n",
       "    </tr>\n",
       "  </tbody>\n",
       "</table>\n",
       "</div>"
      ],
      "text/plain": [
       "          A         B         C         D\n",
       "0  1.301363  1.151776 -0.073864  0.146257\n",
       "1 -0.516075  0.510741  2.455267  2.632239\n",
       "2  0.358296 -1.305662 -1.237816  1.706588\n",
       "3 -0.601053 -1.211784 -1.045565 -0.773029\n",
       "4 -0.832007  1.095632 -0.444478  0.395549\n",
       "5  0.321344 -0.977545 -0.151597 -1.389360\n",
       "6 -0.764598 -0.422113  0.525310 -0.411793\n",
       "7 -1.023068 -0.278715 -1.321391  1.652577"
      ]
     },
     "execution_count": 285,
     "metadata": {},
     "output_type": "execute_result"
    }
   ],
   "source": [
    "# 追加（Append） 为 DataFrame 追加行\n",
    "df = pd.DataFrame(np.random.randn(8, 4), columns=['A', 'B', 'C', 'D'])\n",
    "df"
   ]
  },
  {
   "cell_type": "code",
   "execution_count": 286,
   "metadata": {},
   "outputs": [
    {
     "data": {
      "text/plain": [
       "A   -0.601053\n",
       "B   -1.211784\n",
       "C   -1.045565\n",
       "D   -0.773029\n",
       "Name: 3, dtype: float64"
      ]
     },
     "execution_count": 286,
     "metadata": {},
     "output_type": "execute_result"
    }
   ],
   "source": [
    "s = df.iloc[3]\n",
    "s"
   ]
  },
  {
   "cell_type": "code",
   "execution_count": 287,
   "metadata": {},
   "outputs": [
    {
     "data": {
      "text/html": [
       "<div>\n",
       "<style scoped>\n",
       "    .dataframe tbody tr th:only-of-type {\n",
       "        vertical-align: middle;\n",
       "    }\n",
       "\n",
       "    .dataframe tbody tr th {\n",
       "        vertical-align: top;\n",
       "    }\n",
       "\n",
       "    .dataframe thead th {\n",
       "        text-align: right;\n",
       "    }\n",
       "</style>\n",
       "<table border=\"1\" class=\"dataframe\">\n",
       "  <thead>\n",
       "    <tr style=\"text-align: right;\">\n",
       "      <th></th>\n",
       "      <th>A</th>\n",
       "      <th>B</th>\n",
       "      <th>C</th>\n",
       "      <th>D</th>\n",
       "    </tr>\n",
       "  </thead>\n",
       "  <tbody>\n",
       "    <tr>\n",
       "      <th>0</th>\n",
       "      <td>1.301363</td>\n",
       "      <td>1.151776</td>\n",
       "      <td>-0.073864</td>\n",
       "      <td>0.146257</td>\n",
       "    </tr>\n",
       "    <tr>\n",
       "      <th>1</th>\n",
       "      <td>-0.516075</td>\n",
       "      <td>0.510741</td>\n",
       "      <td>2.455267</td>\n",
       "      <td>2.632239</td>\n",
       "    </tr>\n",
       "    <tr>\n",
       "      <th>2</th>\n",
       "      <td>0.358296</td>\n",
       "      <td>-1.305662</td>\n",
       "      <td>-1.237816</td>\n",
       "      <td>1.706588</td>\n",
       "    </tr>\n",
       "    <tr>\n",
       "      <th>3</th>\n",
       "      <td>-0.601053</td>\n",
       "      <td>-1.211784</td>\n",
       "      <td>-1.045565</td>\n",
       "      <td>-0.773029</td>\n",
       "    </tr>\n",
       "    <tr>\n",
       "      <th>4</th>\n",
       "      <td>-0.832007</td>\n",
       "      <td>1.095632</td>\n",
       "      <td>-0.444478</td>\n",
       "      <td>0.395549</td>\n",
       "    </tr>\n",
       "    <tr>\n",
       "      <th>5</th>\n",
       "      <td>0.321344</td>\n",
       "      <td>-0.977545</td>\n",
       "      <td>-0.151597</td>\n",
       "      <td>-1.389360</td>\n",
       "    </tr>\n",
       "    <tr>\n",
       "      <th>6</th>\n",
       "      <td>-0.764598</td>\n",
       "      <td>-0.422113</td>\n",
       "      <td>0.525310</td>\n",
       "      <td>-0.411793</td>\n",
       "    </tr>\n",
       "    <tr>\n",
       "      <th>7</th>\n",
       "      <td>-1.023068</td>\n",
       "      <td>-0.278715</td>\n",
       "      <td>-1.321391</td>\n",
       "      <td>1.652577</td>\n",
       "    </tr>\n",
       "    <tr>\n",
       "      <th>8</th>\n",
       "      <td>-0.601053</td>\n",
       "      <td>-1.211784</td>\n",
       "      <td>-1.045565</td>\n",
       "      <td>-0.773029</td>\n",
       "    </tr>\n",
       "  </tbody>\n",
       "</table>\n",
       "</div>"
      ],
      "text/plain": [
       "          A         B         C         D\n",
       "0  1.301363  1.151776 -0.073864  0.146257\n",
       "1 -0.516075  0.510741  2.455267  2.632239\n",
       "2  0.358296 -1.305662 -1.237816  1.706588\n",
       "3 -0.601053 -1.211784 -1.045565 -0.773029\n",
       "4 -0.832007  1.095632 -0.444478  0.395549\n",
       "5  0.321344 -0.977545 -0.151597 -1.389360\n",
       "6 -0.764598 -0.422113  0.525310 -0.411793\n",
       "7 -1.023068 -0.278715 -1.321391  1.652577\n",
       "8 -0.601053 -1.211784 -1.045565 -0.773029"
      ]
     },
     "execution_count": 287,
     "metadata": {},
     "output_type": "execute_result"
    }
   ],
   "source": [
    "df.append(s, ignore_index=True)"
   ]
  },
  {
   "cell_type": "markdown",
   "metadata": {},
   "source": [
    "# 12.分组（Grouping）\n",
    "“group by” 指的是涵盖下列一项或多项步骤的处理流程：\n",
    "分割：按条件把数据分割成多组；\n",
    "应用：为每组单独应用函数；\n",
    "组合：将处理结果组合成一个数据结构。"
   ]
  },
  {
   "cell_type": "code",
   "execution_count": 288,
   "metadata": {},
   "outputs": [
    {
     "data": {
      "text/html": [
       "<div>\n",
       "<style scoped>\n",
       "    .dataframe tbody tr th:only-of-type {\n",
       "        vertical-align: middle;\n",
       "    }\n",
       "\n",
       "    .dataframe tbody tr th {\n",
       "        vertical-align: top;\n",
       "    }\n",
       "\n",
       "    .dataframe thead th {\n",
       "        text-align: right;\n",
       "    }\n",
       "</style>\n",
       "<table border=\"1\" class=\"dataframe\">\n",
       "  <thead>\n",
       "    <tr style=\"text-align: right;\">\n",
       "      <th></th>\n",
       "      <th>A</th>\n",
       "      <th>B</th>\n",
       "      <th>C</th>\n",
       "      <th>D</th>\n",
       "    </tr>\n",
       "  </thead>\n",
       "  <tbody>\n",
       "    <tr>\n",
       "      <th>0</th>\n",
       "      <td>foo</td>\n",
       "      <td>one</td>\n",
       "      <td>0.530263</td>\n",
       "      <td>-0.718301</td>\n",
       "    </tr>\n",
       "    <tr>\n",
       "      <th>1</th>\n",
       "      <td>bar</td>\n",
       "      <td>one</td>\n",
       "      <td>-1.747690</td>\n",
       "      <td>-0.177689</td>\n",
       "    </tr>\n",
       "    <tr>\n",
       "      <th>2</th>\n",
       "      <td>foo</td>\n",
       "      <td>two</td>\n",
       "      <td>-1.108322</td>\n",
       "      <td>-1.124888</td>\n",
       "    </tr>\n",
       "    <tr>\n",
       "      <th>3</th>\n",
       "      <td>bar</td>\n",
       "      <td>three</td>\n",
       "      <td>0.566920</td>\n",
       "      <td>0.185066</td>\n",
       "    </tr>\n",
       "    <tr>\n",
       "      <th>4</th>\n",
       "      <td>foo</td>\n",
       "      <td>two</td>\n",
       "      <td>-0.746205</td>\n",
       "      <td>-0.705325</td>\n",
       "    </tr>\n",
       "    <tr>\n",
       "      <th>5</th>\n",
       "      <td>bar</td>\n",
       "      <td>two</td>\n",
       "      <td>0.409969</td>\n",
       "      <td>-0.317432</td>\n",
       "    </tr>\n",
       "    <tr>\n",
       "      <th>6</th>\n",
       "      <td>foo</td>\n",
       "      <td>one</td>\n",
       "      <td>-0.864279</td>\n",
       "      <td>-0.344906</td>\n",
       "    </tr>\n",
       "    <tr>\n",
       "      <th>7</th>\n",
       "      <td>foo</td>\n",
       "      <td>three</td>\n",
       "      <td>-0.622803</td>\n",
       "      <td>-1.366934</td>\n",
       "    </tr>\n",
       "  </tbody>\n",
       "</table>\n",
       "</div>"
      ],
      "text/plain": [
       "     A      B         C         D\n",
       "0  foo    one  0.530263 -0.718301\n",
       "1  bar    one -1.747690 -0.177689\n",
       "2  foo    two -1.108322 -1.124888\n",
       "3  bar  three  0.566920  0.185066\n",
       "4  foo    two -0.746205 -0.705325\n",
       "5  bar    two  0.409969 -0.317432\n",
       "6  foo    one -0.864279 -0.344906\n",
       "7  foo  three -0.622803 -1.366934"
      ]
     },
     "execution_count": 288,
     "metadata": {},
     "output_type": "execute_result"
    }
   ],
   "source": [
    "df = pd.DataFrame({'A': ['foo', 'bar', 'foo', 'bar',\n",
    "                          'foo', 'bar', 'foo', 'foo'],\n",
    "                   'B': ['one', 'one', 'two', 'three',\n",
    "                         'two', 'two', 'one', 'three'],\n",
    "                   'C': np.random.randn(8),\n",
    "                   'D': np.random.randn(8)})\n",
    "df"
   ]
  },
  {
   "cell_type": "code",
   "execution_count": 289,
   "metadata": {},
   "outputs": [
    {
     "data": {
      "text/html": [
       "<div>\n",
       "<style scoped>\n",
       "    .dataframe tbody tr th:only-of-type {\n",
       "        vertical-align: middle;\n",
       "    }\n",
       "\n",
       "    .dataframe tbody tr th {\n",
       "        vertical-align: top;\n",
       "    }\n",
       "\n",
       "    .dataframe thead th {\n",
       "        text-align: right;\n",
       "    }\n",
       "</style>\n",
       "<table border=\"1\" class=\"dataframe\">\n",
       "  <thead>\n",
       "    <tr style=\"text-align: right;\">\n",
       "      <th></th>\n",
       "      <th>C</th>\n",
       "      <th>D</th>\n",
       "    </tr>\n",
       "    <tr>\n",
       "      <th>A</th>\n",
       "      <th></th>\n",
       "      <th></th>\n",
       "    </tr>\n",
       "  </thead>\n",
       "  <tbody>\n",
       "    <tr>\n",
       "      <th>bar</th>\n",
       "      <td>-0.770802</td>\n",
       "      <td>-0.310054</td>\n",
       "    </tr>\n",
       "    <tr>\n",
       "      <th>foo</th>\n",
       "      <td>-2.811346</td>\n",
       "      <td>-4.260353</td>\n",
       "    </tr>\n",
       "  </tbody>\n",
       "</table>\n",
       "</div>"
      ],
      "text/plain": [
       "            C         D\n",
       "A                      \n",
       "bar -0.770802 -0.310054\n",
       "foo -2.811346 -4.260353"
      ]
     },
     "execution_count": 289,
     "metadata": {},
     "output_type": "execute_result"
    }
   ],
   "source": [
    "# 先分组，再用 sum()函数计算每组的汇总数据：\n",
    "df.groupby('A').sum()"
   ]
  },
  {
   "cell_type": "code",
   "execution_count": 290,
   "metadata": {},
   "outputs": [
    {
     "data": {
      "text/html": [
       "<div>\n",
       "<style scoped>\n",
       "    .dataframe tbody tr th:only-of-type {\n",
       "        vertical-align: middle;\n",
       "    }\n",
       "\n",
       "    .dataframe tbody tr th {\n",
       "        vertical-align: top;\n",
       "    }\n",
       "\n",
       "    .dataframe thead th {\n",
       "        text-align: right;\n",
       "    }\n",
       "</style>\n",
       "<table border=\"1\" class=\"dataframe\">\n",
       "  <thead>\n",
       "    <tr style=\"text-align: right;\">\n",
       "      <th></th>\n",
       "      <th></th>\n",
       "      <th>C</th>\n",
       "      <th>D</th>\n",
       "    </tr>\n",
       "    <tr>\n",
       "      <th>A</th>\n",
       "      <th>B</th>\n",
       "      <th></th>\n",
       "      <th></th>\n",
       "    </tr>\n",
       "  </thead>\n",
       "  <tbody>\n",
       "    <tr>\n",
       "      <th rowspan=\"3\" valign=\"top\">bar</th>\n",
       "      <th>one</th>\n",
       "      <td>-1.747690</td>\n",
       "      <td>-0.177689</td>\n",
       "    </tr>\n",
       "    <tr>\n",
       "      <th>three</th>\n",
       "      <td>0.566920</td>\n",
       "      <td>0.185066</td>\n",
       "    </tr>\n",
       "    <tr>\n",
       "      <th>two</th>\n",
       "      <td>0.409969</td>\n",
       "      <td>-0.317432</td>\n",
       "    </tr>\n",
       "    <tr>\n",
       "      <th rowspan=\"3\" valign=\"top\">foo</th>\n",
       "      <th>one</th>\n",
       "      <td>-0.334016</td>\n",
       "      <td>-1.063207</td>\n",
       "    </tr>\n",
       "    <tr>\n",
       "      <th>three</th>\n",
       "      <td>-0.622803</td>\n",
       "      <td>-1.366934</td>\n",
       "    </tr>\n",
       "    <tr>\n",
       "      <th>two</th>\n",
       "      <td>-1.854527</td>\n",
       "      <td>-1.830212</td>\n",
       "    </tr>\n",
       "  </tbody>\n",
       "</table>\n",
       "</div>"
      ],
      "text/plain": [
       "                  C         D\n",
       "A   B                        \n",
       "bar one   -1.747690 -0.177689\n",
       "    three  0.566920  0.185066\n",
       "    two    0.409969 -0.317432\n",
       "foo one   -0.334016 -1.063207\n",
       "    three -0.622803 -1.366934\n",
       "    two   -1.854527 -1.830212"
      ]
     },
     "execution_count": 290,
     "metadata": {},
     "output_type": "execute_result"
    }
   ],
   "source": [
    "# 多列分组后，生成多层索引，也可以应用 sum 函数：\n",
    "df.groupby(['A', 'B']).sum()"
   ]
  },
  {
   "cell_type": "markdown",
   "metadata": {},
   "source": [
    "# 13.重塑（Reshaping）\n",
    "堆叠（Stack）"
   ]
  },
  {
   "cell_type": "code",
   "execution_count": 291,
   "metadata": {},
   "outputs": [
    {
     "data": {
      "text/plain": [
       "[('bar', 'one'),\n",
       " ('bar', 'two'),\n",
       " ('baz', 'one'),\n",
       " ('baz', 'two'),\n",
       " ('foo', 'one'),\n",
       " ('foo', 'two'),\n",
       " ('qux', 'one'),\n",
       " ('qux', 'two')]"
      ]
     },
     "execution_count": 291,
     "metadata": {},
     "output_type": "execute_result"
    }
   ],
   "source": [
    "tuples = list(zip(*[['bar', 'bar', 'baz', 'baz',\n",
    "                      'foo', 'foo', 'qux', 'qux'],\n",
    "                     ['one', 'two', 'one', 'two',\n",
    "                      'one', 'two', 'one', 'two']]))\n",
    "tuples"
   ]
  },
  {
   "cell_type": "code",
   "execution_count": 292,
   "metadata": {},
   "outputs": [
    {
     "data": {
      "text/plain": [
       "MultiIndex(levels=[['bar', 'baz', 'foo', 'qux'], ['one', 'two']],\n",
       "           labels=[[0, 0, 1, 1, 2, 2, 3, 3], [0, 1, 0, 1, 0, 1, 0, 1]],\n",
       "           names=['first', 'second'])"
      ]
     },
     "execution_count": 292,
     "metadata": {},
     "output_type": "execute_result"
    }
   ],
   "source": [
    "index = pd.MultiIndex.from_tuples(tuples, names=['first', 'second'])\n",
    "index"
   ]
  },
  {
   "cell_type": "code",
   "execution_count": 293,
   "metadata": {},
   "outputs": [
    {
     "data": {
      "text/html": [
       "<div>\n",
       "<style scoped>\n",
       "    .dataframe tbody tr th:only-of-type {\n",
       "        vertical-align: middle;\n",
       "    }\n",
       "\n",
       "    .dataframe tbody tr th {\n",
       "        vertical-align: top;\n",
       "    }\n",
       "\n",
       "    .dataframe thead th {\n",
       "        text-align: right;\n",
       "    }\n",
       "</style>\n",
       "<table border=\"1\" class=\"dataframe\">\n",
       "  <thead>\n",
       "    <tr style=\"text-align: right;\">\n",
       "      <th></th>\n",
       "      <th></th>\n",
       "      <th>A</th>\n",
       "      <th>B</th>\n",
       "    </tr>\n",
       "    <tr>\n",
       "      <th>first</th>\n",
       "      <th>second</th>\n",
       "      <th></th>\n",
       "      <th></th>\n",
       "    </tr>\n",
       "  </thead>\n",
       "  <tbody>\n",
       "    <tr>\n",
       "      <th rowspan=\"2\" valign=\"top\">bar</th>\n",
       "      <th>one</th>\n",
       "      <td>-0.572432</td>\n",
       "      <td>-0.039985</td>\n",
       "    </tr>\n",
       "    <tr>\n",
       "      <th>two</th>\n",
       "      <td>0.819729</td>\n",
       "      <td>0.111610</td>\n",
       "    </tr>\n",
       "    <tr>\n",
       "      <th rowspan=\"2\" valign=\"top\">baz</th>\n",
       "      <th>one</th>\n",
       "      <td>0.211720</td>\n",
       "      <td>0.298437</td>\n",
       "    </tr>\n",
       "    <tr>\n",
       "      <th>two</th>\n",
       "      <td>-2.206726</td>\n",
       "      <td>0.503853</td>\n",
       "    </tr>\n",
       "    <tr>\n",
       "      <th rowspan=\"2\" valign=\"top\">foo</th>\n",
       "      <th>one</th>\n",
       "      <td>-0.184265</td>\n",
       "      <td>1.161203</td>\n",
       "    </tr>\n",
       "    <tr>\n",
       "      <th>two</th>\n",
       "      <td>-0.265063</td>\n",
       "      <td>1.514022</td>\n",
       "    </tr>\n",
       "    <tr>\n",
       "      <th rowspan=\"2\" valign=\"top\">qux</th>\n",
       "      <th>one</th>\n",
       "      <td>-0.345949</td>\n",
       "      <td>-0.299572</td>\n",
       "    </tr>\n",
       "    <tr>\n",
       "      <th>two</th>\n",
       "      <td>0.235924</td>\n",
       "      <td>-0.600983</td>\n",
       "    </tr>\n",
       "  </tbody>\n",
       "</table>\n",
       "</div>"
      ],
      "text/plain": [
       "                     A         B\n",
       "first second                    \n",
       "bar   one    -0.572432 -0.039985\n",
       "      two     0.819729  0.111610\n",
       "baz   one     0.211720  0.298437\n",
       "      two    -2.206726  0.503853\n",
       "foo   one    -0.184265  1.161203\n",
       "      two    -0.265063  1.514022\n",
       "qux   one    -0.345949 -0.299572\n",
       "      two     0.235924 -0.600983"
      ]
     },
     "execution_count": 293,
     "metadata": {},
     "output_type": "execute_result"
    }
   ],
   "source": [
    "df = pd.DataFrame(np.random.randn(8, 2), index=index, columns=['A', 'B'])\n",
    "df"
   ]
  },
  {
   "cell_type": "code",
   "execution_count": 294,
   "metadata": {},
   "outputs": [
    {
     "data": {
      "text/html": [
       "<div>\n",
       "<style scoped>\n",
       "    .dataframe tbody tr th:only-of-type {\n",
       "        vertical-align: middle;\n",
       "    }\n",
       "\n",
       "    .dataframe tbody tr th {\n",
       "        vertical-align: top;\n",
       "    }\n",
       "\n",
       "    .dataframe thead th {\n",
       "        text-align: right;\n",
       "    }\n",
       "</style>\n",
       "<table border=\"1\" class=\"dataframe\">\n",
       "  <thead>\n",
       "    <tr style=\"text-align: right;\">\n",
       "      <th></th>\n",
       "      <th></th>\n",
       "      <th>A</th>\n",
       "      <th>B</th>\n",
       "    </tr>\n",
       "    <tr>\n",
       "      <th>first</th>\n",
       "      <th>second</th>\n",
       "      <th></th>\n",
       "      <th></th>\n",
       "    </tr>\n",
       "  </thead>\n",
       "  <tbody>\n",
       "    <tr>\n",
       "      <th rowspan=\"2\" valign=\"top\">bar</th>\n",
       "      <th>one</th>\n",
       "      <td>-0.572432</td>\n",
       "      <td>-0.039985</td>\n",
       "    </tr>\n",
       "    <tr>\n",
       "      <th>two</th>\n",
       "      <td>0.819729</td>\n",
       "      <td>0.111610</td>\n",
       "    </tr>\n",
       "    <tr>\n",
       "      <th rowspan=\"2\" valign=\"top\">baz</th>\n",
       "      <th>one</th>\n",
       "      <td>0.211720</td>\n",
       "      <td>0.298437</td>\n",
       "    </tr>\n",
       "    <tr>\n",
       "      <th>two</th>\n",
       "      <td>-2.206726</td>\n",
       "      <td>0.503853</td>\n",
       "    </tr>\n",
       "  </tbody>\n",
       "</table>\n",
       "</div>"
      ],
      "text/plain": [
       "                     A         B\n",
       "first second                    \n",
       "bar   one    -0.572432 -0.039985\n",
       "      two     0.819729  0.111610\n",
       "baz   one     0.211720  0.298437\n",
       "      two    -2.206726  0.503853"
      ]
     },
     "execution_count": 294,
     "metadata": {},
     "output_type": "execute_result"
    }
   ],
   "source": [
    "df2 = df[:4]\n",
    "df2"
   ]
  },
  {
   "cell_type": "code",
   "execution_count": 295,
   "metadata": {},
   "outputs": [
    {
     "data": {
      "text/plain": [
       "first  second   \n",
       "bar    one     A   -0.572432\n",
       "               B   -0.039985\n",
       "       two     A    0.819729\n",
       "               B    0.111610\n",
       "baz    one     A    0.211720\n",
       "               B    0.298437\n",
       "       two     A   -2.206726\n",
       "               B    0.503853\n",
       "dtype: float64"
      ]
     },
     "execution_count": 295,
     "metadata": {},
     "output_type": "execute_result"
    }
   ],
   "source": [
    "# stack()方法把 DataFrame 列压缩至一层：\n",
    "stacked = df2.stack()\n",
    "stacked"
   ]
  },
  {
   "cell_type": "code",
   "execution_count": 296,
   "metadata": {},
   "outputs": [
    {
     "data": {
      "text/html": [
       "<div>\n",
       "<style scoped>\n",
       "    .dataframe tbody tr th:only-of-type {\n",
       "        vertical-align: middle;\n",
       "    }\n",
       "\n",
       "    .dataframe tbody tr th {\n",
       "        vertical-align: top;\n",
       "    }\n",
       "\n",
       "    .dataframe thead th {\n",
       "        text-align: right;\n",
       "    }\n",
       "</style>\n",
       "<table border=\"1\" class=\"dataframe\">\n",
       "  <thead>\n",
       "    <tr style=\"text-align: right;\">\n",
       "      <th></th>\n",
       "      <th></th>\n",
       "      <th>A</th>\n",
       "      <th>B</th>\n",
       "    </tr>\n",
       "    <tr>\n",
       "      <th>first</th>\n",
       "      <th>second</th>\n",
       "      <th></th>\n",
       "      <th></th>\n",
       "    </tr>\n",
       "  </thead>\n",
       "  <tbody>\n",
       "    <tr>\n",
       "      <th rowspan=\"2\" valign=\"top\">bar</th>\n",
       "      <th>one</th>\n",
       "      <td>-0.572432</td>\n",
       "      <td>-0.039985</td>\n",
       "    </tr>\n",
       "    <tr>\n",
       "      <th>two</th>\n",
       "      <td>0.819729</td>\n",
       "      <td>0.111610</td>\n",
       "    </tr>\n",
       "    <tr>\n",
       "      <th rowspan=\"2\" valign=\"top\">baz</th>\n",
       "      <th>one</th>\n",
       "      <td>0.211720</td>\n",
       "      <td>0.298437</td>\n",
       "    </tr>\n",
       "    <tr>\n",
       "      <th>two</th>\n",
       "      <td>-2.206726</td>\n",
       "      <td>0.503853</td>\n",
       "    </tr>\n",
       "  </tbody>\n",
       "</table>\n",
       "</div>"
      ],
      "text/plain": [
       "                     A         B\n",
       "first second                    \n",
       "bar   one    -0.572432 -0.039985\n",
       "      two     0.819729  0.111610\n",
       "baz   one     0.211720  0.298437\n",
       "      two    -2.206726  0.503853"
      ]
     },
     "execution_count": 296,
     "metadata": {},
     "output_type": "execute_result"
    }
   ],
   "source": [
    "# 压缩后的 DataFrame 或 Series 具有多层索引， stack() 的逆操作是 unstack()，默认为拆叠最后一层：\n",
    "stacked.unstack()"
   ]
  },
  {
   "cell_type": "code",
   "execution_count": 297,
   "metadata": {},
   "outputs": [
    {
     "data": {
      "text/html": [
       "<div>\n",
       "<style scoped>\n",
       "    .dataframe tbody tr th:only-of-type {\n",
       "        vertical-align: middle;\n",
       "    }\n",
       "\n",
       "    .dataframe tbody tr th {\n",
       "        vertical-align: top;\n",
       "    }\n",
       "\n",
       "    .dataframe thead th {\n",
       "        text-align: right;\n",
       "    }\n",
       "</style>\n",
       "<table border=\"1\" class=\"dataframe\">\n",
       "  <thead>\n",
       "    <tr style=\"text-align: right;\">\n",
       "      <th></th>\n",
       "      <th>second</th>\n",
       "      <th>one</th>\n",
       "      <th>two</th>\n",
       "    </tr>\n",
       "    <tr>\n",
       "      <th>first</th>\n",
       "      <th></th>\n",
       "      <th></th>\n",
       "      <th></th>\n",
       "    </tr>\n",
       "  </thead>\n",
       "  <tbody>\n",
       "    <tr>\n",
       "      <th rowspan=\"2\" valign=\"top\">bar</th>\n",
       "      <th>A</th>\n",
       "      <td>-0.572432</td>\n",
       "      <td>0.819729</td>\n",
       "    </tr>\n",
       "    <tr>\n",
       "      <th>B</th>\n",
       "      <td>-0.039985</td>\n",
       "      <td>0.111610</td>\n",
       "    </tr>\n",
       "    <tr>\n",
       "      <th rowspan=\"2\" valign=\"top\">baz</th>\n",
       "      <th>A</th>\n",
       "      <td>0.211720</td>\n",
       "      <td>-2.206726</td>\n",
       "    </tr>\n",
       "    <tr>\n",
       "      <th>B</th>\n",
       "      <td>0.298437</td>\n",
       "      <td>0.503853</td>\n",
       "    </tr>\n",
       "  </tbody>\n",
       "</table>\n",
       "</div>"
      ],
      "text/plain": [
       "second        one       two\n",
       "first                      \n",
       "bar   A -0.572432  0.819729\n",
       "      B -0.039985  0.111610\n",
       "baz   A  0.211720 -2.206726\n",
       "      B  0.298437  0.503853"
      ]
     },
     "execution_count": 297,
     "metadata": {},
     "output_type": "execute_result"
    }
   ],
   "source": [
    "stacked.unstack(1)"
   ]
  },
  {
   "cell_type": "code",
   "execution_count": 298,
   "metadata": {},
   "outputs": [
    {
     "data": {
      "text/html": [
       "<div>\n",
       "<style scoped>\n",
       "    .dataframe tbody tr th:only-of-type {\n",
       "        vertical-align: middle;\n",
       "    }\n",
       "\n",
       "    .dataframe tbody tr th {\n",
       "        vertical-align: top;\n",
       "    }\n",
       "\n",
       "    .dataframe thead th {\n",
       "        text-align: right;\n",
       "    }\n",
       "</style>\n",
       "<table border=\"1\" class=\"dataframe\">\n",
       "  <thead>\n",
       "    <tr style=\"text-align: right;\">\n",
       "      <th></th>\n",
       "      <th>first</th>\n",
       "      <th>bar</th>\n",
       "      <th>baz</th>\n",
       "    </tr>\n",
       "    <tr>\n",
       "      <th>second</th>\n",
       "      <th></th>\n",
       "      <th></th>\n",
       "      <th></th>\n",
       "    </tr>\n",
       "  </thead>\n",
       "  <tbody>\n",
       "    <tr>\n",
       "      <th rowspan=\"2\" valign=\"top\">one</th>\n",
       "      <th>A</th>\n",
       "      <td>-0.572432</td>\n",
       "      <td>0.211720</td>\n",
       "    </tr>\n",
       "    <tr>\n",
       "      <th>B</th>\n",
       "      <td>-0.039985</td>\n",
       "      <td>0.298437</td>\n",
       "    </tr>\n",
       "    <tr>\n",
       "      <th rowspan=\"2\" valign=\"top\">two</th>\n",
       "      <th>A</th>\n",
       "      <td>0.819729</td>\n",
       "      <td>-2.206726</td>\n",
       "    </tr>\n",
       "    <tr>\n",
       "      <th>B</th>\n",
       "      <td>0.111610</td>\n",
       "      <td>0.503853</td>\n",
       "    </tr>\n",
       "  </tbody>\n",
       "</table>\n",
       "</div>"
      ],
      "text/plain": [
       "first          bar       baz\n",
       "second                      \n",
       "one    A -0.572432  0.211720\n",
       "       B -0.039985  0.298437\n",
       "two    A  0.819729 -2.206726\n",
       "       B  0.111610  0.503853"
      ]
     },
     "execution_count": 298,
     "metadata": {},
     "output_type": "execute_result"
    }
   ],
   "source": [
    "stacked.unstack(0)"
   ]
  },
  {
   "cell_type": "markdown",
   "metadata": {},
   "source": [
    "# 14.数据透视表（Pivot Tables）"
   ]
  },
  {
   "cell_type": "code",
   "execution_count": 299,
   "metadata": {},
   "outputs": [
    {
     "data": {
      "text/html": [
       "<div>\n",
       "<style scoped>\n",
       "    .dataframe tbody tr th:only-of-type {\n",
       "        vertical-align: middle;\n",
       "    }\n",
       "\n",
       "    .dataframe tbody tr th {\n",
       "        vertical-align: top;\n",
       "    }\n",
       "\n",
       "    .dataframe thead th {\n",
       "        text-align: right;\n",
       "    }\n",
       "</style>\n",
       "<table border=\"1\" class=\"dataframe\">\n",
       "  <thead>\n",
       "    <tr style=\"text-align: right;\">\n",
       "      <th></th>\n",
       "      <th>A</th>\n",
       "      <th>B</th>\n",
       "      <th>C</th>\n",
       "      <th>D</th>\n",
       "      <th>E</th>\n",
       "    </tr>\n",
       "  </thead>\n",
       "  <tbody>\n",
       "    <tr>\n",
       "      <th>0</th>\n",
       "      <td>one</td>\n",
       "      <td>A</td>\n",
       "      <td>foo</td>\n",
       "      <td>0.619063</td>\n",
       "      <td>-0.686090</td>\n",
       "    </tr>\n",
       "    <tr>\n",
       "      <th>1</th>\n",
       "      <td>one</td>\n",
       "      <td>B</td>\n",
       "      <td>foo</td>\n",
       "      <td>-2.210015</td>\n",
       "      <td>-0.137430</td>\n",
       "    </tr>\n",
       "    <tr>\n",
       "      <th>2</th>\n",
       "      <td>two</td>\n",
       "      <td>C</td>\n",
       "      <td>foo</td>\n",
       "      <td>1.887088</td>\n",
       "      <td>-1.638814</td>\n",
       "    </tr>\n",
       "    <tr>\n",
       "      <th>3</th>\n",
       "      <td>three</td>\n",
       "      <td>A</td>\n",
       "      <td>bar</td>\n",
       "      <td>-0.087978</td>\n",
       "      <td>-0.125137</td>\n",
       "    </tr>\n",
       "    <tr>\n",
       "      <th>4</th>\n",
       "      <td>one</td>\n",
       "      <td>B</td>\n",
       "      <td>bar</td>\n",
       "      <td>0.728214</td>\n",
       "      <td>0.944422</td>\n",
       "    </tr>\n",
       "    <tr>\n",
       "      <th>5</th>\n",
       "      <td>one</td>\n",
       "      <td>C</td>\n",
       "      <td>bar</td>\n",
       "      <td>-1.353646</td>\n",
       "      <td>0.884368</td>\n",
       "    </tr>\n",
       "    <tr>\n",
       "      <th>6</th>\n",
       "      <td>two</td>\n",
       "      <td>A</td>\n",
       "      <td>foo</td>\n",
       "      <td>-0.453824</td>\n",
       "      <td>1.102215</td>\n",
       "    </tr>\n",
       "    <tr>\n",
       "      <th>7</th>\n",
       "      <td>three</td>\n",
       "      <td>B</td>\n",
       "      <td>foo</td>\n",
       "      <td>0.666691</td>\n",
       "      <td>-0.259000</td>\n",
       "    </tr>\n",
       "    <tr>\n",
       "      <th>8</th>\n",
       "      <td>one</td>\n",
       "      <td>C</td>\n",
       "      <td>foo</td>\n",
       "      <td>-1.479133</td>\n",
       "      <td>-0.708801</td>\n",
       "    </tr>\n",
       "    <tr>\n",
       "      <th>9</th>\n",
       "      <td>one</td>\n",
       "      <td>A</td>\n",
       "      <td>bar</td>\n",
       "      <td>-0.843106</td>\n",
       "      <td>-0.313302</td>\n",
       "    </tr>\n",
       "    <tr>\n",
       "      <th>10</th>\n",
       "      <td>two</td>\n",
       "      <td>B</td>\n",
       "      <td>bar</td>\n",
       "      <td>0.764340</td>\n",
       "      <td>0.622039</td>\n",
       "    </tr>\n",
       "    <tr>\n",
       "      <th>11</th>\n",
       "      <td>three</td>\n",
       "      <td>C</td>\n",
       "      <td>bar</td>\n",
       "      <td>1.163868</td>\n",
       "      <td>1.247970</td>\n",
       "    </tr>\n",
       "  </tbody>\n",
       "</table>\n",
       "</div>"
      ],
      "text/plain": [
       "        A  B    C         D         E\n",
       "0     one  A  foo  0.619063 -0.686090\n",
       "1     one  B  foo -2.210015 -0.137430\n",
       "2     two  C  foo  1.887088 -1.638814\n",
       "3   three  A  bar -0.087978 -0.125137\n",
       "4     one  B  bar  0.728214  0.944422\n",
       "5     one  C  bar -1.353646  0.884368\n",
       "6     two  A  foo -0.453824  1.102215\n",
       "7   three  B  foo  0.666691 -0.259000\n",
       "8     one  C  foo -1.479133 -0.708801\n",
       "9     one  A  bar -0.843106 -0.313302\n",
       "10    two  B  bar  0.764340  0.622039\n",
       "11  three  C  bar  1.163868  1.247970"
      ]
     },
     "execution_count": 299,
     "metadata": {},
     "output_type": "execute_result"
    }
   ],
   "source": [
    "df = pd.DataFrame({'A': ['one', 'one', 'two', 'three'] * 3,\n",
    "                    'B': ['A', 'B', 'C'] * 4,\n",
    "                    'C': ['foo', 'foo', 'foo', 'bar', 'bar', 'bar'] * 2,\n",
    "                    'D': np.random.randn(12),\n",
    "                    'E': np.random.randn(12)})\n",
    "df"
   ]
  },
  {
   "cell_type": "code",
   "execution_count": 300,
   "metadata": {
    "scrolled": false
   },
   "outputs": [
    {
     "data": {
      "text/html": [
       "<div>\n",
       "<style scoped>\n",
       "    .dataframe tbody tr th:only-of-type {\n",
       "        vertical-align: middle;\n",
       "    }\n",
       "\n",
       "    .dataframe tbody tr th {\n",
       "        vertical-align: top;\n",
       "    }\n",
       "\n",
       "    .dataframe thead th {\n",
       "        text-align: right;\n",
       "    }\n",
       "</style>\n",
       "<table border=\"1\" class=\"dataframe\">\n",
       "  <thead>\n",
       "    <tr style=\"text-align: right;\">\n",
       "      <th></th>\n",
       "      <th>C</th>\n",
       "      <th>bar</th>\n",
       "      <th>foo</th>\n",
       "    </tr>\n",
       "    <tr>\n",
       "      <th>A</th>\n",
       "      <th>B</th>\n",
       "      <th></th>\n",
       "      <th></th>\n",
       "    </tr>\n",
       "  </thead>\n",
       "  <tbody>\n",
       "    <tr>\n",
       "      <th rowspan=\"3\" valign=\"top\">one</th>\n",
       "      <th>A</th>\n",
       "      <td>-0.843106</td>\n",
       "      <td>0.619063</td>\n",
       "    </tr>\n",
       "    <tr>\n",
       "      <th>B</th>\n",
       "      <td>0.728214</td>\n",
       "      <td>-2.210015</td>\n",
       "    </tr>\n",
       "    <tr>\n",
       "      <th>C</th>\n",
       "      <td>-1.353646</td>\n",
       "      <td>-1.479133</td>\n",
       "    </tr>\n",
       "    <tr>\n",
       "      <th rowspan=\"3\" valign=\"top\">three</th>\n",
       "      <th>A</th>\n",
       "      <td>-0.087978</td>\n",
       "      <td>NaN</td>\n",
       "    </tr>\n",
       "    <tr>\n",
       "      <th>B</th>\n",
       "      <td>NaN</td>\n",
       "      <td>0.666691</td>\n",
       "    </tr>\n",
       "    <tr>\n",
       "      <th>C</th>\n",
       "      <td>1.163868</td>\n",
       "      <td>NaN</td>\n",
       "    </tr>\n",
       "    <tr>\n",
       "      <th rowspan=\"3\" valign=\"top\">two</th>\n",
       "      <th>A</th>\n",
       "      <td>NaN</td>\n",
       "      <td>-0.453824</td>\n",
       "    </tr>\n",
       "    <tr>\n",
       "      <th>B</th>\n",
       "      <td>0.764340</td>\n",
       "      <td>NaN</td>\n",
       "    </tr>\n",
       "    <tr>\n",
       "      <th>C</th>\n",
       "      <td>NaN</td>\n",
       "      <td>1.887088</td>\n",
       "    </tr>\n",
       "  </tbody>\n",
       "</table>\n",
       "</div>"
      ],
      "text/plain": [
       "C             bar       foo\n",
       "A     B                    \n",
       "one   A -0.843106  0.619063\n",
       "      B  0.728214 -2.210015\n",
       "      C -1.353646 -1.479133\n",
       "three A -0.087978       NaN\n",
       "      B       NaN  0.666691\n",
       "      C  1.163868       NaN\n",
       "two   A       NaN -0.453824\n",
       "      B  0.764340       NaN\n",
       "      C       NaN  1.887088"
      ]
     },
     "execution_count": 300,
     "metadata": {},
     "output_type": "execute_result"
    }
   ],
   "source": [
    "# 用上述数据生成数据透视表非常简单\n",
    "pd.pivot_table(df, values='D', index=['A', 'B'], columns=['C'])"
   ]
  },
  {
   "cell_type": "markdown",
   "metadata": {},
   "source": [
    "# 15.时间序列(TimeSeries)\n",
    "Pandas 为频率转换时重采样提供了虽然简单易用，但强大高效的功能，如，将秒级的数据转换为 5 分钟为频率的数据。\n",
    "这种操作常见于财务应用程序，但又不仅限于此。"
   ]
  },
  {
   "cell_type": "code",
   "execution_count": 301,
   "metadata": {},
   "outputs": [
    {
     "data": {
      "text/plain": [
       "DatetimeIndex(['2019-01-01 00:00:00', '2019-01-01 00:00:01',\n",
       "               '2019-01-01 00:00:02', '2019-01-01 00:00:03',\n",
       "               '2019-01-01 00:00:04', '2019-01-01 00:00:05',\n",
       "               '2019-01-01 00:00:06', '2019-01-01 00:00:07',\n",
       "               '2019-01-01 00:00:08', '2019-01-01 00:00:09',\n",
       "               '2019-01-01 00:00:10', '2019-01-01 00:00:11',\n",
       "               '2019-01-01 00:00:12', '2019-01-01 00:00:13',\n",
       "               '2019-01-01 00:00:14', '2019-01-01 00:00:15',\n",
       "               '2019-01-01 00:00:16', '2019-01-01 00:00:17',\n",
       "               '2019-01-01 00:00:18', '2019-01-01 00:00:19',\n",
       "               '2019-01-01 00:00:20', '2019-01-01 00:00:21',\n",
       "               '2019-01-01 00:00:22', '2019-01-01 00:00:23',\n",
       "               '2019-01-01 00:00:24', '2019-01-01 00:00:25',\n",
       "               '2019-01-01 00:00:26', '2019-01-01 00:00:27',\n",
       "               '2019-01-01 00:00:28', '2019-01-01 00:00:29',\n",
       "               '2019-01-01 00:00:30', '2019-01-01 00:00:31',\n",
       "               '2019-01-01 00:00:32', '2019-01-01 00:00:33',\n",
       "               '2019-01-01 00:00:34', '2019-01-01 00:00:35',\n",
       "               '2019-01-01 00:00:36', '2019-01-01 00:00:37',\n",
       "               '2019-01-01 00:00:38', '2019-01-01 00:00:39',\n",
       "               '2019-01-01 00:00:40', '2019-01-01 00:00:41',\n",
       "               '2019-01-01 00:00:42', '2019-01-01 00:00:43',\n",
       "               '2019-01-01 00:00:44', '2019-01-01 00:00:45',\n",
       "               '2019-01-01 00:00:46', '2019-01-01 00:00:47',\n",
       "               '2019-01-01 00:00:48', '2019-01-01 00:00:49',\n",
       "               '2019-01-01 00:00:50', '2019-01-01 00:00:51',\n",
       "               '2019-01-01 00:00:52', '2019-01-01 00:00:53',\n",
       "               '2019-01-01 00:00:54', '2019-01-01 00:00:55',\n",
       "               '2019-01-01 00:00:56', '2019-01-01 00:00:57',\n",
       "               '2019-01-01 00:00:58', '2019-01-01 00:00:59',\n",
       "               '2019-01-01 00:01:00', '2019-01-01 00:01:01',\n",
       "               '2019-01-01 00:01:02', '2019-01-01 00:01:03',\n",
       "               '2019-01-01 00:01:04', '2019-01-01 00:01:05',\n",
       "               '2019-01-01 00:01:06', '2019-01-01 00:01:07',\n",
       "               '2019-01-01 00:01:08', '2019-01-01 00:01:09',\n",
       "               '2019-01-01 00:01:10', '2019-01-01 00:01:11',\n",
       "               '2019-01-01 00:01:12', '2019-01-01 00:01:13',\n",
       "               '2019-01-01 00:01:14', '2019-01-01 00:01:15',\n",
       "               '2019-01-01 00:01:16', '2019-01-01 00:01:17',\n",
       "               '2019-01-01 00:01:18', '2019-01-01 00:01:19',\n",
       "               '2019-01-01 00:01:20', '2019-01-01 00:01:21',\n",
       "               '2019-01-01 00:01:22', '2019-01-01 00:01:23',\n",
       "               '2019-01-01 00:01:24', '2019-01-01 00:01:25',\n",
       "               '2019-01-01 00:01:26', '2019-01-01 00:01:27',\n",
       "               '2019-01-01 00:01:28', '2019-01-01 00:01:29',\n",
       "               '2019-01-01 00:01:30', '2019-01-01 00:01:31',\n",
       "               '2019-01-01 00:01:32', '2019-01-01 00:01:33',\n",
       "               '2019-01-01 00:01:34', '2019-01-01 00:01:35',\n",
       "               '2019-01-01 00:01:36', '2019-01-01 00:01:37',\n",
       "               '2019-01-01 00:01:38', '2019-01-01 00:01:39'],\n",
       "              dtype='datetime64[ns]', freq='S')"
      ]
     },
     "execution_count": 301,
     "metadata": {},
     "output_type": "execute_result"
    }
   ],
   "source": [
    "rng = pd.date_range('1/1/2019', periods=100, freq='S')\n",
    "rng"
   ]
  },
  {
   "cell_type": "code",
   "execution_count": 302,
   "metadata": {},
   "outputs": [
    {
     "data": {
      "text/plain": [
       "2019-01-01 00:00:00    430\n",
       "2019-01-01 00:00:01    102\n",
       "2019-01-01 00:00:02     50\n",
       "2019-01-01 00:00:03    457\n",
       "2019-01-01 00:00:04    351\n",
       "2019-01-01 00:00:05    244\n",
       "2019-01-01 00:00:06    376\n",
       "2019-01-01 00:00:07    311\n",
       "2019-01-01 00:00:08    122\n",
       "2019-01-01 00:00:09    413\n",
       "2019-01-01 00:00:10    415\n",
       "2019-01-01 00:00:11    233\n",
       "2019-01-01 00:00:12    373\n",
       "2019-01-01 00:00:13    339\n",
       "2019-01-01 00:00:14    349\n",
       "2019-01-01 00:00:15    314\n",
       "2019-01-01 00:00:16     31\n",
       "2019-01-01 00:00:17    141\n",
       "2019-01-01 00:00:18    143\n",
       "2019-01-01 00:00:19     90\n",
       "2019-01-01 00:00:20    265\n",
       "2019-01-01 00:00:21    342\n",
       "2019-01-01 00:00:22     86\n",
       "2019-01-01 00:00:23    234\n",
       "2019-01-01 00:00:24    206\n",
       "2019-01-01 00:00:25    186\n",
       "2019-01-01 00:00:26    275\n",
       "2019-01-01 00:00:27     56\n",
       "2019-01-01 00:00:28    357\n",
       "2019-01-01 00:00:29     73\n",
       "                      ... \n",
       "2019-01-01 00:01:10     86\n",
       "2019-01-01 00:01:11    183\n",
       "2019-01-01 00:01:12    453\n",
       "2019-01-01 00:01:13    245\n",
       "2019-01-01 00:01:14    298\n",
       "2019-01-01 00:01:15    247\n",
       "2019-01-01 00:01:16    431\n",
       "2019-01-01 00:01:17     62\n",
       "2019-01-01 00:01:18     92\n",
       "2019-01-01 00:01:19    363\n",
       "2019-01-01 00:01:20    335\n",
       "2019-01-01 00:01:21     22\n",
       "2019-01-01 00:01:22    384\n",
       "2019-01-01 00:01:23    247\n",
       "2019-01-01 00:01:24    343\n",
       "2019-01-01 00:01:25     32\n",
       "2019-01-01 00:01:26    289\n",
       "2019-01-01 00:01:27     38\n",
       "2019-01-01 00:01:28    141\n",
       "2019-01-01 00:01:29    312\n",
       "2019-01-01 00:01:30    477\n",
       "2019-01-01 00:01:31    181\n",
       "2019-01-01 00:01:32    234\n",
       "2019-01-01 00:01:33    441\n",
       "2019-01-01 00:01:34    355\n",
       "2019-01-01 00:01:35    108\n",
       "2019-01-01 00:01:36    203\n",
       "2019-01-01 00:01:37     67\n",
       "2019-01-01 00:01:38    296\n",
       "2019-01-01 00:01:39    392\n",
       "Freq: S, Length: 100, dtype: int32"
      ]
     },
     "execution_count": 302,
     "metadata": {},
     "output_type": "execute_result"
    }
   ],
   "source": [
    "ts = pd.Series(np.random.randint(0, 500, len(rng)), index=rng)\n",
    "ts"
   ]
  },
  {
   "cell_type": "code",
   "execution_count": 303,
   "metadata": {},
   "outputs": [
    {
     "data": {
      "text/plain": [
       "2019-01-01    26643\n",
       "Freq: 5T, dtype: int32"
      ]
     },
     "execution_count": 303,
     "metadata": {},
     "output_type": "execute_result"
    }
   ],
   "source": [
    "ts.resample('5Min').sum()"
   ]
  },
  {
   "cell_type": "code",
   "execution_count": 304,
   "metadata": {},
   "outputs": [
    {
     "data": {
      "text/plain": [
       "DatetimeIndex(['2019-12-14', '2019-12-15', '2019-12-16', '2019-12-17',\n",
       "               '2019-12-18'],\n",
       "              dtype='datetime64[ns]', freq='D')"
      ]
     },
     "execution_count": 304,
     "metadata": {},
     "output_type": "execute_result"
    }
   ],
   "source": [
    "# 时区表示\n",
    "rng = pd.date_range('14/12/2019 00:00', periods=5, freq='D')\n",
    "rng"
   ]
  },
  {
   "cell_type": "code",
   "execution_count": 305,
   "metadata": {},
   "outputs": [
    {
     "data": {
      "text/plain": [
       "2019-12-14    0.180213\n",
       "2019-12-15    0.624079\n",
       "2019-12-16    0.731623\n",
       "2019-12-17    0.374954\n",
       "2019-12-18    0.365051\n",
       "Freq: D, dtype: float64"
      ]
     },
     "execution_count": 305,
     "metadata": {},
     "output_type": "execute_result"
    }
   ],
   "source": [
    "ts = pd.Series(np.random.randn(len(rng)), rng)\n",
    "ts"
   ]
  },
  {
   "cell_type": "code",
   "execution_count": 306,
   "metadata": {},
   "outputs": [
    {
     "data": {
      "text/plain": [
       "2019-12-14 00:00:00+00:00    0.180213\n",
       "2019-12-15 00:00:00+00:00    0.624079\n",
       "2019-12-16 00:00:00+00:00    0.731623\n",
       "2019-12-17 00:00:00+00:00    0.374954\n",
       "2019-12-18 00:00:00+00:00    0.365051\n",
       "Freq: D, dtype: float64"
      ]
     },
     "execution_count": 306,
     "metadata": {},
     "output_type": "execute_result"
    }
   ],
   "source": [
    "ts_utc = ts.tz_localize('UTC')\n",
    "ts_utc"
   ]
  },
  {
   "cell_type": "code",
   "execution_count": 307,
   "metadata": {},
   "outputs": [
    {
     "data": {
      "text/plain": [
       "2019-12-13 19:00:00-05:00    0.180213\n",
       "2019-12-14 19:00:00-05:00    0.624079\n",
       "2019-12-15 19:00:00-05:00    0.731623\n",
       "2019-12-16 19:00:00-05:00    0.374954\n",
       "2019-12-17 19:00:00-05:00    0.365051\n",
       "Freq: D, dtype: float64"
      ]
     },
     "execution_count": 307,
     "metadata": {},
     "output_type": "execute_result"
    }
   ],
   "source": [
    "# 转换成其它时区\n",
    "ts_utc.tz_convert('US/Eastern')"
   ]
  },
  {
   "cell_type": "code",
   "execution_count": 308,
   "metadata": {},
   "outputs": [
    {
     "data": {
      "text/plain": [
       "DatetimeIndex(['2019-01-31', '2019-02-28', '2019-03-31', '2019-04-30',\n",
       "               '2019-05-31'],\n",
       "              dtype='datetime64[ns]', freq='M')"
      ]
     },
     "execution_count": 308,
     "metadata": {},
     "output_type": "execute_result"
    }
   ],
   "source": [
    "# 转换时间段\n",
    "rng = pd.date_range('1/1/2019', periods=5, freq='M')\n",
    "rng"
   ]
  },
  {
   "cell_type": "code",
   "execution_count": 309,
   "metadata": {},
   "outputs": [
    {
     "data": {
      "text/plain": [
       "2019-01-31   -1.383236\n",
       "2019-02-28   -0.996005\n",
       "2019-03-31   -1.037336\n",
       "2019-04-30   -0.508534\n",
       "2019-05-31   -1.960122\n",
       "Freq: M, dtype: float64"
      ]
     },
     "execution_count": 309,
     "metadata": {},
     "output_type": "execute_result"
    }
   ],
   "source": [
    "ts = pd.Series(np.random.randn(len(rng)), index=rng)\n",
    "ts"
   ]
  },
  {
   "cell_type": "code",
   "execution_count": 310,
   "metadata": {},
   "outputs": [
    {
     "data": {
      "text/plain": [
       "2019-01   -1.383236\n",
       "2019-02   -0.996005\n",
       "2019-03   -1.037336\n",
       "2019-04   -0.508534\n",
       "2019-05   -1.960122\n",
       "Freq: M, dtype: float64"
      ]
     },
     "execution_count": 310,
     "metadata": {},
     "output_type": "execute_result"
    }
   ],
   "source": [
    "ps = ts.to_period()\n",
    "ps"
   ]
  },
  {
   "cell_type": "code",
   "execution_count": 311,
   "metadata": {},
   "outputs": [
    {
     "data": {
      "text/plain": [
       "2019-01-01   -1.383236\n",
       "2019-02-01   -0.996005\n",
       "2019-03-01   -1.037336\n",
       "2019-04-01   -0.508534\n",
       "2019-05-01   -1.960122\n",
       "Freq: MS, dtype: float64"
      ]
     },
     "execution_count": 311,
     "metadata": {},
     "output_type": "execute_result"
    }
   ],
   "source": [
    "ps.to_timestamp()"
   ]
  },
  {
   "cell_type": "code",
   "execution_count": 312,
   "metadata": {},
   "outputs": [
    {
     "data": {
      "text/plain": [
       "PeriodIndex(['2019Q1', '2019Q2', '2019Q3', '2019Q4', '2020Q1', '2020Q2',\n",
       "             '2020Q3', '2020Q4'],\n",
       "            dtype='period[Q-NOV]', freq='Q-NOV')"
      ]
     },
     "execution_count": 312,
     "metadata": {},
     "output_type": "execute_result"
    }
   ],
   "source": [
    "# Pandas 函数可以很方便地转换时间段与时间戳。下例把以 11 月为结束年份的季度频率转换为下一季度月末上午 9 点\n",
    "prng = pd.period_range('2019Q1', '2020Q4', freq='Q-NOV')\n",
    "prng"
   ]
  },
  {
   "cell_type": "code",
   "execution_count": 313,
   "metadata": {},
   "outputs": [
    {
     "data": {
      "text/plain": [
       "2019Q1    2.356884\n",
       "2019Q2    0.343527\n",
       "2019Q3   -1.908404\n",
       "2019Q4    1.557397\n",
       "2020Q1   -0.945814\n",
       "2020Q2    0.870665\n",
       "2020Q3   -0.878804\n",
       "2020Q4   -1.653861\n",
       "Freq: Q-NOV, dtype: float64"
      ]
     },
     "execution_count": 313,
     "metadata": {},
     "output_type": "execute_result"
    }
   ],
   "source": [
    "ts = pd.Series(np.random.randn(len(prng)), prng)\n",
    "ts"
   ]
  },
  {
   "cell_type": "code",
   "execution_count": 314,
   "metadata": {},
   "outputs": [
    {
     "data": {
      "text/plain": [
       "2019-03-01 09:00    2.356884\n",
       "2019-06-01 09:00    0.343527\n",
       "2019-09-01 09:00   -1.908404\n",
       "2019-12-01 09:00    1.557397\n",
       "2020-03-01 09:00   -0.945814\n",
       "2020-06-01 09:00    0.870665\n",
       "2020-09-01 09:00   -0.878804\n",
       "2020-12-01 09:00   -1.653861\n",
       "Freq: H, dtype: float64"
      ]
     },
     "execution_count": 314,
     "metadata": {},
     "output_type": "execute_result"
    }
   ],
   "source": [
    "ts.index = (prng.asfreq('M', 'e') + 1).asfreq('H', 's') + 9\n",
    "ts"
   ]
  },
  {
   "cell_type": "markdown",
   "metadata": {},
   "source": [
    "# 16.类别型（Categoricals）\n",
    "Pandas 的 DataFrame 里可以包含类别数据。"
   ]
  },
  {
   "cell_type": "code",
   "execution_count": 315,
   "metadata": {},
   "outputs": [
    {
     "data": {
      "text/html": [
       "<div>\n",
       "<style scoped>\n",
       "    .dataframe tbody tr th:only-of-type {\n",
       "        vertical-align: middle;\n",
       "    }\n",
       "\n",
       "    .dataframe tbody tr th {\n",
       "        vertical-align: top;\n",
       "    }\n",
       "\n",
       "    .dataframe thead th {\n",
       "        text-align: right;\n",
       "    }\n",
       "</style>\n",
       "<table border=\"1\" class=\"dataframe\">\n",
       "  <thead>\n",
       "    <tr style=\"text-align: right;\">\n",
       "      <th></th>\n",
       "      <th>id</th>\n",
       "      <th>raw_grade</th>\n",
       "    </tr>\n",
       "  </thead>\n",
       "  <tbody>\n",
       "    <tr>\n",
       "      <th>0</th>\n",
       "      <td>1</td>\n",
       "      <td>a</td>\n",
       "    </tr>\n",
       "    <tr>\n",
       "      <th>1</th>\n",
       "      <td>2</td>\n",
       "      <td>b</td>\n",
       "    </tr>\n",
       "    <tr>\n",
       "      <th>2</th>\n",
       "      <td>3</td>\n",
       "      <td>b</td>\n",
       "    </tr>\n",
       "    <tr>\n",
       "      <th>3</th>\n",
       "      <td>4</td>\n",
       "      <td>a</td>\n",
       "    </tr>\n",
       "    <tr>\n",
       "      <th>4</th>\n",
       "      <td>5</td>\n",
       "      <td>a</td>\n",
       "    </tr>\n",
       "    <tr>\n",
       "      <th>5</th>\n",
       "      <td>6</td>\n",
       "      <td>e</td>\n",
       "    </tr>\n",
       "  </tbody>\n",
       "</table>\n",
       "</div>"
      ],
      "text/plain": [
       "   id raw_grade\n",
       "0   1         a\n",
       "1   2         b\n",
       "2   3         b\n",
       "3   4         a\n",
       "4   5         a\n",
       "5   6         e"
      ]
     },
     "execution_count": 315,
     "metadata": {},
     "output_type": "execute_result"
    }
   ],
   "source": [
    "df = pd.DataFrame({\"id\": [1, 2, 3, 4, 5, 6],\n",
    "                    \"raw_grade\": ['a', 'b', 'b', 'a', 'a', 'e']})\n",
    "df"
   ]
  },
  {
   "cell_type": "code",
   "execution_count": 316,
   "metadata": {},
   "outputs": [
    {
     "data": {
      "text/plain": [
       "0    a\n",
       "1    b\n",
       "2    b\n",
       "3    a\n",
       "4    a\n",
       "5    e\n",
       "Name: grade, dtype: category\n",
       "Categories (3, object): [a, b, e]"
      ]
     },
     "execution_count": 316,
     "metadata": {},
     "output_type": "execute_result"
    }
   ],
   "source": [
    "# 将 grade 的原生数据转换为类别型数据\n",
    "df[\"grade\"] = df[\"raw_grade\"].astype(\"category\")\n",
    "df[\"grade\"]"
   ]
  },
  {
   "cell_type": "code",
   "execution_count": 318,
   "metadata": {},
   "outputs": [
    {
     "data": {
      "text/plain": [
       "0    very good\n",
       "1         good\n",
       "2         good\n",
       "3    very good\n",
       "4    very good\n",
       "5     very bad\n",
       "Name: grade, dtype: category\n",
       "Categories (3, object): [very good, good, very bad]"
      ]
     },
     "execution_count": 318,
     "metadata": {},
     "output_type": "execute_result"
    }
   ],
   "source": [
    "# 用有含义的名字重命名不同类型，调用 Series.cat.categories。\n",
    "df[\"grade\"].cat.categories = [\"very good\", \"good\", \"very bad\"]\n",
    "df[\"grade\"]"
   ]
  },
  {
   "cell_type": "code",
   "execution_count": 319,
   "metadata": {},
   "outputs": [
    {
     "data": {
      "text/plain": [
       "0    very good\n",
       "1         good\n",
       "2         good\n",
       "3    very good\n",
       "4    very good\n",
       "5     very bad\n",
       "Name: grade, dtype: category\n",
       "Categories (5, object): [very bad, bad, medium, good, very good]"
      ]
     },
     "execution_count": 319,
     "metadata": {},
     "output_type": "execute_result"
    }
   ],
   "source": [
    "# 重新排序各类别，并添加缺失类，Series.cat 的方法默认返回新 Series\n",
    "df[\"grade\"] = df[\"grade\"].cat.set_categories([\"very bad\", \"bad\", \"medium\",\n",
    "                                              \"good\", \"very good\"])\n",
    "df[\"grade\"]"
   ]
  },
  {
   "cell_type": "code",
   "execution_count": 320,
   "metadata": {},
   "outputs": [
    {
     "data": {
      "text/html": [
       "<div>\n",
       "<style scoped>\n",
       "    .dataframe tbody tr th:only-of-type {\n",
       "        vertical-align: middle;\n",
       "    }\n",
       "\n",
       "    .dataframe tbody tr th {\n",
       "        vertical-align: top;\n",
       "    }\n",
       "\n",
       "    .dataframe thead th {\n",
       "        text-align: right;\n",
       "    }\n",
       "</style>\n",
       "<table border=\"1\" class=\"dataframe\">\n",
       "  <thead>\n",
       "    <tr style=\"text-align: right;\">\n",
       "      <th></th>\n",
       "      <th>id</th>\n",
       "      <th>raw_grade</th>\n",
       "      <th>grade</th>\n",
       "    </tr>\n",
       "  </thead>\n",
       "  <tbody>\n",
       "    <tr>\n",
       "      <th>5</th>\n",
       "      <td>6</td>\n",
       "      <td>e</td>\n",
       "      <td>very bad</td>\n",
       "    </tr>\n",
       "    <tr>\n",
       "      <th>1</th>\n",
       "      <td>2</td>\n",
       "      <td>b</td>\n",
       "      <td>good</td>\n",
       "    </tr>\n",
       "    <tr>\n",
       "      <th>2</th>\n",
       "      <td>3</td>\n",
       "      <td>b</td>\n",
       "      <td>good</td>\n",
       "    </tr>\n",
       "    <tr>\n",
       "      <th>0</th>\n",
       "      <td>1</td>\n",
       "      <td>a</td>\n",
       "      <td>very good</td>\n",
       "    </tr>\n",
       "    <tr>\n",
       "      <th>3</th>\n",
       "      <td>4</td>\n",
       "      <td>a</td>\n",
       "      <td>very good</td>\n",
       "    </tr>\n",
       "    <tr>\n",
       "      <th>4</th>\n",
       "      <td>5</td>\n",
       "      <td>a</td>\n",
       "      <td>very good</td>\n",
       "    </tr>\n",
       "  </tbody>\n",
       "</table>\n",
       "</div>"
      ],
      "text/plain": [
       "   id raw_grade      grade\n",
       "5   6         e   very bad\n",
       "1   2         b       good\n",
       "2   3         b       good\n",
       "0   1         a  very good\n",
       "3   4         a  very good\n",
       "4   5         a  very good"
      ]
     },
     "execution_count": 320,
     "metadata": {},
     "output_type": "execute_result"
    }
   ],
   "source": [
    "# 这里是按生成类别时的顺序排序，不是按词汇排序\n",
    "df.sort_values(by=\"grade\")"
   ]
  },
  {
   "cell_type": "code",
   "execution_count": 321,
   "metadata": {},
   "outputs": [
    {
     "data": {
      "text/plain": [
       "grade\n",
       "very bad     1\n",
       "bad          0\n",
       "medium       0\n",
       "good         2\n",
       "very good    3\n",
       "dtype: int64"
      ]
     },
     "execution_count": 321,
     "metadata": {},
     "output_type": "execute_result"
    }
   ],
   "source": [
    "# 按类列分组（groupby）时，即便某类别为空，也会显示\n",
    "df.groupby(\"grade\").size()"
   ]
  },
  {
   "cell_type": "markdown",
   "metadata": {},
   "source": [
    "# 17.可视化"
   ]
  },
  {
   "cell_type": "code",
   "execution_count": 323,
   "metadata": {},
   "outputs": [
    {
     "data": {
      "text/plain": [
       "2000-01-01    0.298940\n",
       "2000-01-02    0.371745\n",
       "2000-01-03   -0.803217\n",
       "2000-01-04   -0.741803\n",
       "2000-01-05   -0.178984\n",
       "2000-01-06    0.856035\n",
       "2000-01-07    0.369366\n",
       "2000-01-08   -0.314169\n",
       "2000-01-09    0.998677\n",
       "2000-01-10   -1.066088\n",
       "2000-01-11   -0.830968\n",
       "2000-01-12    0.138309\n",
       "2000-01-13    0.984377\n",
       "2000-01-14    1.077287\n",
       "2000-01-15    0.637409\n",
       "2000-01-16    2.447678\n",
       "2000-01-17    1.337438\n",
       "2000-01-18   -0.227190\n",
       "2000-01-19    0.621907\n",
       "2000-01-20   -1.308562\n",
       "2000-01-21    0.144017\n",
       "2000-01-22    0.342098\n",
       "2000-01-23    0.659307\n",
       "2000-01-24   -1.111356\n",
       "2000-01-25   -0.301045\n",
       "2000-01-26   -1.439565\n",
       "2000-01-27    0.562130\n",
       "2000-01-28    0.440003\n",
       "2000-01-29   -0.607567\n",
       "2000-01-30   -0.062129\n",
       "                ...   \n",
       "2002-08-28    0.245335\n",
       "2002-08-29   -1.976786\n",
       "2002-08-30    0.621016\n",
       "2002-08-31    0.399401\n",
       "2002-09-01    1.555479\n",
       "2002-09-02   -0.004152\n",
       "2002-09-03    0.408679\n",
       "2002-09-04    0.098648\n",
       "2002-09-05   -0.501876\n",
       "2002-09-06   -1.206537\n",
       "2002-09-07    0.267111\n",
       "2002-09-08    0.133289\n",
       "2002-09-09   -0.295453\n",
       "2002-09-10    0.300713\n",
       "2002-09-11   -2.524838\n",
       "2002-09-12   -0.362671\n",
       "2002-09-13   -1.146688\n",
       "2002-09-14   -0.186446\n",
       "2002-09-15    0.427379\n",
       "2002-09-16   -0.646665\n",
       "2002-09-17    1.008249\n",
       "2002-09-18    0.454522\n",
       "2002-09-19    0.483975\n",
       "2002-09-20   -1.535939\n",
       "2002-09-21   -0.523800\n",
       "2002-09-22    2.339325\n",
       "2002-09-23    1.050475\n",
       "2002-09-24    0.229570\n",
       "2002-09-25   -0.000067\n",
       "2002-09-26    1.755105\n",
       "Freq: D, Length: 1000, dtype: float64"
      ]
     },
     "execution_count": 323,
     "metadata": {},
     "output_type": "execute_result"
    }
   ],
   "source": [
    "ts = pd.Series(np.random.randn(1000),\n",
    "   .....:                index=pd.date_range('1/1/2000', periods=1000))\n",
    "ts"
   ]
  },
  {
   "cell_type": "code",
   "execution_count": 324,
   "metadata": {},
   "outputs": [
    {
     "data": {
      "text/plain": [
       "2000-01-01     0.298940\n",
       "2000-01-02     0.670685\n",
       "2000-01-03    -0.132533\n",
       "2000-01-04    -0.874336\n",
       "2000-01-05    -1.053320\n",
       "2000-01-06    -0.197285\n",
       "2000-01-07     0.172081\n",
       "2000-01-08    -0.142089\n",
       "2000-01-09     0.856589\n",
       "2000-01-10    -0.209499\n",
       "2000-01-11    -1.040467\n",
       "2000-01-12    -0.902158\n",
       "2000-01-13     0.082219\n",
       "2000-01-14     1.159506\n",
       "2000-01-15     1.796915\n",
       "2000-01-16     4.244593\n",
       "2000-01-17     5.582031\n",
       "2000-01-18     5.354842\n",
       "2000-01-19     5.976749\n",
       "2000-01-20     4.668187\n",
       "2000-01-21     4.812204\n",
       "2000-01-22     5.154302\n",
       "2000-01-23     5.813609\n",
       "2000-01-24     4.702253\n",
       "2000-01-25     4.401208\n",
       "2000-01-26     2.961643\n",
       "2000-01-27     3.523772\n",
       "2000-01-28     3.963776\n",
       "2000-01-29     3.356208\n",
       "2000-01-30     3.294079\n",
       "                ...    \n",
       "2002-08-28    24.697384\n",
       "2002-08-29    22.720598\n",
       "2002-08-30    23.341614\n",
       "2002-08-31    23.741016\n",
       "2002-09-01    25.296495\n",
       "2002-09-02    25.292344\n",
       "2002-09-03    25.701023\n",
       "2002-09-04    25.799671\n",
       "2002-09-05    25.297794\n",
       "2002-09-06    24.091258\n",
       "2002-09-07    24.358368\n",
       "2002-09-08    24.491658\n",
       "2002-09-09    24.196205\n",
       "2002-09-10    24.496918\n",
       "2002-09-11    21.972079\n",
       "2002-09-12    21.609409\n",
       "2002-09-13    20.462721\n",
       "2002-09-14    20.276275\n",
       "2002-09-15    20.703654\n",
       "2002-09-16    20.056989\n",
       "2002-09-17    21.065238\n",
       "2002-09-18    21.519760\n",
       "2002-09-19    22.003735\n",
       "2002-09-20    20.467796\n",
       "2002-09-21    19.943996\n",
       "2002-09-22    22.283321\n",
       "2002-09-23    23.333796\n",
       "2002-09-24    23.563366\n",
       "2002-09-25    23.563300\n",
       "2002-09-26    25.318405\n",
       "Freq: D, Length: 1000, dtype: float64"
      ]
     },
     "execution_count": 324,
     "metadata": {},
     "output_type": "execute_result"
    }
   ],
   "source": [
    "ts = ts.cumsum()\n",
    "ts"
   ]
  },
  {
   "cell_type": "code",
   "execution_count": 331,
   "metadata": {},
   "outputs": [
    {
     "data": {
      "image/png": "[encoded data removed]",
      "text/plain": [
       "<Figure size 432x288 with 1 Axes>"
      ]
     },
     "metadata": {
      "needs_background": "light"
     },
     "output_type": "display_data"
    }
   ],
   "source": [
    "import matplotlib.pyplot as plt\n",
    "ts.plot()\n",
    "plt.show()"
   ]
  },
  {
   "cell_type": "code",
   "execution_count": 332,
   "metadata": {},
   "outputs": [
    {
     "data": {
      "text/plain": [
       "<matplotlib.legend.Legend at 0xdcc5e30>"
      ]
     },
     "execution_count": 332,
     "metadata": {},
     "output_type": "execute_result"
    },
    {
     "data": {
      "text/plain": [
       "<Figure size 432x288 with 0 Axes>"
      ]
     },
     "metadata": {},
     "output_type": "display_data"
    },
    {
     "data": {
      "image/png": "[encoded data removed]",
      "text/plain": [
       "<Figure size 432x288 with 1 Axes>"
      ]
     },
     "metadata": {
      "needs_background": "light"
     },
     "output_type": "display_data"
    }
   ],
   "source": [
    "df = pd.DataFrame(np.random.randn(1000, 4), index=ts.index,\n",
    "   .....:                   columns=['A', 'B', 'C', 'D'])\n",
    "df = df.cumsum()\n",
    "plt.figure()\n",
    "df.plot()\n",
    "plt.legend(loc='best')"
   ]
  },
  {
   "cell_type": "markdown",
   "metadata": {},
   "source": [
    "# 18.数据输入 / 输出"
   ]
  },
  {
   "cell_type": "code",
   "execution_count": 336,
   "metadata": {},
   "outputs": [],
   "source": [
    "# 写入 CSV 文件\n",
    "df.to_csv('foo.csv',index=False)"
   ]
  },
  {
   "cell_type": "code",
   "execution_count": 338,
   "metadata": {},
   "outputs": [
    {
     "data": {
      "text/html": [
       "<div>\n",
       "<style scoped>\n",
       "    .dataframe tbody tr th:only-of-type {\n",
       "        vertical-align: middle;\n",
       "    }\n",
       "\n",
       "    .dataframe tbody tr th {\n",
       "        vertical-align: top;\n",
       "    }\n",
       "\n",
       "    .dataframe thead th {\n",
       "        text-align: right;\n",
       "    }\n",
       "</style>\n",
       "<table border=\"1\" class=\"dataframe\">\n",
       "  <thead>\n",
       "    <tr style=\"text-align: right;\">\n",
       "      <th></th>\n",
       "      <th>A</th>\n",
       "      <th>B</th>\n",
       "      <th>C</th>\n",
       "      <th>D</th>\n",
       "    </tr>\n",
       "  </thead>\n",
       "  <tbody>\n",
       "    <tr>\n",
       "      <th>0</th>\n",
       "      <td>-0.258696</td>\n",
       "      <td>-0.792655</td>\n",
       "      <td>-1.505947</td>\n",
       "      <td>0.923155</td>\n",
       "    </tr>\n",
       "    <tr>\n",
       "      <th>1</th>\n",
       "      <td>-0.524708</td>\n",
       "      <td>0.030836</td>\n",
       "      <td>-0.763467</td>\n",
       "      <td>0.448218</td>\n",
       "    </tr>\n",
       "    <tr>\n",
       "      <th>2</th>\n",
       "      <td>-3.120100</td>\n",
       "      <td>-0.082854</td>\n",
       "      <td>-1.052660</td>\n",
       "      <td>-0.420775</td>\n",
       "    </tr>\n",
       "    <tr>\n",
       "      <th>3</th>\n",
       "      <td>-2.620911</td>\n",
       "      <td>-0.217131</td>\n",
       "      <td>1.780812</td>\n",
       "      <td>0.502880</td>\n",
       "    </tr>\n",
       "    <tr>\n",
       "      <th>4</th>\n",
       "      <td>-3.822881</td>\n",
       "      <td>0.422752</td>\n",
       "      <td>1.042833</td>\n",
       "      <td>-1.713015</td>\n",
       "    </tr>\n",
       "    <tr>\n",
       "      <th>5</th>\n",
       "      <td>-2.957291</td>\n",
       "      <td>0.742886</td>\n",
       "      <td>1.464289</td>\n",
       "      <td>-1.360849</td>\n",
       "    </tr>\n",
       "    <tr>\n",
       "      <th>6</th>\n",
       "      <td>-2.730393</td>\n",
       "      <td>-0.645391</td>\n",
       "      <td>1.568038</td>\n",
       "      <td>-1.853526</td>\n",
       "    </tr>\n",
       "    <tr>\n",
       "      <th>7</th>\n",
       "      <td>-2.722374</td>\n",
       "      <td>-1.852381</td>\n",
       "      <td>0.732534</td>\n",
       "      <td>-1.408192</td>\n",
       "    </tr>\n",
       "    <tr>\n",
       "      <th>8</th>\n",
       "      <td>-1.937396</td>\n",
       "      <td>-1.421644</td>\n",
       "      <td>1.201978</td>\n",
       "      <td>-1.861037</td>\n",
       "    </tr>\n",
       "    <tr>\n",
       "      <th>9</th>\n",
       "      <td>-3.547306</td>\n",
       "      <td>-0.273173</td>\n",
       "      <td>1.676475</td>\n",
       "      <td>-1.407383</td>\n",
       "    </tr>\n",
       "    <tr>\n",
       "      <th>10</th>\n",
       "      <td>-3.051831</td>\n",
       "      <td>-2.183722</td>\n",
       "      <td>1.816989</td>\n",
       "      <td>-1.474146</td>\n",
       "    </tr>\n",
       "    <tr>\n",
       "      <th>11</th>\n",
       "      <td>-0.330079</td>\n",
       "      <td>-3.169515</td>\n",
       "      <td>3.882995</td>\n",
       "      <td>-2.086392</td>\n",
       "    </tr>\n",
       "    <tr>\n",
       "      <th>12</th>\n",
       "      <td>-0.200094</td>\n",
       "      <td>-1.620722</td>\n",
       "      <td>1.959400</td>\n",
       "      <td>-3.056203</td>\n",
       "    </tr>\n",
       "    <tr>\n",
       "      <th>13</th>\n",
       "      <td>1.744669</td>\n",
       "      <td>-1.698698</td>\n",
       "      <td>1.792964</td>\n",
       "      <td>-3.145141</td>\n",
       "    </tr>\n",
       "    <tr>\n",
       "      <th>14</th>\n",
       "      <td>2.112601</td>\n",
       "      <td>-3.242169</td>\n",
       "      <td>3.864794</td>\n",
       "      <td>-1.972808</td>\n",
       "    </tr>\n",
       "    <tr>\n",
       "      <th>15</th>\n",
       "      <td>3.760482</td>\n",
       "      <td>-1.277419</td>\n",
       "      <td>2.920802</td>\n",
       "      <td>-1.424206</td>\n",
       "    </tr>\n",
       "    <tr>\n",
       "      <th>16</th>\n",
       "      <td>4.945303</td>\n",
       "      <td>-2.146320</td>\n",
       "      <td>2.052111</td>\n",
       "      <td>-0.202878</td>\n",
       "    </tr>\n",
       "    <tr>\n",
       "      <th>17</th>\n",
       "      <td>4.587136</td>\n",
       "      <td>-2.034542</td>\n",
       "      <td>2.065206</td>\n",
       "      <td>1.365207</td>\n",
       "    </tr>\n",
       "    <tr>\n",
       "      <th>18</th>\n",
       "      <td>3.315270</td>\n",
       "      <td>-1.291378</td>\n",
       "      <td>1.673439</td>\n",
       "      <td>1.939542</td>\n",
       "    </tr>\n",
       "    <tr>\n",
       "      <th>19</th>\n",
       "      <td>2.806797</td>\n",
       "      <td>-2.260792</td>\n",
       "      <td>1.740660</td>\n",
       "      <td>1.847018</td>\n",
       "    </tr>\n",
       "    <tr>\n",
       "      <th>20</th>\n",
       "      <td>3.187110</td>\n",
       "      <td>-2.035351</td>\n",
       "      <td>3.442759</td>\n",
       "      <td>2.575141</td>\n",
       "    </tr>\n",
       "    <tr>\n",
       "      <th>21</th>\n",
       "      <td>2.847290</td>\n",
       "      <td>-2.467031</td>\n",
       "      <td>5.948177</td>\n",
       "      <td>2.544862</td>\n",
       "    </tr>\n",
       "    <tr>\n",
       "      <th>22</th>\n",
       "      <td>1.623190</td>\n",
       "      <td>-3.056129</td>\n",
       "      <td>7.487726</td>\n",
       "      <td>4.111687</td>\n",
       "    </tr>\n",
       "    <tr>\n",
       "      <th>23</th>\n",
       "      <td>0.965247</td>\n",
       "      <td>-2.910168</td>\n",
       "      <td>6.549767</td>\n",
       "      <td>3.954608</td>\n",
       "    </tr>\n",
       "    <tr>\n",
       "      <th>24</th>\n",
       "      <td>0.863499</td>\n",
       "      <td>-2.373071</td>\n",
       "      <td>8.637462</td>\n",
       "      <td>5.083749</td>\n",
       "    </tr>\n",
       "    <tr>\n",
       "      <th>25</th>\n",
       "      <td>-0.596597</td>\n",
       "      <td>-1.804218</td>\n",
       "      <td>9.320834</td>\n",
       "      <td>5.643139</td>\n",
       "    </tr>\n",
       "    <tr>\n",
       "      <th>26</th>\n",
       "      <td>-0.314676</td>\n",
       "      <td>-1.960715</td>\n",
       "      <td>10.033036</td>\n",
       "      <td>6.038785</td>\n",
       "    </tr>\n",
       "    <tr>\n",
       "      <th>27</th>\n",
       "      <td>0.833143</td>\n",
       "      <td>-1.078095</td>\n",
       "      <td>9.889011</td>\n",
       "      <td>5.468185</td>\n",
       "    </tr>\n",
       "    <tr>\n",
       "      <th>28</th>\n",
       "      <td>0.287150</td>\n",
       "      <td>0.171427</td>\n",
       "      <td>11.111362</td>\n",
       "      <td>7.063534</td>\n",
       "    </tr>\n",
       "    <tr>\n",
       "      <th>29</th>\n",
       "      <td>0.862638</td>\n",
       "      <td>0.726382</td>\n",
       "      <td>12.852019</td>\n",
       "      <td>7.765335</td>\n",
       "    </tr>\n",
       "    <tr>\n",
       "      <th>...</th>\n",
       "      <td>...</td>\n",
       "      <td>...</td>\n",
       "      <td>...</td>\n",
       "      <td>...</td>\n",
       "    </tr>\n",
       "    <tr>\n",
       "      <th>970</th>\n",
       "      <td>51.965505</td>\n",
       "      <td>-15.069528</td>\n",
       "      <td>-14.099197</td>\n",
       "      <td>13.673548</td>\n",
       "    </tr>\n",
       "    <tr>\n",
       "      <th>971</th>\n",
       "      <td>54.294203</td>\n",
       "      <td>-15.292188</td>\n",
       "      <td>-14.029599</td>\n",
       "      <td>14.012444</td>\n",
       "    </tr>\n",
       "    <tr>\n",
       "      <th>972</th>\n",
       "      <td>53.153860</td>\n",
       "      <td>-15.437101</td>\n",
       "      <td>-14.458339</td>\n",
       "      <td>15.907545</td>\n",
       "    </tr>\n",
       "    <tr>\n",
       "      <th>973</th>\n",
       "      <td>52.883044</td>\n",
       "      <td>-14.335767</td>\n",
       "      <td>-13.316717</td>\n",
       "      <td>14.674655</td>\n",
       "    </tr>\n",
       "    <tr>\n",
       "      <th>974</th>\n",
       "      <td>50.800428</td>\n",
       "      <td>-13.658214</td>\n",
       "      <td>-12.196174</td>\n",
       "      <td>14.811934</td>\n",
       "    </tr>\n",
       "    <tr>\n",
       "      <th>975</th>\n",
       "      <td>48.843486</td>\n",
       "      <td>-13.178352</td>\n",
       "      <td>-12.070185</td>\n",
       "      <td>15.638666</td>\n",
       "    </tr>\n",
       "    <tr>\n",
       "      <th>976</th>\n",
       "      <td>49.196678</td>\n",
       "      <td>-13.296579</td>\n",
       "      <td>-12.254469</td>\n",
       "      <td>16.864071</td>\n",
       "    </tr>\n",
       "    <tr>\n",
       "      <th>977</th>\n",
       "      <td>49.271348</td>\n",
       "      <td>-13.639458</td>\n",
       "      <td>-12.023061</td>\n",
       "      <td>16.962105</td>\n",
       "    </tr>\n",
       "    <tr>\n",
       "      <th>978</th>\n",
       "      <td>51.581610</td>\n",
       "      <td>-13.020107</td>\n",
       "      <td>-13.005879</td>\n",
       "      <td>18.004312</td>\n",
       "    </tr>\n",
       "    <tr>\n",
       "      <th>979</th>\n",
       "      <td>50.111522</td>\n",
       "      <td>-12.304245</td>\n",
       "      <td>-13.594384</td>\n",
       "      <td>18.883530</td>\n",
       "    </tr>\n",
       "    <tr>\n",
       "      <th>980</th>\n",
       "      <td>50.540859</td>\n",
       "      <td>-13.634333</td>\n",
       "      <td>-12.555135</td>\n",
       "      <td>18.076337</td>\n",
       "    </tr>\n",
       "    <tr>\n",
       "      <th>981</th>\n",
       "      <td>49.132545</td>\n",
       "      <td>-12.551697</td>\n",
       "      <td>-11.934261</td>\n",
       "      <td>19.735930</td>\n",
       "    </tr>\n",
       "    <tr>\n",
       "      <th>982</th>\n",
       "      <td>50.492436</td>\n",
       "      <td>-12.612953</td>\n",
       "      <td>-10.638425</td>\n",
       "      <td>19.779191</td>\n",
       "    </tr>\n",
       "    <tr>\n",
       "      <th>983</th>\n",
       "      <td>51.124148</td>\n",
       "      <td>-11.114435</td>\n",
       "      <td>-12.078726</td>\n",
       "      <td>19.585094</td>\n",
       "    </tr>\n",
       "    <tr>\n",
       "      <th>984</th>\n",
       "      <td>51.923077</td>\n",
       "      <td>-11.515703</td>\n",
       "      <td>-10.544044</td>\n",
       "      <td>20.524134</td>\n",
       "    </tr>\n",
       "    <tr>\n",
       "      <th>985</th>\n",
       "      <td>50.144916</td>\n",
       "      <td>-11.992332</td>\n",
       "      <td>-9.750879</td>\n",
       "      <td>19.986380</td>\n",
       "    </tr>\n",
       "    <tr>\n",
       "      <th>986</th>\n",
       "      <td>49.987087</td>\n",
       "      <td>-12.729452</td>\n",
       "      <td>-10.713203</td>\n",
       "      <td>21.250979</td>\n",
       "    </tr>\n",
       "    <tr>\n",
       "      <th>987</th>\n",
       "      <td>50.592145</td>\n",
       "      <td>-12.621450</td>\n",
       "      <td>-11.625609</td>\n",
       "      <td>21.487998</td>\n",
       "    </tr>\n",
       "    <tr>\n",
       "      <th>988</th>\n",
       "      <td>49.454788</td>\n",
       "      <td>-12.160839</td>\n",
       "      <td>-14.067910</td>\n",
       "      <td>23.107169</td>\n",
       "    </tr>\n",
       "    <tr>\n",
       "      <th>989</th>\n",
       "      <td>49.807041</td>\n",
       "      <td>-12.128695</td>\n",
       "      <td>-13.436999</td>\n",
       "      <td>23.998570</td>\n",
       "    </tr>\n",
       "    <tr>\n",
       "      <th>990</th>\n",
       "      <td>50.956045</td>\n",
       "      <td>-11.801067</td>\n",
       "      <td>-13.521168</td>\n",
       "      <td>24.091712</td>\n",
       "    </tr>\n",
       "    <tr>\n",
       "      <th>991</th>\n",
       "      <td>51.358069</td>\n",
       "      <td>-11.693367</td>\n",
       "      <td>-13.447608</td>\n",
       "      <td>23.022984</td>\n",
       "    </tr>\n",
       "    <tr>\n",
       "      <th>992</th>\n",
       "      <td>51.768757</td>\n",
       "      <td>-12.613417</td>\n",
       "      <td>-13.922560</td>\n",
       "      <td>22.130441</td>\n",
       "    </tr>\n",
       "    <tr>\n",
       "      <th>993</th>\n",
       "      <td>52.547109</td>\n",
       "      <td>-13.881182</td>\n",
       "      <td>-13.146411</td>\n",
       "      <td>22.360018</td>\n",
       "    </tr>\n",
       "    <tr>\n",
       "      <th>994</th>\n",
       "      <td>52.906664</td>\n",
       "      <td>-14.716677</td>\n",
       "      <td>-13.926318</td>\n",
       "      <td>22.614435</td>\n",
       "    </tr>\n",
       "    <tr>\n",
       "      <th>995</th>\n",
       "      <td>52.633491</td>\n",
       "      <td>-16.710416</td>\n",
       "      <td>-14.016373</td>\n",
       "      <td>22.708992</td>\n",
       "    </tr>\n",
       "    <tr>\n",
       "      <th>996</th>\n",
       "      <td>52.667156</td>\n",
       "      <td>-19.579669</td>\n",
       "      <td>-14.597769</td>\n",
       "      <td>22.686029</td>\n",
       "    </tr>\n",
       "    <tr>\n",
       "      <th>997</th>\n",
       "      <td>51.476571</td>\n",
       "      <td>-20.253826</td>\n",
       "      <td>-14.901071</td>\n",
       "      <td>23.049789</td>\n",
       "    </tr>\n",
       "    <tr>\n",
       "      <th>998</th>\n",
       "      <td>53.112594</td>\n",
       "      <td>-21.674782</td>\n",
       "      <td>-14.994690</td>\n",
       "      <td>22.173655</td>\n",
       "    </tr>\n",
       "    <tr>\n",
       "      <th>999</th>\n",
       "      <td>53.279559</td>\n",
       "      <td>-21.499767</td>\n",
       "      <td>-13.568133</td>\n",
       "      <td>23.037821</td>\n",
       "    </tr>\n",
       "  </tbody>\n",
       "</table>\n",
       "<p>1000 rows × 4 columns</p>\n",
       "</div>"
      ],
      "text/plain": [
       "             A          B          C          D\n",
       "0    -0.258696  -0.792655  -1.505947   0.923155\n",
       "1    -0.524708   0.030836  -0.763467   0.448218\n",
       "2    -3.120100  -0.082854  -1.052660  -0.420775\n",
       "3    -2.620911  -0.217131   1.780812   0.502880\n",
       "4    -3.822881   0.422752   1.042833  -1.713015\n",
       "5    -2.957291   0.742886   1.464289  -1.360849\n",
       "6    -2.730393  -0.645391   1.568038  -1.853526\n",
       "7    -2.722374  -1.852381   0.732534  -1.408192\n",
       "8    -1.937396  -1.421644   1.201978  -1.861037\n",
       "9    -3.547306  -0.273173   1.676475  -1.407383\n",
       "10   -3.051831  -2.183722   1.816989  -1.474146\n",
       "11   -0.330079  -3.169515   3.882995  -2.086392\n",
       "12   -0.200094  -1.620722   1.959400  -3.056203\n",
       "13    1.744669  -1.698698   1.792964  -3.145141\n",
       "14    2.112601  -3.242169   3.864794  -1.972808\n",
       "15    3.760482  -1.277419   2.920802  -1.424206\n",
       "16    4.945303  -2.146320   2.052111  -0.202878\n",
       "17    4.587136  -2.034542   2.065206   1.365207\n",
       "18    3.315270  -1.291378   1.673439   1.939542\n",
       "19    2.806797  -2.260792   1.740660   1.847018\n",
       "20    3.187110  -2.035351   3.442759   2.575141\n",
       "21    2.847290  -2.467031   5.948177   2.544862\n",
       "22    1.623190  -3.056129   7.487726   4.111687\n",
       "23    0.965247  -2.910168   6.549767   3.954608\n",
       "24    0.863499  -2.373071   8.637462   5.083749\n",
       "25   -0.596597  -1.804218   9.320834   5.643139\n",
       "26   -0.314676  -1.960715  10.033036   6.038785\n",
       "27    0.833143  -1.078095   9.889011   5.468185\n",
       "28    0.287150   0.171427  11.111362   7.063534\n",
       "29    0.862638   0.726382  12.852019   7.765335\n",
       "..         ...        ...        ...        ...\n",
       "970  51.965505 -15.069528 -14.099197  13.673548\n",
       "971  54.294203 -15.292188 -14.029599  14.012444\n",
       "972  53.153860 -15.437101 -14.458339  15.907545\n",
       "973  52.883044 -14.335767 -13.316717  14.674655\n",
       "974  50.800428 -13.658214 -12.196174  14.811934\n",
       "975  48.843486 -13.178352 -12.070185  15.638666\n",
       "976  49.196678 -13.296579 -12.254469  16.864071\n",
       "977  49.271348 -13.639458 -12.023061  16.962105\n",
       "978  51.581610 -13.020107 -13.005879  18.004312\n",
       "979  50.111522 -12.304245 -13.594384  18.883530\n",
       "980  50.540859 -13.634333 -12.555135  18.076337\n",
       "981  49.132545 -12.551697 -11.934261  19.735930\n",
       "982  50.492436 -12.612953 -10.638425  19.779191\n",
       "983  51.124148 -11.114435 -12.078726  19.585094\n",
       "984  51.923077 -11.515703 -10.544044  20.524134\n",
       "985  50.144916 -11.992332  -9.750879  19.986380\n",
       "986  49.987087 -12.729452 -10.713203  21.250979\n",
       "987  50.592145 -12.621450 -11.625609  21.487998\n",
       "988  49.454788 -12.160839 -14.067910  23.107169\n",
       "989  49.807041 -12.128695 -13.436999  23.998570\n",
       "990  50.956045 -11.801067 -13.521168  24.091712\n",
       "991  51.358069 -11.693367 -13.447608  23.022984\n",
       "992  51.768757 -12.613417 -13.922560  22.130441\n",
       "993  52.547109 -13.881182 -13.146411  22.360018\n",
       "994  52.906664 -14.716677 -13.926318  22.614435\n",
       "995  52.633491 -16.710416 -14.016373  22.708992\n",
       "996  52.667156 -19.579669 -14.597769  22.686029\n",
       "997  51.476571 -20.253826 -14.901071  23.049789\n",
       "998  53.112594 -21.674782 -14.994690  22.173655\n",
       "999  53.279559 -21.499767 -13.568133  23.037821\n",
       "\n",
       "[1000 rows x 4 columns]"
      ]
     },
     "execution_count": 338,
     "metadata": {},
     "output_type": "execute_result"
    }
   ],
   "source": [
    "pd.read_csv('foo.csv')"
   ]
  },
  {
   "cell_type": "code",
   "execution_count": 337,
   "metadata": {},
   "outputs": [],
   "source": [
    "# 写入 Excel 文件\n",
    "df.to_excel('foo.xlsx',index=False)"
   ]
  },
  {
   "cell_type": "code",
   "execution_count": 339,
   "metadata": {},
   "outputs": [
    {
     "data": {
      "text/html": [
       "<div>\n",
       "<style scoped>\n",
       "    .dataframe tbody tr th:only-of-type {\n",
       "        vertical-align: middle;\n",
       "    }\n",
       "\n",
       "    .dataframe tbody tr th {\n",
       "        vertical-align: top;\n",
       "    }\n",
       "\n",
       "    .dataframe thead th {\n",
       "        text-align: right;\n",
       "    }\n",
       "</style>\n",
       "<table border=\"1\" class=\"dataframe\">\n",
       "  <thead>\n",
       "    <tr style=\"text-align: right;\">\n",
       "      <th></th>\n",
       "      <th>A</th>\n",
       "      <th>B</th>\n",
       "      <th>C</th>\n",
       "      <th>D</th>\n",
       "    </tr>\n",
       "  </thead>\n",
       "  <tbody>\n",
       "    <tr>\n",
       "      <th>0</th>\n",
       "      <td>-0.258696</td>\n",
       "      <td>-0.792655</td>\n",
       "      <td>-1.505947</td>\n",
       "      <td>0.923155</td>\n",
       "    </tr>\n",
       "    <tr>\n",
       "      <th>1</th>\n",
       "      <td>-0.524708</td>\n",
       "      <td>0.030836</td>\n",
       "      <td>-0.763467</td>\n",
       "      <td>0.448218</td>\n",
       "    </tr>\n",
       "    <tr>\n",
       "      <th>2</th>\n",
       "      <td>-3.120100</td>\n",
       "      <td>-0.082854</td>\n",
       "      <td>-1.052660</td>\n",
       "      <td>-0.420775</td>\n",
       "    </tr>\n",
       "    <tr>\n",
       "      <th>3</th>\n",
       "      <td>-2.620911</td>\n",
       "      <td>-0.217131</td>\n",
       "      <td>1.780812</td>\n",
       "      <td>0.502880</td>\n",
       "    </tr>\n",
       "    <tr>\n",
       "      <th>4</th>\n",
       "      <td>-3.822881</td>\n",
       "      <td>0.422752</td>\n",
       "      <td>1.042833</td>\n",
       "      <td>-1.713015</td>\n",
       "    </tr>\n",
       "    <tr>\n",
       "      <th>5</th>\n",
       "      <td>-2.957291</td>\n",
       "      <td>0.742886</td>\n",
       "      <td>1.464289</td>\n",
       "      <td>-1.360849</td>\n",
       "    </tr>\n",
       "    <tr>\n",
       "      <th>6</th>\n",
       "      <td>-2.730393</td>\n",
       "      <td>-0.645391</td>\n",
       "      <td>1.568038</td>\n",
       "      <td>-1.853526</td>\n",
       "    </tr>\n",
       "    <tr>\n",
       "      <th>7</th>\n",
       "      <td>-2.722374</td>\n",
       "      <td>-1.852381</td>\n",
       "      <td>0.732534</td>\n",
       "      <td>-1.408192</td>\n",
       "    </tr>\n",
       "    <tr>\n",
       "      <th>8</th>\n",
       "      <td>-1.937396</td>\n",
       "      <td>-1.421644</td>\n",
       "      <td>1.201978</td>\n",
       "      <td>-1.861037</td>\n",
       "    </tr>\n",
       "    <tr>\n",
       "      <th>9</th>\n",
       "      <td>-3.547306</td>\n",
       "      <td>-0.273173</td>\n",
       "      <td>1.676475</td>\n",
       "      <td>-1.407383</td>\n",
       "    </tr>\n",
       "    <tr>\n",
       "      <th>10</th>\n",
       "      <td>-3.051831</td>\n",
       "      <td>-2.183722</td>\n",
       "      <td>1.816989</td>\n",
       "      <td>-1.474146</td>\n",
       "    </tr>\n",
       "    <tr>\n",
       "      <th>11</th>\n",
       "      <td>-0.330079</td>\n",
       "      <td>-3.169515</td>\n",
       "      <td>3.882995</td>\n",
       "      <td>-2.086392</td>\n",
       "    </tr>\n",
       "    <tr>\n",
       "      <th>12</th>\n",
       "      <td>-0.200094</td>\n",
       "      <td>-1.620722</td>\n",
       "      <td>1.959400</td>\n",
       "      <td>-3.056203</td>\n",
       "    </tr>\n",
       "    <tr>\n",
       "      <th>13</th>\n",
       "      <td>1.744669</td>\n",
       "      <td>-1.698698</td>\n",
       "      <td>1.792964</td>\n",
       "      <td>-3.145141</td>\n",
       "    </tr>\n",
       "    <tr>\n",
       "      <th>14</th>\n",
       "      <td>2.112601</td>\n",
       "      <td>-3.242169</td>\n",
       "      <td>3.864794</td>\n",
       "      <td>-1.972808</td>\n",
       "    </tr>\n",
       "    <tr>\n",
       "      <th>15</th>\n",
       "      <td>3.760482</td>\n",
       "      <td>-1.277419</td>\n",
       "      <td>2.920802</td>\n",
       "      <td>-1.424206</td>\n",
       "    </tr>\n",
       "    <tr>\n",
       "      <th>16</th>\n",
       "      <td>4.945303</td>\n",
       "      <td>-2.146320</td>\n",
       "      <td>2.052111</td>\n",
       "      <td>-0.202878</td>\n",
       "    </tr>\n",
       "    <tr>\n",
       "      <th>17</th>\n",
       "      <td>4.587136</td>\n",
       "      <td>-2.034542</td>\n",
       "      <td>2.065206</td>\n",
       "      <td>1.365207</td>\n",
       "    </tr>\n",
       "    <tr>\n",
       "      <th>18</th>\n",
       "      <td>3.315270</td>\n",
       "      <td>-1.291378</td>\n",
       "      <td>1.673439</td>\n",
       "      <td>1.939542</td>\n",
       "    </tr>\n",
       "    <tr>\n",
       "      <th>19</th>\n",
       "      <td>2.806797</td>\n",
       "      <td>-2.260792</td>\n",
       "      <td>1.740660</td>\n",
       "      <td>1.847018</td>\n",
       "    </tr>\n",
       "    <tr>\n",
       "      <th>20</th>\n",
       "      <td>3.187110</td>\n",
       "      <td>-2.035351</td>\n",
       "      <td>3.442759</td>\n",
       "      <td>2.575141</td>\n",
       "    </tr>\n",
       "    <tr>\n",
       "      <th>21</th>\n",
       "      <td>2.847290</td>\n",
       "      <td>-2.467031</td>\n",
       "      <td>5.948177</td>\n",
       "      <td>2.544862</td>\n",
       "    </tr>\n",
       "    <tr>\n",
       "      <th>22</th>\n",
       "      <td>1.623190</td>\n",
       "      <td>-3.056129</td>\n",
       "      <td>7.487726</td>\n",
       "      <td>4.111687</td>\n",
       "    </tr>\n",
       "    <tr>\n",
       "      <th>23</th>\n",
       "      <td>0.965247</td>\n",
       "      <td>-2.910168</td>\n",
       "      <td>6.549767</td>\n",
       "      <td>3.954608</td>\n",
       "    </tr>\n",
       "    <tr>\n",
       "      <th>24</th>\n",
       "      <td>0.863499</td>\n",
       "      <td>-2.373071</td>\n",
       "      <td>8.637462</td>\n",
       "      <td>5.083749</td>\n",
       "    </tr>\n",
       "    <tr>\n",
       "      <th>25</th>\n",
       "      <td>-0.596597</td>\n",
       "      <td>-1.804218</td>\n",
       "      <td>9.320834</td>\n",
       "      <td>5.643139</td>\n",
       "    </tr>\n",
       "    <tr>\n",
       "      <th>26</th>\n",
       "      <td>-0.314676</td>\n",
       "      <td>-1.960715</td>\n",
       "      <td>10.033036</td>\n",
       "      <td>6.038785</td>\n",
       "    </tr>\n",
       "    <tr>\n",
       "      <th>27</th>\n",
       "      <td>0.833143</td>\n",
       "      <td>-1.078095</td>\n",
       "      <td>9.889011</td>\n",
       "      <td>5.468185</td>\n",
       "    </tr>\n",
       "    <tr>\n",
       "      <th>28</th>\n",
       "      <td>0.287150</td>\n",
       "      <td>0.171427</td>\n",
       "      <td>11.111362</td>\n",
       "      <td>7.063534</td>\n",
       "    </tr>\n",
       "    <tr>\n",
       "      <th>29</th>\n",
       "      <td>0.862638</td>\n",
       "      <td>0.726382</td>\n",
       "      <td>12.852019</td>\n",
       "      <td>7.765335</td>\n",
       "    </tr>\n",
       "    <tr>\n",
       "      <th>...</th>\n",
       "      <td>...</td>\n",
       "      <td>...</td>\n",
       "      <td>...</td>\n",
       "      <td>...</td>\n",
       "    </tr>\n",
       "    <tr>\n",
       "      <th>970</th>\n",
       "      <td>51.965505</td>\n",
       "      <td>-15.069528</td>\n",
       "      <td>-14.099197</td>\n",
       "      <td>13.673548</td>\n",
       "    </tr>\n",
       "    <tr>\n",
       "      <th>971</th>\n",
       "      <td>54.294203</td>\n",
       "      <td>-15.292188</td>\n",
       "      <td>-14.029599</td>\n",
       "      <td>14.012444</td>\n",
       "    </tr>\n",
       "    <tr>\n",
       "      <th>972</th>\n",
       "      <td>53.153860</td>\n",
       "      <td>-15.437101</td>\n",
       "      <td>-14.458339</td>\n",
       "      <td>15.907545</td>\n",
       "    </tr>\n",
       "    <tr>\n",
       "      <th>973</th>\n",
       "      <td>52.883044</td>\n",
       "      <td>-14.335767</td>\n",
       "      <td>-13.316717</td>\n",
       "      <td>14.674655</td>\n",
       "    </tr>\n",
       "    <tr>\n",
       "      <th>974</th>\n",
       "      <td>50.800428</td>\n",
       "      <td>-13.658214</td>\n",
       "      <td>-12.196174</td>\n",
       "      <td>14.811934</td>\n",
       "    </tr>\n",
       "    <tr>\n",
       "      <th>975</th>\n",
       "      <td>48.843486</td>\n",
       "      <td>-13.178352</td>\n",
       "      <td>-12.070185</td>\n",
       "      <td>15.638666</td>\n",
       "    </tr>\n",
       "    <tr>\n",
       "      <th>976</th>\n",
       "      <td>49.196678</td>\n",
       "      <td>-13.296579</td>\n",
       "      <td>-12.254469</td>\n",
       "      <td>16.864071</td>\n",
       "    </tr>\n",
       "    <tr>\n",
       "      <th>977</th>\n",
       "      <td>49.271348</td>\n",
       "      <td>-13.639458</td>\n",
       "      <td>-12.023061</td>\n",
       "      <td>16.962105</td>\n",
       "    </tr>\n",
       "    <tr>\n",
       "      <th>978</th>\n",
       "      <td>51.581610</td>\n",
       "      <td>-13.020107</td>\n",
       "      <td>-13.005879</td>\n",
       "      <td>18.004312</td>\n",
       "    </tr>\n",
       "    <tr>\n",
       "      <th>979</th>\n",
       "      <td>50.111522</td>\n",
       "      <td>-12.304245</td>\n",
       "      <td>-13.594384</td>\n",
       "      <td>18.883530</td>\n",
       "    </tr>\n",
       "    <tr>\n",
       "      <th>980</th>\n",
       "      <td>50.540859</td>\n",
       "      <td>-13.634333</td>\n",
       "      <td>-12.555135</td>\n",
       "      <td>18.076337</td>\n",
       "    </tr>\n",
       "    <tr>\n",
       "      <th>981</th>\n",
       "      <td>49.132545</td>\n",
       "      <td>-12.551697</td>\n",
       "      <td>-11.934261</td>\n",
       "      <td>19.735930</td>\n",
       "    </tr>\n",
       "    <tr>\n",
       "      <th>982</th>\n",
       "      <td>50.492436</td>\n",
       "      <td>-12.612953</td>\n",
       "      <td>-10.638425</td>\n",
       "      <td>19.779191</td>\n",
       "    </tr>\n",
       "    <tr>\n",
       "      <th>983</th>\n",
       "      <td>51.124148</td>\n",
       "      <td>-11.114435</td>\n",
       "      <td>-12.078726</td>\n",
       "      <td>19.585094</td>\n",
       "    </tr>\n",
       "    <tr>\n",
       "      <th>984</th>\n",
       "      <td>51.923077</td>\n",
       "      <td>-11.515703</td>\n",
       "      <td>-10.544044</td>\n",
       "      <td>20.524134</td>\n",
       "    </tr>\n",
       "    <tr>\n",
       "      <th>985</th>\n",
       "      <td>50.144916</td>\n",
       "      <td>-11.992332</td>\n",
       "      <td>-9.750879</td>\n",
       "      <td>19.986380</td>\n",
       "    </tr>\n",
       "    <tr>\n",
       "      <th>986</th>\n",
       "      <td>49.987087</td>\n",
       "      <td>-12.729452</td>\n",
       "      <td>-10.713203</td>\n",
       "      <td>21.250979</td>\n",
       "    </tr>\n",
       "    <tr>\n",
       "      <th>987</th>\n",
       "      <td>50.592145</td>\n",
       "      <td>-12.621450</td>\n",
       "      <td>-11.625609</td>\n",
       "      <td>21.487998</td>\n",
       "    </tr>\n",
       "    <tr>\n",
       "      <th>988</th>\n",
       "      <td>49.454788</td>\n",
       "      <td>-12.160839</td>\n",
       "      <td>-14.067910</td>\n",
       "      <td>23.107169</td>\n",
       "    </tr>\n",
       "    <tr>\n",
       "      <th>989</th>\n",
       "      <td>49.807041</td>\n",
       "      <td>-12.128695</td>\n",
       "      <td>-13.436999</td>\n",
       "      <td>23.998570</td>\n",
       "    </tr>\n",
       "    <tr>\n",
       "      <th>990</th>\n",
       "      <td>50.956045</td>\n",
       "      <td>-11.801067</td>\n",
       "      <td>-13.521168</td>\n",
       "      <td>24.091712</td>\n",
       "    </tr>\n",
       "    <tr>\n",
       "      <th>991</th>\n",
       "      <td>51.358069</td>\n",
       "      <td>-11.693367</td>\n",
       "      <td>-13.447608</td>\n",
       "      <td>23.022984</td>\n",
       "    </tr>\n",
       "    <tr>\n",
       "      <th>992</th>\n",
       "      <td>51.768757</td>\n",
       "      <td>-12.613417</td>\n",
       "      <td>-13.922560</td>\n",
       "      <td>22.130441</td>\n",
       "    </tr>\n",
       "    <tr>\n",
       "      <th>993</th>\n",
       "      <td>52.547109</td>\n",
       "      <td>-13.881182</td>\n",
       "      <td>-13.146411</td>\n",
       "      <td>22.360018</td>\n",
       "    </tr>\n",
       "    <tr>\n",
       "      <th>994</th>\n",
       "      <td>52.906664</td>\n",
       "      <td>-14.716677</td>\n",
       "      <td>-13.926318</td>\n",
       "      <td>22.614435</td>\n",
       "    </tr>\n",
       "    <tr>\n",
       "      <th>995</th>\n",
       "      <td>52.633491</td>\n",
       "      <td>-16.710416</td>\n",
       "      <td>-14.016373</td>\n",
       "      <td>22.708992</td>\n",
       "    </tr>\n",
       "    <tr>\n",
       "      <th>996</th>\n",
       "      <td>52.667156</td>\n",
       "      <td>-19.579669</td>\n",
       "      <td>-14.597769</td>\n",
       "      <td>22.686029</td>\n",
       "    </tr>\n",
       "    <tr>\n",
       "      <th>997</th>\n",
       "      <td>51.476571</td>\n",
       "      <td>-20.253826</td>\n",
       "      <td>-14.901071</td>\n",
       "      <td>23.049789</td>\n",
       "    </tr>\n",
       "    <tr>\n",
       "      <th>998</th>\n",
       "      <td>53.112594</td>\n",
       "      <td>-21.674782</td>\n",
       "      <td>-14.994690</td>\n",
       "      <td>22.173655</td>\n",
       "    </tr>\n",
       "    <tr>\n",
       "      <th>999</th>\n",
       "      <td>53.279559</td>\n",
       "      <td>-21.499767</td>\n",
       "      <td>-13.568133</td>\n",
       "      <td>23.037821</td>\n",
       "    </tr>\n",
       "  </tbody>\n",
       "</table>\n",
       "<p>1000 rows × 4 columns</p>\n",
       "</div>"
      ],
      "text/plain": [
       "             A          B          C          D\n",
       "0    -0.258696  -0.792655  -1.505947   0.923155\n",
       "1    -0.524708   0.030836  -0.763467   0.448218\n",
       "2    -3.120100  -0.082854  -1.052660  -0.420775\n",
       "3    -2.620911  -0.217131   1.780812   0.502880\n",
       "4    -3.822881   0.422752   1.042833  -1.713015\n",
       "5    -2.957291   0.742886   1.464289  -1.360849\n",
       "6    -2.730393  -0.645391   1.568038  -1.853526\n",
       "7    -2.722374  -1.852381   0.732534  -1.408192\n",
       "8    -1.937396  -1.421644   1.201978  -1.861037\n",
       "9    -3.547306  -0.273173   1.676475  -1.407383\n",
       "10   -3.051831  -2.183722   1.816989  -1.474146\n",
       "11   -0.330079  -3.169515   3.882995  -2.086392\n",
       "12   -0.200094  -1.620722   1.959400  -3.056203\n",
       "13    1.744669  -1.698698   1.792964  -3.145141\n",
       "14    2.112601  -3.242169   3.864794  -1.972808\n",
       "15    3.760482  -1.277419   2.920802  -1.424206\n",
       "16    4.945303  -2.146320   2.052111  -0.202878\n",
       "17    4.587136  -2.034542   2.065206   1.365207\n",
       "18    3.315270  -1.291378   1.673439   1.939542\n",
       "19    2.806797  -2.260792   1.740660   1.847018\n",
       "20    3.187110  -2.035351   3.442759   2.575141\n",
       "21    2.847290  -2.467031   5.948177   2.544862\n",
       "22    1.623190  -3.056129   7.487726   4.111687\n",
       "23    0.965247  -2.910168   6.549767   3.954608\n",
       "24    0.863499  -2.373071   8.637462   5.083749\n",
       "25   -0.596597  -1.804218   9.320834   5.643139\n",
       "26   -0.314676  -1.960715  10.033036   6.038785\n",
       "27    0.833143  -1.078095   9.889011   5.468185\n",
       "28    0.287150   0.171427  11.111362   7.063534\n",
       "29    0.862638   0.726382  12.852019   7.765335\n",
       "..         ...        ...        ...        ...\n",
       "970  51.965505 -15.069528 -14.099197  13.673548\n",
       "971  54.294203 -15.292188 -14.029599  14.012444\n",
       "972  53.153860 -15.437101 -14.458339  15.907545\n",
       "973  52.883044 -14.335767 -13.316717  14.674655\n",
       "974  50.800428 -13.658214 -12.196174  14.811934\n",
       "975  48.843486 -13.178352 -12.070185  15.638666\n",
       "976  49.196678 -13.296579 -12.254469  16.864071\n",
       "977  49.271348 -13.639458 -12.023061  16.962105\n",
       "978  51.581610 -13.020107 -13.005879  18.004312\n",
       "979  50.111522 -12.304245 -13.594384  18.883530\n",
       "980  50.540859 -13.634333 -12.555135  18.076337\n",
       "981  49.132545 -12.551697 -11.934261  19.735930\n",
       "982  50.492436 -12.612953 -10.638425  19.779191\n",
       "983  51.124148 -11.114435 -12.078726  19.585094\n",
       "984  51.923077 -11.515703 -10.544044  20.524134\n",
       "985  50.144916 -11.992332  -9.750879  19.986380\n",
       "986  49.987087 -12.729452 -10.713203  21.250979\n",
       "987  50.592145 -12.621450 -11.625609  21.487998\n",
       "988  49.454788 -12.160839 -14.067910  23.107169\n",
       "989  49.807041 -12.128695 -13.436999  23.998570\n",
       "990  50.956045 -11.801067 -13.521168  24.091712\n",
       "991  51.358069 -11.693367 -13.447608  23.022984\n",
       "992  51.768757 -12.613417 -13.922560  22.130441\n",
       "993  52.547109 -13.881182 -13.146411  22.360018\n",
       "994  52.906664 -14.716677 -13.926318  22.614435\n",
       "995  52.633491 -16.710416 -14.016373  22.708992\n",
       "996  52.667156 -19.579669 -14.597769  22.686029\n",
       "997  51.476571 -20.253826 -14.901071  23.049789\n",
       "998  53.112594 -21.674782 -14.994690  22.173655\n",
       "999  53.279559 -21.499767 -13.568133  23.037821\n",
       "\n",
       "[1000 rows x 4 columns]"
      ]
     },
     "execution_count": 339,
     "metadata": {},
     "output_type": "execute_result"
    }
   ],
   "source": [
    "pd.read_excel('foo.xlsx')"
   ]
  }
 ],
 "metadata": {
  "kernelspec": {
   "display_name": "Python 3",
   "language": "python",
   "name": "python3"
  },
  "language_info": {
   "codemirror_mode": {
    "name": "ipython",
    "version": 3
   },
   "file_extension": ".py",
   "mimetype": "text/x-python",
   "name": "python",
   "nbconvert_exporter": "python",
   "pygments_lexer": "ipython3",
   "version": "3.7.0"
  }
 },
 "nbformat": 4,
 "nbformat_minor": 2
}
